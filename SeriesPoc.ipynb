{
 "cells": [
  {
   "cell_type": "code",
   "execution_count": 2,
   "id": "ee7884fe",
   "metadata": {},
   "outputs": [],
   "source": [
    "%load_ext autoreload\n",
    "%autoreload 2\n"
   ]
  },
  {
   "cell_type": "code",
   "execution_count": 3,
   "id": "e91839a2",
   "metadata": {},
   "outputs": [],
   "source": [
    "from atrax import Atrax as tx"
   ]
  },
  {
   "cell_type": "code",
   "execution_count": 4,
   "id": "e2a05c08",
   "metadata": {},
   "outputs": [
    {
     "data": {
      "text/html": [
       "<table style='border-collapse: collapse;'><tr><td style=''>0</td><td style=''>1</td></tr><tr><td style=''>1</td><td style=''>2</td></tr><tr><td style=''>2</td><td style=''>3</td></tr><tr><td style=''>3</td><td style=''>4</td></tr><tr><td colspan='2' style='font-size:16px;'><strong>Name: , dtype: int<strong></td></tr></table>"
      ],
      "text/plain": [
       "0   1\n",
       "1   2\n",
       "2   3\n",
       "3   4\n",
       "Name: , dtype: int"
      ]
     },
     "execution_count": 4,
     "metadata": {},
     "output_type": "execute_result"
    }
   ],
   "source": [
    "s = tx.Series([1,2,3,4])\n",
    "s"
   ]
  },
  {
   "cell_type": "code",
   "execution_count": 5,
   "id": "fadd78c7",
   "metadata": {},
   "outputs": [],
   "source": [
    "s = tx.Series(['apple', 'bananna', 'cherry'])"
   ]
  },
  {
   "cell_type": "code",
   "execution_count": 9,
   "id": "44a73d28",
   "metadata": {},
   "outputs": [],
   "source": [
    "s = tx.Series([10, 20, 30], index=['a', 'b', 'c'])"
   ]
  },
  {
   "cell_type": "code",
   "execution_count": 12,
   "id": "5f63129a",
   "metadata": {},
   "outputs": [
    {
     "data": {
      "text/plain": [
       "'int'"
      ]
     },
     "execution_count": 12,
     "metadata": {},
     "output_type": "execute_result"
    }
   ],
   "source": [
    "s.dtype"
   ]
  },
  {
   "cell_type": "code",
   "execution_count": 13,
   "id": "da241e9b",
   "metadata": {},
   "outputs": [
    {
     "data": {
      "text/plain": [
       "['apple', 'bananna', 'cherry']"
      ]
     },
     "execution_count": 13,
     "metadata": {},
     "output_type": "execute_result"
    }
   ],
   "source": [
    "s.data"
   ]
  },
  {
   "cell_type": "code",
   "execution_count": 14,
   "id": "9cf887a4",
   "metadata": {},
   "outputs": [
    {
     "data": {
      "text/plain": [
       "'object'"
      ]
     },
     "execution_count": 14,
     "metadata": {},
     "output_type": "execute_result"
    }
   ],
   "source": [
    "s.dtype"
   ]
  },
  {
   "cell_type": "code",
   "execution_count": 15,
   "id": "0a9ea638",
   "metadata": {},
   "outputs": [
    {
     "data": {
      "text/plain": [
       "3"
      ]
     },
     "execution_count": 15,
     "metadata": {},
     "output_type": "execute_result"
    }
   ],
   "source": [
    "len(s)"
   ]
  },
  {
   "cell_type": "code",
   "execution_count": 13,
   "id": "79e9a97d",
   "metadata": {},
   "outputs": [],
   "source": [
    "s = tx.Series([1, 5, 10], name=\"numbers\")"
   ]
  },
  {
   "cell_type": "code",
   "execution_count": 14,
   "id": "1be8edd4",
   "metadata": {},
   "outputs": [
    {
     "data": {
      "text/html": [
       "<table style='border-collapse: collapse;'><tr><td style=''>0</td><td style=''>1</td></tr><tr><td style=''>1</td><td style=''>5</td></tr><tr><td style=''>2</td><td style=''>10</td></tr><tr><td colspan='2' style='font-size:16px;'><strong>Name: numbers, dtype: int<strong></td></tr></table>"
      ],
      "text/plain": [
       "0   1\n",
       "1   5\n",
       "2   10\n",
       "Name: numbers, dtype: int"
      ]
     },
     "execution_count": 14,
     "metadata": {},
     "output_type": "execute_result"
    }
   ],
   "source": [
    "s"
   ]
  },
  {
   "cell_type": "code",
   "execution_count": 17,
   "id": "1dc22769",
   "metadata": {},
   "outputs": [],
   "source": [
    "s1 = tx.Series([1,2,3])\n",
    "r = s1 + 10"
   ]
  },
  {
   "cell_type": "code",
   "execution_count": 18,
   "id": "c547f95e",
   "metadata": {},
   "outputs": [
    {
     "data": {
      "text/plain": [
       "[11, 12, 13]"
      ]
     },
     "execution_count": 18,
     "metadata": {},
     "output_type": "execute_result"
    }
   ],
   "source": [
    "r.data"
   ]
  },
  {
   "cell_type": "code",
   "execution_count": 20,
   "id": "ab571611",
   "metadata": {},
   "outputs": [
    {
     "name": "stdout",
     "output_type": "stream",
     "text": [
      "[1, 2, 3]\n",
      "Unique(numbers)\n"
     ]
    }
   ],
   "source": [
    "s = tx.Series([1, 2, 2, 3, 3, 3], name=\"numbers\")\n",
    "result = s.unique()\n",
    "print(result.data)\n",
    "print(result.name)"
   ]
  },
  {
   "cell_type": "code",
   "execution_count": 21,
   "id": "6c43edb4",
   "metadata": {},
   "outputs": [
    {
     "data": {
      "text/plain": [
       "[None, None, None]"
      ]
     },
     "execution_count": 21,
     "metadata": {},
     "output_type": "execute_result"
    }
   ],
   "source": [
    "s = tx.Series([1, 2, 3], name=\"ints\")\n",
    "result = s.astype('float')\n",
    "result.data"
   ]
  },
  {
   "cell_type": "code",
   "execution_count": 25,
   "id": "5572ad22",
   "metadata": {},
   "outputs": [
    {
     "data": {
      "text/plain": [
       "[None, 123, None]"
      ]
     },
     "execution_count": 25,
     "metadata": {},
     "output_type": "execute_result"
    }
   ],
   "source": [
    "s = tx.Series([\"abc\", \"123\", \"4.5\"])\n",
    "result = s.astype(int)\n",
    "result.data"
   ]
  },
  {
   "cell_type": "code",
   "execution_count": 27,
   "id": "828b6db7",
   "metadata": {},
   "outputs": [
    {
     "data": {
      "text/plain": [
       "[1, 2, 3, 4, 5]"
      ]
     },
     "execution_count": 27,
     "metadata": {},
     "output_type": "execute_result"
    }
   ],
   "source": [
    "s = tx.Series([1, 2, 3, 4, 5], name=\"test\")\n",
    "r = s.rolling(window=3)\n",
    "r.data"
   ]
  },
  {
   "cell_type": "code",
   "execution_count": 28,
   "id": "a903b6d1",
   "metadata": {},
   "outputs": [],
   "source": [
    "ds = tx.DataSet([\n",
    "    {\"date\": \"2024-01-01\", \"val\": 100},\n",
    "    {\"date\": \"2024-01-02\", \"val\": 200},\n",
    "])\n",
    "ds.set_index(\"date\")\n",
    "result = ds.loc[\"2024-01-02\"]"
   ]
  },
  {
   "cell_type": "code",
   "execution_count": 30,
   "id": "da2daa5e",
   "metadata": {},
   "outputs": [
    {
     "data": {
      "text/html": [
       "\n",
       "        <table>\n",
       "            <thead><tr><th>date</th><th>val</th></tr></thead>\n",
       "            <tbody><tr><td>2024-01-02</td><td>200</td></tr></tbody>\n",
       "        </table>\n",
       "        "
      ],
      "text/plain": [
       "date, val\n",
       "2024-01-02, 200"
      ]
     },
     "execution_count": 30,
     "metadata": {},
     "output_type": "execute_result"
    }
   ],
   "source": [
    "result"
   ]
  },
  {
   "cell_type": "code",
   "execution_count": 29,
   "id": "a4723ae0",
   "metadata": {},
   "outputs": [
    {
     "data": {
      "text/plain": [
       "(1, 2)"
      ]
     },
     "execution_count": 29,
     "metadata": {},
     "output_type": "execute_result"
    }
   ],
   "source": [
    "result.shape()"
   ]
  },
  {
   "cell_type": "code",
   "execution_count": 31,
   "id": "e0d17621",
   "metadata": {},
   "outputs": [
    {
     "data": {
      "text/plain": [
       "['date', 'val']"
      ]
     },
     "execution_count": 31,
     "metadata": {},
     "output_type": "execute_result"
    }
   ],
   "source": [
    "ds.columns"
   ]
  },
  {
   "cell_type": "code",
   "execution_count": 32,
   "id": "3380b8c7",
   "metadata": {},
   "outputs": [
    {
     "ename": "TypeError",
     "evalue": "'list' object is not callable",
     "output_type": "error",
     "traceback": [
      "\u001b[31m---------------------------------------------------------------------------\u001b[39m",
      "\u001b[31mTypeError\u001b[39m                                 Traceback (most recent call last)",
      "\u001b[36mCell\u001b[39m\u001b[36m \u001b[39m\u001b[32mIn[32]\u001b[39m\u001b[32m, line 1\u001b[39m\n\u001b[32m----> \u001b[39m\u001b[32m1\u001b[39m \u001b[43mds\u001b[49m\u001b[43m.\u001b[49m\u001b[43mcolumns\u001b[49m\u001b[43m(\u001b[49m\u001b[43m)\u001b[49m\n",
      "\u001b[31mTypeError\u001b[39m: 'list' object is not callable"
     ]
    }
   ],
   "source": [
    "ds.columns()"
   ]
  },
  {
   "cell_type": "code",
   "execution_count": 33,
   "id": "c5d071f5",
   "metadata": {},
   "outputs": [
    {
     "data": {
      "text/html": [
       "\n",
       "        <table>\n",
       "            <thead><tr><th>date</th><th>val</th></tr></thead>\n",
       "            <tbody><tr><td>2024-01-01</td><td>100</td></tr><tr><td>2024-01-02</td><td>200</td></tr></tbody>\n",
       "        </table>\n",
       "        "
      ],
      "text/plain": [
       "date, val\n",
       "2024-01-01, 100\n",
       "2024-01-02, 200"
      ]
     },
     "execution_count": 33,
     "metadata": {},
     "output_type": "execute_result"
    }
   ],
   "source": [
    "ds.head()"
   ]
  },
  {
   "cell_type": "code",
   "execution_count": 35,
   "id": "a5ef1135",
   "metadata": {},
   "outputs": [],
   "source": [
    "from atrax.core.qcut import qcut"
   ]
  },
  {
   "cell_type": "code",
   "execution_count": 36,
   "id": "8b40d989",
   "metadata": {},
   "outputs": [
    {
     "data": {
      "text/plain": [
       "[0, 0, 0, 1, 1, 2, 2, 3]"
      ]
     },
     "execution_count": 36,
     "metadata": {},
     "output_type": "execute_result"
    }
   ],
   "source": [
    "data = [1, 2, 3, 4, 5, 6, 7, 8]\n",
    "result = qcut(data, q=4)\n",
    "result"
   ]
  },
  {
   "cell_type": "code",
   "execution_count": 37,
   "id": "4c715f20",
   "metadata": {},
   "outputs": [
    {
     "data": {
      "text/plain": [
       "['low', 'low', 'med-low', 'med-high']"
      ]
     },
     "execution_count": 37,
     "metadata": {},
     "output_type": "execute_result"
    }
   ],
   "source": [
    "data = [10, 20, 30, 40]\n",
    "labels = ['low', 'med-low', 'med-high', 'high']\n",
    "result = qcut(data, q=4, labels=labels)\n",
    "result"
   ]
  },
  {
   "cell_type": "code",
   "execution_count": 38,
   "id": "d86dc8e1",
   "metadata": {},
   "outputs": [],
   "source": [
    "data = [1, 1, 1, 1, 10]\n",
    "labels = ['A', 'B', 'C', 'D']\n",
    "result = qcut(data, q=4, labels=labels)"
   ]
  }
 ],
 "metadata": {
  "kernelspec": {
   "display_name": "env",
   "language": "python",
   "name": "python3"
  },
  "language_info": {
   "codemirror_mode": {
    "name": "ipython",
    "version": 3
   },
   "file_extension": ".py",
   "mimetype": "text/x-python",
   "name": "python",
   "nbconvert_exporter": "python",
   "pygments_lexer": "ipython3",
   "version": "3.11.4"
  }
 },
 "nbformat": 4,
 "nbformat_minor": 5
}
