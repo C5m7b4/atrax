{
 "cells": [
  {
   "cell_type": "code",
   "execution_count": 4,
   "id": "ee7884fe",
   "metadata": {},
   "outputs": [
    {
     "name": "stdout",
     "output_type": "stream",
     "text": [
      "The autoreload extension is already loaded. To reload it, use:\n",
      "  %reload_ext autoreload\n"
     ]
    }
   ],
   "source": [
    "%load_ext autoreload\n",
    "%autoreload 2\n"
   ]
  },
  {
   "cell_type": "code",
   "execution_count": 5,
   "id": "e91839a2",
   "metadata": {},
   "outputs": [],
   "source": [
    "from atrax import Atrax as tx"
   ]
  },
  {
   "cell_type": "code",
   "execution_count": 6,
   "id": "e2a05c08",
   "metadata": {},
   "outputs": [
    {
     "data": {
      "text/html": [
       "<table style='border-collapse: collapse;'><tr><td style=''>0</td><td style=''>1</td></tr><tr><td style=''>1</td><td style=''>2</td></tr><tr><td style=''>2</td><td style=''>3</td></tr><tr><td style=''>3</td><td style=''>4</td></tr><tr><td colspan='2' style='color:blue; font-size:30px;'><strong>Name: , dtype: int<strong></td></tr></table>"
      ],
      "text/plain": [
       "0   1\n",
       "1   2\n",
       "2   3\n",
       "3   4\n",
       "Name: , dtype: int"
      ]
     },
     "execution_count": 6,
     "metadata": {},
     "output_type": "execute_result"
    }
   ],
   "source": [
    "s = tx.Series([1,2,3,4])\n",
    "s"
   ]
  },
  {
   "cell_type": "code",
   "execution_count": null,
   "id": "fadd78c7",
   "metadata": {},
   "outputs": [],
   "source": []
  }
 ],
 "metadata": {
  "kernelspec": {
   "display_name": "env",
   "language": "python",
   "name": "python3"
  },
  "language_info": {
   "codemirror_mode": {
    "name": "ipython",
    "version": 3
   },
   "file_extension": ".py",
   "mimetype": "text/x-python",
   "name": "python",
   "nbconvert_exporter": "python",
   "pygments_lexer": "ipython3",
   "version": "3.11.4"
  }
 },
 "nbformat": 4,
 "nbformat_minor": 5
}
