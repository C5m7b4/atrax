{
 "cells": [
  {
   "cell_type": "code",
   "execution_count": 1,
   "id": "ee7884fe",
   "metadata": {},
   "outputs": [],
   "source": [
    "%load_ext autoreload\n",
    "%autoreload 2\n"
   ]
  },
  {
   "cell_type": "code",
   "execution_count": 1,
   "id": "e91839a2",
   "metadata": {},
   "outputs": [
    {
     "ename": "ModuleNotFoundError",
     "evalue": "No module named 'core'",
     "output_type": "error",
     "traceback": [
      "\u001b[31m---------------------------------------------------------------------------\u001b[39m",
      "\u001b[31mModuleNotFoundError\u001b[39m                       Traceback (most recent call last)",
      "\u001b[36mCell\u001b[39m\u001b[36m \u001b[39m\u001b[32mIn[1]\u001b[39m\u001b[32m, line 1\u001b[39m\n\u001b[32m----> \u001b[39m\u001b[32m1\u001b[39m \u001b[38;5;28;01mfrom\u001b[39;00m\u001b[38;5;250m \u001b[39m\u001b[34;01matrax\u001b[39;00m\u001b[38;5;250m \u001b[39m\u001b[38;5;28;01mimport\u001b[39;00m Atrax \u001b[38;5;28;01mas\u001b[39;00m tx\n\u001b[32m      2\u001b[39m \u001b[38;5;28;01mimport\u001b[39;00m\u001b[38;5;250m \u001b[39m\u001b[34;01mrandom\u001b[39;00m\n",
      "\u001b[36mFile \u001b[39m\u001b[32mi:\\atrax-lib\\atrax\\__init__.py:12\u001b[39m\n\u001b[32m     10\u001b[39m \u001b[38;5;28;01mfrom\u001b[39;00m\u001b[38;5;250m \u001b[39m\u001b[34;01m.\u001b[39;00m\u001b[34;01mcore\u001b[39;00m\u001b[34;01m.\u001b[39;00m\u001b[34;01mqcut\u001b[39;00m\u001b[38;5;250m \u001b[39m\u001b[38;5;28;01mimport\u001b[39;00m qcut\n\u001b[32m     11\u001b[39m \u001b[38;5;28;01mfrom\u001b[39;00m\u001b[38;5;250m \u001b[39m\u001b[34;01m.\u001b[39;00m\u001b[34;01mcore\u001b[39;00m\u001b[34;01m.\u001b[39;00m\u001b[34;01mcut\u001b[39;00m\u001b[38;5;250m \u001b[39m\u001b[38;5;28;01mimport\u001b[39;00m cut\n\u001b[32m---> \u001b[39m\u001b[32m12\u001b[39m \u001b[38;5;28;01mfrom\u001b[39;00m\u001b[38;5;250m \u001b[39m\u001b[34;01mcore\u001b[39;00m\u001b[38;5;250m \u001b[39m\u001b[38;5;28;01mimport\u001b[39;00m to_datetime\n\u001b[32m     14\u001b[39m \u001b[38;5;28;01mclass\u001b[39;00m\u001b[38;5;250m \u001b[39m\u001b[34;01mAtrax\u001b[39;00m:\n\u001b[32m     15\u001b[39m     Series = Series\n",
      "\u001b[31mModuleNotFoundError\u001b[39m: No module named 'core'"
     ]
    }
   ],
   "source": [
    "from atrax import Atrax as tx\n",
    "import random"
   ]
  },
  {
   "cell_type": "markdown",
   "id": "d5aef451",
   "metadata": {},
   "source": [
    "#### fake data"
   ]
  },
  {
   "cell_type": "code",
   "execution_count": 3,
   "id": "3970b4cb",
   "metadata": {},
   "outputs": [],
   "source": [
    "items = [\n",
    "    {\n",
    "        'transaction_id':1,\n",
    "        'product_code': '4011',\n",
    "        'product_description': 'Bananas',\n",
    "        'qty': 5,\n",
    "        'sales': 10.00\n",
    "    },\n",
    "    {\n",
    "        'transaction_id':1,\n",
    "        'product_code': '1',\n",
    "        'product_description': 'Bread',\n",
    "        'qty': 5,\n",
    "        'sales': 10.00\n",
    "    },\n",
    "    {\n",
    "        'transaction_id':1,\n",
    "        'product_code': '2',\n",
    "        'product_description': 'Milk',\n",
    "        'qty': 5,\n",
    "        'sales': 10.00\n",
    "    },\n",
    "    {\n",
    "        'transaction_id':1,\n",
    "        'product_code': '3',\n",
    "        'product_description': 'Cookies',\n",
    "        'qty': 5,\n",
    "        'sales': 10.00\n",
    "    },  \n",
    "    {\n",
    "        'transaction_id':1,\n",
    "        'product_code': '4',\n",
    "        'product_description': 'Hot Dogs',\n",
    "        'qty': 5,\n",
    "        'sales': 10.00\n",
    "    }, \n",
    "    {\n",
    "        'transaction_id':1,\n",
    "        'product_code': '5',\n",
    "        'product_description': 'HD Buns',\n",
    "        'qty': 5,\n",
    "        'sales': 10.00\n",
    "    }, \n",
    "    {\n",
    "        'transaction_id':1,\n",
    "        'product_code': '6',\n",
    "        'product_description': 'Ketchup',\n",
    "        'qty': 5,\n",
    "        'sales': 10.00\n",
    "    }, \n",
    "    {\n",
    "        'transaction_id':1,\n",
    "        'product_code': '7',\n",
    "        'product_description': 'Mustard',\n",
    "        'qty': 5,\n",
    "        'sales': 10.00\n",
    "    },  \n",
    "    {\n",
    "        'transaction_id':1,\n",
    "        'product_code': '8',\n",
    "        'product_description': 'Pickles',\n",
    "        'qty': 5,\n",
    "        'sales': 10.00\n",
    "    },    \n",
    "    {\n",
    "        'transaction_id':1,\n",
    "        'product_code': '9',\n",
    "        'product_description': 'Relish',\n",
    "        'qty': 5,\n",
    "        'sales': 10.00\n",
    "    },  \n",
    "    {\n",
    "        'transaction_id':1,\n",
    "        'product_code': '10',\n",
    "        'product_description': 'HB Buns',\n",
    "        'qty': 5,\n",
    "        'sales': 10.00\n",
    "    },    \n",
    "    {\n",
    "        'transaction_id':1,\n",
    "        'product_code': '11',\n",
    "        'product_description': 'Hamburgers',\n",
    "        'qty': 5,\n",
    "        'sales': 10.00\n",
    "    },   \n",
    "    {\n",
    "        'transaction_id':1,\n",
    "        'product_code': '12',\n",
    "        'product_description': 'Cheese',\n",
    "        'qty': 5,\n",
    "        'sales': 10.00\n",
    "    }, \n",
    "    {\n",
    "        'transaction_id':1,\n",
    "        'product_code': '13',\n",
    "        'product_description': 'Beer',\n",
    "        'qty': 5,\n",
    "        'sales': 10.00\n",
    "    },    \n",
    "    {\n",
    "        'transaction_id':1,\n",
    "        'product_code': '14',\n",
    "        'product_description': 'Wine',\n",
    "        'qty': 5,\n",
    "        'sales': 10.00\n",
    "    },   \n",
    "    {\n",
    "        'transaction_id':1,\n",
    "        'product_code': '15',\n",
    "        'product_description': 'Diapers',\n",
    "        'qty': 5,\n",
    "        'sales': 10.00\n",
    "    },                                    \n",
    "\n",
    "]"
   ]
  },
  {
   "cell_type": "markdown",
   "id": "4b287de9",
   "metadata": {},
   "source": [
    "#### generate transactions"
   ]
  },
  {
   "cell_type": "code",
   "execution_count": 4,
   "id": "28e1eb78",
   "metadata": {},
   "outputs": [],
   "source": [
    "def generate_transactions(base_items, dtc=10, max_items=8, mqpi=10, minia=.99, maxia=5.99):\n",
    "    \"\"\"Generate a random set of transactions using a base dataset of items to choose from.\n",
    "    \n",
    "    Args:\n",
    "        base_items (list): list containing the base dataset of items.\n",
    "        dtc (int): Desired Transaction Count - Number of transactions to generate.\n",
    "        max_items (int): Maximum number of items per transaction.\n",
    "        mqpi (int): Maximum quantity per item.\n",
    "        minia (float): Minimum item price for each item.\n",
    "        maxia (float): Maximum item price for each item.\n",
    "\n",
    "    \"\"\"\n",
    "\n",
    "    transaction_list = []\n",
    "    for tx_id in range(1, dtc + 1):\n",
    "        num_items = random.randint(1,max_items)\n",
    "\n",
    "        for _ in range(num_items):\n",
    "            item = random.choice(base_items)\n",
    "            qty = random.randint(1, mqpi)\n",
    "            price_per_unit = round(random.uniform(minia, maxia), 2)\n",
    "            sales = round(qty * price_per_unit, 2)\n",
    "\n",
    "            transaction_list.append({\n",
    "                'transaction_id': tx_id,\n",
    "                'product_code': item['product_code'],\n",
    "                'product_description': item['product_description'],\n",
    "                'qty': qty,\n",
    "                'price_per_unit': price_per_unit,\n",
    "                'sales': sales\n",
    "            })\n",
    "    return tx.DataSet(transaction_list)"
   ]
  },
  {
   "cell_type": "markdown",
   "id": "1c94183a",
   "metadata": {},
   "source": [
    "### cut"
   ]
  },
  {
   "cell_type": "markdown",
   "id": "68c85f93",
   "metadata": {},
   "source": [
    "- What it does: Unlike qcut, which ensures equal-sized quantile groups, cut splits the range into equal-width intervals.\n",
    "- Cool use: Helps in scenarios where absolute value ranges matter more than distribution."
   ]
  },
  {
   "cell_type": "code",
   "execution_count": 5,
   "id": "bf4354bb",
   "metadata": {},
   "outputs": [],
   "source": [
    "from atrax.core.cut import cut"
   ]
  },
  {
   "cell_type": "markdown",
   "id": "a1700079",
   "metadata": {},
   "source": [
    "💹 #### Example 1: Segmenting customers by age range"
   ]
  },
  {
   "cell_type": "code",
   "execution_count": 4,
   "id": "9c065d98",
   "metadata": {},
   "outputs": [],
   "source": [
    "ages = [19, 23, 37, 45, 50, 61, 70, 82]\n",
    "age_bins = [0, 20, 50, 100]\n",
    "age_labels = ['young', 'middle-ages', 'senior']"
   ]
  },
  {
   "cell_type": "code",
   "execution_count": 6,
   "id": "c3159158",
   "metadata": {},
   "outputs": [
    {
     "data": {
      "text/plain": [
       "['young',\n",
       " 'middle-ages',\n",
       " 'middle-ages',\n",
       " 'middle-ages',\n",
       " 'senior',\n",
       " 'senior',\n",
       " 'senior',\n",
       " 'senior']"
      ]
     },
     "execution_count": 6,
     "metadata": {},
     "output_type": "execute_result"
    }
   ],
   "source": [
    "cut(ages, bins=age_bins, labels=age_labels, tie_breaker='upper')"
   ]
  },
  {
   "cell_type": "markdown",
   "id": "cfe24c7b",
   "metadata": {},
   "source": [
    "💹 #### Example 2: Equal-width binning for normalization prep"
   ]
  },
  {
   "cell_type": "markdown",
   "id": "91f4158e",
   "metadata": {},
   "source": [
    "This is good for histogram prep without needing scaling"
   ]
  },
  {
   "cell_type": "code",
   "execution_count": 7,
   "id": "dba56ded",
   "metadata": {},
   "outputs": [
    {
     "data": {
      "text/plain": [
       "[0, 0, 1, 1, 2, 2, 3, 3]"
      ]
     },
     "execution_count": 7,
     "metadata": {},
     "output_type": "execute_result"
    }
   ],
   "source": [
    "sales = [0, 20, 50, 75, 110, 130, 170, 200]\n",
    "binned_sales = cut(sales, bins=4)\n",
    "binned_sales"
   ]
  },
  {
   "cell_type": "markdown",
   "id": "748baa2e",
   "metadata": {},
   "source": [
    "💹 #### Example 3: Risk Level Classification"
   ]
  },
  {
   "cell_type": "code",
   "execution_count": 8,
   "id": "a743f3dc",
   "metadata": {},
   "outputs": [
    {
     "data": {
      "text/plain": [
       "['Low', 'Low', 'Low', 'High', 'High', 'High']"
      ]
     },
     "execution_count": 8,
     "metadata": {},
     "output_type": "execute_result"
    }
   ],
   "source": [
    "cholesterol = [120, 140, 160, 190, 210, 250]\n",
    "risk_bins = [0, 160, 20, 300]\n",
    "risk_labels = ['Low', 'Moderate', 'High']\n",
    "cut(cholesterol, bins=risk_bins, labels=risk_labels, tie_breaker='lower')"
   ]
  },
  {
   "cell_type": "markdown",
   "id": "6b9f6f7b",
   "metadata": {},
   "source": [
    "#### cut inside of Series"
   ]
  },
  {
   "cell_type": "code",
   "execution_count": 10,
   "id": "b7252008",
   "metadata": {},
   "outputs": [
    {
     "data": {
      "text/html": [
       "<table style='border-collapse: collapse;'><tr><td style=''>0</td><td style=''>young</td></tr><tr><td style=''>1</td><td style=''>young</td></tr><tr><td style=''>2</td><td style=''>middle-ages</td></tr><tr><td style=''>3</td><td style=''>middle-ages</td></tr><tr><td style=''>4</td><td style=''>senior</td></tr><tr><td style=''>5</td><td style=''>senior</td></tr><tr><td style=''>6</td><td style=''>senior</td></tr><tr><td style=''>7</td><td style=''>senior</td></tr><tr><td colspan='2' style='font-size:16px;'><strong>Name: age, dtype: object<strong></td></tr></table>"
      ],
      "text/plain": [
       "0   young\n",
       "1   young\n",
       "2   middle-ages\n",
       "3   middle-ages\n",
       "4   senior\n",
       "5   senior\n",
       "6   senior\n",
       "7   senior\n",
       "Name: age, dtype: object"
      ]
     },
     "execution_count": 10,
     "metadata": {},
     "output_type": "execute_result"
    }
   ],
   "source": [
    "s = tx.Series([19, 23, 37, 45, 50, 61, 70, 82], name=\"age\")\n",
    "bins = [0, 30, 50, 100]\n",
    "labels = ['young', 'middle-ages', 'senior']\n",
    "s_cut = s.cut(bins=bins, labels=labels, tie_breaker='upper')\n",
    "s_cut"
   ]
  },
  {
   "cell_type": "code",
   "execution_count": 6,
   "id": "cc3d929c",
   "metadata": {},
   "outputs": [],
   "source": [
    "transactions = generate_transactions(items, dtc=50)"
   ]
  },
  {
   "cell_type": "code",
   "execution_count": 9,
   "id": "b7a38b27",
   "metadata": {},
   "outputs": [
    {
     "name": "stdout",
     "output_type": "stream",
     "text": [
      "<class 'atrax.Atrax'>\n",
      "columns (total 6):\n",
      "total rows: 225\n",
      "Column          | Type       | Non-Null   | Total     \n",
      "--------------------------------------------------\n",
      "transaction_id  | int        | 225        | 225\n",
      "product_code    | str        | 225        | 225\n",
      "product_description | str        | 225        | 225\n",
      "qty             | int        | 225        | 225\n",
      "price_per_unit  | float      | 225        | 225\n",
      "sales           | float      | 225        | 225\n"
     ]
    }
   ],
   "source": [
    "transactions.info()"
   ]
  },
  {
   "cell_type": "code",
   "execution_count": 10,
   "id": "ef984a84",
   "metadata": {},
   "outputs": [
    {
     "data": {
      "text/html": [
       "\n",
       "        <table>\n",
       "            <thead><tr><th>transaction_id</th><th>product_code</th><th>product_description</th><th>qty</th><th>price_per_unit</th><th>sales</th></tr></thead>\n",
       "            <tbody><tr><td>1</td><td>15</td><td>Diapers</td><td>1</td><td>1.46</td><td>1.46</td></tr><tr><td>2</td><td>15</td><td>Diapers</td><td>10</td><td>1.7</td><td>17.0</td></tr><tr><td>3</td><td>7</td><td>Mustard</td><td>8</td><td>4.28</td><td>34.24</td></tr><tr><td>3</td><td>12</td><td>Cheese</td><td>5</td><td>3.98</td><td>19.9</td></tr><tr><td>3</td><td>9</td><td>Relish</td><td>9</td><td>5.06</td><td>45.54</td></tr></tbody>\n",
       "        </table>\n",
       "        "
      ],
      "text/plain": [
       "transaction_id, product_code, product_description, qty, price_per_unit, sales\n",
       "1, 15, Diapers, 1, 1.46, 1.46\n",
       "2, 15, Diapers, 10, 1.7, 17.0\n",
       "3, 7, Mustard, 8, 4.28, 34.24\n",
       "3, 12, Cheese, 5, 3.98, 19.9\n",
       "3, 9, Relish, 9, 5.06, 45.54"
      ]
     },
     "execution_count": 10,
     "metadata": {},
     "output_type": "execute_result"
    }
   ],
   "source": [
    "\n",
    "transactions.head()"
   ]
  },
  {
   "cell_type": "code",
   "execution_count": 11,
   "id": "99f47423",
   "metadata": {},
   "outputs": [],
   "source": [
    "def tame_sum(series):\n",
    "    return round(sum([v if v is not None else 0 for v in series]), 2)"
   ]
  },
  {
   "cell_type": "code",
   "execution_count": 50,
   "id": "dc9a321f",
   "metadata": {},
   "outputs": [],
   "source": [
    "g1 = transactions.groupby(by=['product_code']).agg({\n",
    "    'product_description': 'first',\n",
    "    'qty': 'sum',\n",
    "    'sales': tame_sum,\n",
    "})"
   ]
  },
  {
   "cell_type": "code",
   "execution_count": 51,
   "id": "44facc0f",
   "metadata": {},
   "outputs": [],
   "source": [
    "# group by product_code and sum the sales and qty\n",
    "g2 = transactions.groupby('product_code').agg(\n",
    "    description= ('product_description', 'first'),\n",
    "    qty= ('qty', 'sum'),\n",
    "    sales= ('sales', tame_sum),\n",
    "    max_sales=('sales', 'max'),\n",
    "    min_sales=('sales', 'min'),\n",
    "    mean_sales=('sales', 'mean'),    \n",
    ")"
   ]
  },
  {
   "cell_type": "code",
   "execution_count": 55,
   "id": "39f9fdf6",
   "metadata": {},
   "outputs": [],
   "source": [
    "g2['segment'] = cut(\n",
    "    g2['sales'], \n",
    "    bins=4, \n",
    "    labels=['Poor Mover', 'Average Mover', 'Decent Mover', 'Excellent Mover'], \n",
    "    tie_breaker='upper')\n"
   ]
  },
  {
   "cell_type": "code",
   "execution_count": 56,
   "id": "7bb7efce",
   "metadata": {},
   "outputs": [
    {
     "data": {
      "text/html": [
       "\n",
       "        <table>\n",
       "            <thead><tr><th>description</th><th>qty</th><th>sales</th><th>max_sales</th><th>min_sales</th><th>mean_sales</th><th>product_code</th><th>segment</th></tr></thead>\n",
       "            <tbody><tr><td>Wine</td><td>103</td><td>447.98</td><td>49.23</td><td>2.52</td><td>26.351764705882353</td><td>14</td><td>Excellent Mover</td></tr><tr><td>Beer</td><td>121</td><td>400.77</td><td>39.48</td><td>2.32</td><td>18.216818181818184</td><td>13</td><td>Excellent Mover</td></tr><tr><td>Relish</td><td>84</td><td>369.06</td><td>46.17</td><td>16.8</td><td>30.755</td><td>9</td><td>Decent Mover</td></tr><tr><td>Cheese</td><td>104</td><td>363.98</td><td>46.32</td><td>5.06</td><td>21.410588235294117</td><td>12</td><td>Decent Mover</td></tr><tr><td>Milk</td><td>103</td><td>322.22</td><td>40.5</td><td>2.82</td><td>24.786153846153844</td><td>2</td><td>Decent Mover</td></tr><tr><td>Pickles</td><td>83</td><td>320.46</td><td>56.9</td><td>3.33</td><td>24.650769230769235</td><td>8</td><td>Decent Mover</td></tr><tr><td>Mustard</td><td>99</td><td>300.42</td><td>45.5</td><td>1.83</td><td>15.021</td><td>7</td><td>Average Mover</td></tr><tr><td>Bread</td><td>83</td><td>273.51</td><td>58.6</td><td>4.76</td><td>19.53642857142857</td><td>1</td><td>Average Mover</td></tr><tr><td>Hamburgers</td><td>85</td><td>267.36</td><td>45.6</td><td>4.18</td><td>20.566153846153846</td><td>11</td><td>Average Mover</td></tr><tr><td>HB Buns</td><td>53</td><td>263.68</td><td>57.2</td><td>8.88</td><td>32.96</td><td>10</td><td>Average Mover</td></tr><tr><td>Diapers</td><td>84</td><td>262.27</td><td>38.7</td><td>1.42</td><td>15.427647058823528</td><td>15</td><td>Average Mover</td></tr><tr><td>Ketchup</td><td>71</td><td>250.71</td><td>39.5</td><td>2.0</td><td>19.285384615384615</td><td>6</td><td>Average Mover</td></tr><tr><td>Hot Dogs</td><td>47</td><td>223.61</td><td>41.09</td><td>1.45</td><td>18.634166666666665</td><td>4</td><td>Poor Mover</td></tr><tr><td>Cookies</td><td>64</td><td>216.73</td><td>43.92</td><td>4.76</td><td>16.67153846153846</td><td>3</td><td>Poor Mover</td></tr><tr><td>HD Buns</td><td>62</td><td>202.47</td><td>53.8</td><td>1.44</td><td>16.8725</td><td>5</td><td>Poor Mover</td></tr><tr><td>Bananas</td><td>49</td><td>164.01</td><td>41.85</td><td>3.9</td><td>18.223333333333333</td><td>4011</td><td>Poor Mover</td></tr></tbody>\n",
       "        </table>\n",
       "        "
      ],
      "text/plain": [
       "description, qty, sales, max_sales, min_sales, mean_sales, product_code, segment\n",
       "Wine, 103, 447.98, 49.23, 2.52, 26.351764705882353, 14, Excellent Mover\n",
       "Beer, 121, 400.77, 39.48, 2.32, 18.216818181818184, 13, Excellent Mover\n",
       "Relish, 84, 369.06, 46.17, 16.8, 30.755, 9, Decent Mover\n",
       "Cheese, 104, 363.98, 46.32, 5.06, 21.410588235294117, 12, Decent Mover\n",
       "Milk, 103, 322.22, 40.5, 2.82, 24.786153846153844, 2, Decent Mover\n",
       "Pickles, 83, 320.46, 56.9, 3.33, 24.650769230769235, 8, Decent Mover\n",
       "Mustard, 99, 300.42, 45.5, 1.83, 15.021, 7, Average Mover\n",
       "Bread, 83, 273.51, 58.6, 4.76, 19.53642857142857, 1, Average Mover\n",
       "Hamburgers, 85, 267.36, 45.6, 4.18, 20.566153846153846, 11, Average Mover\n",
       "HB Buns, 53, 263.68, 57.2, 8.88, 32.96, 10, Average Mover\n",
       "... (16 rows total)"
      ]
     },
     "execution_count": 56,
     "metadata": {},
     "output_type": "execute_result"
    }
   ],
   "source": [
    "g2.sort(by='sales', ascending=False)"
   ]
  },
  {
   "cell_type": "markdown",
   "id": "a8a2a244",
   "metadata": {},
   "source": [
    "### qcut"
   ]
  },
  {
   "cell_type": "code",
   "execution_count": 35,
   "id": "a5ef1135",
   "metadata": {},
   "outputs": [],
   "source": [
    "from atrax.core.qcut import qcut"
   ]
  },
  {
   "cell_type": "code",
   "execution_count": 36,
   "id": "8b40d989",
   "metadata": {},
   "outputs": [
    {
     "data": {
      "text/plain": [
       "[0, 0, 0, 1, 1, 2, 2, 3]"
      ]
     },
     "execution_count": 36,
     "metadata": {},
     "output_type": "execute_result"
    }
   ],
   "source": [
    "data = [1, 2, 3, 4, 5, 6, 7, 8]\n",
    "result = qcut(data, q=4)\n",
    "result"
   ]
  },
  {
   "cell_type": "markdown",
   "id": "bc0f4dc7",
   "metadata": {},
   "source": [
    "#### rank"
   ]
  },
  {
   "cell_type": "code",
   "execution_count": 57,
   "id": "8f178176",
   "metadata": {},
   "outputs": [
    {
     "data": {
      "text/html": [
       "<table style='border-collapse: collapse;'><tr><td style=''>0</td><td style=''>3.0</td></tr><tr><td style=''>1</td><td style=''>1.5</td></tr><tr><td style=''>2</td><td style=''>1.5</td></tr><tr><td style=''>3</td><td style=''>4.0</td></tr><tr><td colspan='2' style='font-size:16px;'><strong>Name: _rank, dtype: float<strong></td></tr></table>"
      ],
      "text/plain": [
       "0   3.0\n",
       "1   1.5\n",
       "2   1.5\n",
       "3   4.0\n",
       "Name: _rank, dtype: float"
      ]
     },
     "execution_count": 57,
     "metadata": {},
     "output_type": "execute_result"
    }
   ],
   "source": [
    "s = tx.Series([50, 20, 20, 100])\n",
    "\n",
    "s.rank(method='average')"
   ]
  },
  {
   "cell_type": "code",
   "execution_count": 58,
   "id": "2c7e9acb",
   "metadata": {},
   "outputs": [
    {
     "data": {
      "text/html": [
       "<table style='border-collapse: collapse;'><tr><td style=''>0</td><td style=''>3</td></tr><tr><td style=''>1</td><td style=''>1</td></tr><tr><td style=''>2</td><td style=''>1</td></tr><tr><td style=''>3</td><td style=''>4</td></tr><tr><td colspan='2' style='font-size:16px;'><strong>Name: _rank, dtype: int<strong></td></tr></table>"
      ],
      "text/plain": [
       "0   3\n",
       "1   1\n",
       "2   1\n",
       "3   4\n",
       "Name: _rank, dtype: int"
      ]
     },
     "execution_count": 58,
     "metadata": {},
     "output_type": "execute_result"
    }
   ],
   "source": [
    "s.rank(method='min')"
   ]
  },
  {
   "cell_type": "code",
   "execution_count": 59,
   "id": "1108dde6",
   "metadata": {},
   "outputs": [
    {
     "data": {
      "text/html": [
       "<table style='border-collapse: collapse;'><tr><td style=''>0</td><td style=''>3</td></tr><tr><td style=''>1</td><td style=''>2</td></tr><tr><td style=''>2</td><td style=''>2</td></tr><tr><td style=''>3</td><td style=''>4</td></tr><tr><td colspan='2' style='font-size:16px;'><strong>Name: _rank, dtype: int<strong></td></tr></table>"
      ],
      "text/plain": [
       "0   3\n",
       "1   2\n",
       "2   2\n",
       "3   4\n",
       "Name: _rank, dtype: int"
      ]
     },
     "execution_count": 59,
     "metadata": {},
     "output_type": "execute_result"
    }
   ],
   "source": [
    "s.rank(method='max')"
   ]
  },
  {
   "cell_type": "code",
   "execution_count": 60,
   "id": "ff218504",
   "metadata": {},
   "outputs": [
    {
     "data": {
      "text/html": [
       "<table style='border-collapse: collapse;'><tr><td style=''>0</td><td style=''>3</td></tr><tr><td style=''>1</td><td style=''>1</td></tr><tr><td style=''>2</td><td style=''>2</td></tr><tr><td style=''>3</td><td style=''>4</td></tr><tr><td colspan='2' style='font-size:16px;'><strong>Name: _rank, dtype: int<strong></td></tr></table>"
      ],
      "text/plain": [
       "0   3\n",
       "1   1\n",
       "2   2\n",
       "3   4\n",
       "Name: _rank, dtype: int"
      ]
     },
     "execution_count": 60,
     "metadata": {},
     "output_type": "execute_result"
    }
   ],
   "source": [
    "s.rank(method='first')"
   ]
  },
  {
   "cell_type": "code",
   "execution_count": 61,
   "id": "b74cc0f8",
   "metadata": {},
   "outputs": [
    {
     "data": {
      "text/html": [
       "<table style='border-collapse: collapse;'><tr><td style=''>0</td><td style=''>2</td></tr><tr><td style=''>1</td><td style=''>1</td></tr><tr><td style=''>2</td><td style=''>1</td></tr><tr><td style=''>3</td><td style=''>3</td></tr><tr><td colspan='2' style='font-size:16px;'><strong>Name: _rank, dtype: int<strong></td></tr></table>"
      ],
      "text/plain": [
       "0   2\n",
       "1   1\n",
       "2   1\n",
       "3   3\n",
       "Name: _rank, dtype: int"
      ]
     },
     "execution_count": 61,
     "metadata": {},
     "output_type": "execute_result"
    }
   ],
   "source": [
    "s.rank(method='dense')"
   ]
  },
  {
   "cell_type": "markdown",
   "id": "23cb46e7",
   "metadata": {},
   "source": [
    "#### map"
   ]
  },
  {
   "cell_type": "code",
   "execution_count": 75,
   "id": "0fa15ec2",
   "metadata": {},
   "outputs": [
    {
     "data": {
      "text/html": [
       "<table style='border-collapse: collapse;'><tr><td style=''>0</td><td style=''>1</td></tr><tr><td style=''>1</td><td style=''>4</td></tr><tr><td style=''>2</td><td style=''>9</td></tr><tr><td style=''>3</td><td style=''>16</td></tr><tr><td colspan='2' style='font-size:16px;'><strong>Name: nums_mapped, dtype: int<strong></td></tr></table>"
      ],
      "text/plain": [
       "0   1\n",
       "1   4\n",
       "2   9\n",
       "3   16\n",
       "Name: nums_mapped, dtype: int"
      ]
     },
     "execution_count": 75,
     "metadata": {},
     "output_type": "execute_result"
    }
   ],
   "source": [
    "s = tx.Series([1,2,3,4], name=\"nums\")\n",
    "squared = s.map(lambda x: x**2)\n",
    "squared"
   ]
  },
  {
   "cell_type": "code",
   "execution_count": 76,
   "id": "fbe2303d",
   "metadata": {},
   "outputs": [
    {
     "data": {
      "text/html": [
       "<table style='border-collapse: collapse;'><tr><td style=''>0</td><td style=''>A</td></tr><tr><td style=''>1</td><td style=''>B</td></tr><tr><td style=''>2</td><td style=''>C</td></tr><tr><td style=''>3</td><td style=''>D</td></tr><tr><td colspan='2' style='font-size:16px;'><strong>Name: nums_mapped, dtype: object<strong></td></tr></table>"
      ],
      "text/plain": [
       "0   A\n",
       "1   B\n",
       "2   C\n",
       "3   D\n",
       "Name: nums_mapped, dtype: object"
      ]
     },
     "execution_count": 76,
     "metadata": {},
     "output_type": "execute_result"
    }
   ],
   "source": [
    "labels = s.map({1: 'A', 2: 'B', 3: 'C', 4: 'D'})\n",
    "labels"
   ]
  },
  {
   "cell_type": "code",
   "execution_count": 77,
   "id": "e484a584",
   "metadata": {},
   "outputs": [
    {
     "data": {
      "text/html": [
       "<table style='border-collapse: collapse;'><tr><td style=''>0</td><td style=''>10</td></tr><tr><td style=''>1</td><td style=''>20</td></tr><tr><td style=''>2</td><td style=''>30</td></tr><tr><td colspan='2' style='font-size:16px;'><strong>Name: x_mapped, dtype: int<strong></td></tr></table>"
      ],
      "text/plain": [
       "0   10\n",
       "1   20\n",
       "2   30\n",
       "Name: x_mapped, dtype: int"
      ]
     },
     "execution_count": 77,
     "metadata": {},
     "output_type": "execute_result"
    }
   ],
   "source": [
    "s = tx.Series([1, 2, 3], name=\"x\")\n",
    "result = s.map(lambda x: x * 10)\n",
    "result"
   ]
  },
  {
   "cell_type": "markdown",
   "id": "1f6b19cb",
   "metadata": {},
   "source": [
    "#### quantile"
   ]
  },
  {
   "cell_type": "code",
   "execution_count": 80,
   "id": "48345114",
   "metadata": {},
   "outputs": [
    {
     "data": {
      "text/plain": [
       "20.0"
      ]
     },
     "execution_count": 80,
     "metadata": {},
     "output_type": "execute_result"
    }
   ],
   "source": [
    "s = tx.Series([10, 20, 30, 40, 50])\n",
    "s.quantile(q=0.5)\n",
    "s.percentile(p=25)"
   ]
  },
  {
   "cell_type": "code",
   "execution_count": null,
   "id": "bde293e5",
   "metadata": {},
   "outputs": [],
   "source": []
  }
 ],
 "metadata": {
  "kernelspec": {
   "display_name": "env",
   "language": "python",
   "name": "python3"
  },
  "language_info": {
   "codemirror_mode": {
    "name": "ipython",
    "version": 3
   },
   "file_extension": ".py",
   "mimetype": "text/x-python",
   "name": "python",
   "nbconvert_exporter": "python",
   "pygments_lexer": "ipython3",
   "version": "3.11.4"
  }
 },
 "nbformat": 4,
 "nbformat_minor": 5
}
