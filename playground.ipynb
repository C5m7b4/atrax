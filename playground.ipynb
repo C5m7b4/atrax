{
 "cells": [
  {
   "cell_type": "code",
   "execution_count": 1,
   "id": "9e7bbf52",
   "metadata": {},
   "outputs": [
    {
     "data": {
      "text/plain": [
       "'0.0.33'"
      ]
     },
     "execution_count": 1,
     "metadata": {},
     "output_type": "execute_result"
    }
   ],
   "source": [
    "# %load_ext autoreload\n",
    "# %autoreload 2\n",
    "import pandas as pd\n",
    "from atrax import Dataset, Series\n",
    "from atrax import Atrax as tx\n",
    "tx.version\n"
   ]
  },
  {
   "cell_type": "markdown",
   "id": "47bfc4bf",
   "metadata": {},
   "source": [
    "# Building your own library"
   ]
  },
  {
   "cell_type": "markdown",
   "id": "5065035c",
   "metadata": {},
   "source": [
    "We are going to build our own version of Pandas. We are going to start with the Series object and for every feature that we add, we are going to compare that to the actual Pandas equivalent"
   ]
  },
  {
   "cell_type": "markdown",
   "id": "8b8ed7c4",
   "metadata": {},
   "source": [
    "## other"
   ]
  },
  {
   "cell_type": "markdown",
   "id": "f3279163",
   "metadata": {},
   "source": [
    "### csv"
   ]
  },
  {
   "cell_type": "code",
   "execution_count": 7,
   "id": "5c940381",
   "metadata": {},
   "outputs": [],
   "source": [
    "CSV_DATA = \"\"\"id,name,sales,date\n",
    "1,Alice,100.5,2024-07-01\n",
    "2,Bob,200.0,2024-07-02\n",
    "3,Charlie,150.25,2024-07-03\n",
    "\"\"\"\n",
    "ds = tx.read_csv(CSV_DATA, from_string=True)"
   ]
  },
  {
   "cell_type": "code",
   "execution_count": 8,
   "id": "331ae932",
   "metadata": {},
   "outputs": [
    {
     "data": {
      "text/html": [
       "\n",
       "            <div>\n",
       "                <a download=\"dataset.csv\" href=\"data:text/csv;base64,LGlkLG5hbWUsc2FsZXMsZGF0ZQ0KMCwxLEFsaWNlLDEwMC41LDIwMjQtMDctMDENCjEsMixCb2IsMjAwLjAsMjAyNC0wNy0wMg0KMiwzLENoYXJsaWUsMTUwLjI1LDIwMjQtMDctMDMNCg==\" target=\"_blank\"\n",
       "            style=\"\n",
       "               display: inline-block;\n",
       "               color: white;\n",
       "               text-decoration: none;\n",
       "               font-family: sans-serif;\n",
       "           \"\n",
       "        >Download CSV</a>\n",
       "                <table>\n",
       "                    <thead><tr><th></th><th>id</th><th>name</th><th>sales</th><th>date</th></tr></thead>\n",
       "                    <tbody><tr><td><strong>0</strong></td><td>1</td><td>Alice</td><td>100.5</td><td>2024-07-01</td></tr><tr><td><strong>1</strong></td><td>2</td><td>Bob</td><td>200.0</td><td>2024-07-02</td></tr><tr><td><strong>2</strong></td><td>3</td><td>Charlie</td><td>150.25</td><td>2024-07-03</td></tr></tbody>\n",
       "                </table>\n",
       "            </div>\n",
       "        "
      ],
      "text/plain": [
       "<Dataset />\n",
       "id, name, sales, date\n",
       "1, Alice, 100.5, 2024-07-01\n",
       "2, Bob, 200.0, 2024-07-02\n",
       "3, Charlie, 150.25, 2024-07-03"
      ]
     },
     "execution_count": 8,
     "metadata": {},
     "output_type": "execute_result"
    }
   ],
   "source": [
    "ds"
   ]
  },
  {
   "cell_type": "code",
   "execution_count": 6,
   "id": "f1842f02",
   "metadata": {},
   "outputs": [
    {
     "data": {
      "text/plain": [
       "200.0"
      ]
     },
     "execution_count": 6,
     "metadata": {},
     "output_type": "execute_result"
    }
   ],
   "source": [
    "ds[1]['sales']"
   ]
  },
  {
   "cell_type": "code",
   "execution_count": 9,
   "id": "24f2b0f0",
   "metadata": {},
   "outputs": [
    {
     "data": {
      "text/plain": [
       "[{'id': 1, 'name': 'Alice', 'sales': 100.5, 'date': '2024-07-01'},\n",
       " {'id': 2, 'name': 'Bob', 'sales': 200.0, 'date': '2024-07-02'},\n",
       " {'id': 3, 'name': 'Charlie', 'sales': 150.25, 'date': '2024-07-03'}]"
      ]
     },
     "execution_count": 9,
     "metadata": {},
     "output_type": "execute_result"
    }
   ],
   "source": [
    "ds.data"
   ]
  },
  {
   "cell_type": "markdown",
   "id": "318a54d8",
   "metadata": {},
   "source": [
    "### to_datetime"
   ]
  },
  {
   "cell_type": "code",
   "execution_count": 2,
   "id": "cfcd57bf",
   "metadata": {},
   "outputs": [
    {
     "data": {
      "text/plain": [
       "datetime.datetime"
      ]
     },
     "execution_count": 2,
     "metadata": {},
     "output_type": "execute_result"
    }
   ],
   "source": [
    "dte = tx.to_datetime('2025-01-01')\n",
    "type(dte)"
   ]
  },
  {
   "cell_type": "code",
   "execution_count": 3,
   "id": "d29d18ec",
   "metadata": {},
   "outputs": [
    {
     "data": {
      "text/plain": [
       "datetime.datetime(2025, 1, 1, 0, 0)"
      ]
     },
     "execution_count": 3,
     "metadata": {},
     "output_type": "execute_result"
    }
   ],
   "source": [
    "dte"
   ]
  },
  {
   "cell_type": "code",
   "execution_count": 4,
   "id": "a68f4214",
   "metadata": {},
   "outputs": [
    {
     "data": {
      "text/plain": [
       "datetime.datetime(2025, 1, 1, 0, 0)"
      ]
     },
     "execution_count": 4,
     "metadata": {},
     "output_type": "execute_result"
    }
   ],
   "source": [
    "dte = tx.to_datetime('1/1/2025', fmt='%m/%d/%Y')\n",
    "dte"
   ]
  },
  {
   "cell_type": "code",
   "execution_count": null,
   "id": "494e43b3",
   "metadata": {},
   "outputs": [],
   "source": []
  },
  {
   "cell_type": "markdown",
   "id": "e5615f76",
   "metadata": {},
   "source": [
    "### date_range"
   ]
  },
  {
   "cell_type": "code",
   "execution_count": 3,
   "id": "bf5ec25c",
   "metadata": {},
   "outputs": [
    {
     "data": {
      "text/plain": [
       "[datetime.datetime(2025, 1, 1, 0, 0),\n",
       " datetime.datetime(2025, 1, 2, 0, 0),\n",
       " datetime.datetime(2025, 1, 3, 0, 0),\n",
       " datetime.datetime(2025, 1, 4, 0, 0),\n",
       " datetime.datetime(2025, 1, 5, 0, 0)]"
      ]
     },
     "execution_count": 3,
     "metadata": {},
     "output_type": "execute_result"
    }
   ],
   "source": [
    "r1 = tx.date_range('1/1/2025', '1/5/2025', fmt='%m/%d/%Y')\n",
    "r1"
   ]
  },
  {
   "cell_type": "code",
   "execution_count": 3,
   "id": "009ec92f",
   "metadata": {},
   "outputs": [
    {
     "data": {
      "text/plain": [
       "[datetime.datetime(2025, 1, 1, 0, 0),\n",
       " datetime.datetime(2025, 1, 2, 0, 0),\n",
       " datetime.datetime(2025, 1, 3, 0, 0)]"
      ]
     },
     "execution_count": 3,
     "metadata": {},
     "output_type": "execute_result"
    }
   ],
   "source": [
    "r2 = tx.date_range(start='2025-01-01', periods=3, freq='D')\n",
    "r2"
   ]
  },
  {
   "cell_type": "markdown",
   "id": "d9382fa5",
   "metadata": {},
   "source": [
    "## Series"
   ]
  },
  {
   "cell_type": "code",
   "execution_count": 2,
   "id": "1dde2a96",
   "metadata": {},
   "outputs": [],
   "source": [
    "s = Series([1,2,3,4, 5, 6, 7, 8, 9, 10, 11], name='nums')\n",
    "ps = pd.Series([1,2,3,4, 5, 6, 7, 8, 9, 10, 11], name='pands nums')"
   ]
  },
  {
   "cell_type": "markdown",
   "id": "d9c6262e",
   "metadata": {},
   "source": [
    "### Basic Implementation"
   ]
  },
  {
   "cell_type": "markdown",
   "id": "e8d7a84c",
   "metadata": {},
   "source": [
    "##### what triggers _repr_html_"
   ]
  },
  {
   "cell_type": "markdown",
   "id": "1a1d268d",
   "metadata": {},
   "source": [
    "When you evaluate an object at the end of a cell in Jupyter or IPython, the display machinery kicks in and calls one of the following (in priority order)\n",
    "\n",
    "- _repr_mimebundle_\n",
    "- _repr_html_\n",
    "- _repr_svg_\n",
    "- _repr_png_\n",
    "- _repr_jpeg_\n",
    "- _repr_latex\n",
    "- _repr_json_\n",
    "- _repr_javascript_\n",
    "- _repr_markdown_\n",
    "- _repr_pdf\n",
    "- __repr__ or __str__"
   ]
  },
  {
   "cell_type": "markdown",
   "id": "f8ef07f5",
   "metadata": {},
   "source": [
    "#### displaying a Series"
   ]
  },
  {
   "cell_type": "code",
   "execution_count": 3,
   "id": "07821d6f",
   "metadata": {},
   "outputs": [
    {
     "data": {
      "text/html": [
       "<table style='border-collapse: collapse;'><tr><td style='text-align: 'left';'>0</td><td>1</td></tr><tr><td style='text-align: 'left';'>1</td><td>2</td></tr><tr><td style='text-align: 'left';'>2</td><td>3</td></tr><tr><td style='text-align: 'left';'>3</td><td>4</td></tr><tr><td style='text-align: 'left';'>4</td><td>5</td></tr><tr><td style='text-align: 'left';'>5</td><td>6</td></tr><tr><td style='text-align: 'left';'>6</td><td>7</td></tr><tr><td style='text-align: 'left';'>7</td><td>8</td></tr><tr><td style='text-align: 'left';'>8</td><td>9</td></tr><tr><td style='text-align: 'left';'>9</td><td>10</td></tr><tr><td colspan='2' style='font-size:14px;'>Name: nums, dtype: int64</td></tr><tr><td colspan='2'><i>...1 more</i></td></tr></table>"
      ],
      "text/plain": [
       "<Series />\n",
       "0    1\n",
       "1    2\n",
       "2    3\n",
       "3    4\n",
       "4    5\n",
       "5    6\n",
       "6    7\n",
       "7    8\n",
       "8    9\n",
       "9    10\n",
       "...(11 total items)\n",
       "Name: nums   dtype: int64"
      ]
     },
     "execution_count": 3,
     "metadata": {},
     "output_type": "execute_result"
    }
   ],
   "source": [
    "s"
   ]
  },
  {
   "cell_type": "code",
   "execution_count": 4,
   "id": "1ba87e5d",
   "metadata": {},
   "outputs": [
    {
     "data": {
      "text/plain": [
       "0      1\n",
       "1      2\n",
       "2      3\n",
       "3      4\n",
       "4      5\n",
       "5      6\n",
       "6      7\n",
       "7      8\n",
       "8      9\n",
       "9     10\n",
       "10    11\n",
       "Name: pands nums, dtype: int64"
      ]
     },
     "execution_count": 4,
     "metadata": {},
     "output_type": "execute_result"
    }
   ],
   "source": [
    "ps"
   ]
  },
  {
   "cell_type": "code",
   "execution_count": 5,
   "id": "3046d817",
   "metadata": {},
   "outputs": [
    {
     "data": {
      "text/plain": [
       "True"
      ]
     },
     "execution_count": 5,
     "metadata": {},
     "output_type": "execute_result"
    }
   ],
   "source": [
    "data = [1,2,3,4]\n",
    "all(isinstance(x, int) for x in data)\n"
   ]
  },
  {
   "cell_type": "code",
   "execution_count": 7,
   "id": "47e6f378",
   "metadata": {},
   "outputs": [
    {
     "data": {
      "text/plain": [
       "'int64'"
      ]
     },
     "execution_count": 7,
     "metadata": {},
     "output_type": "execute_result"
    }
   ],
   "source": [
    "s.dtype"
   ]
  },
  {
   "cell_type": "markdown",
   "id": "b1547dab",
   "metadata": {},
   "source": []
  },
  {
   "cell_type": "markdown",
   "id": "441dfdff",
   "metadata": {},
   "source": [
    "#### head and tail"
   ]
  },
  {
   "cell_type": "code",
   "execution_count": 5,
   "id": "a886ee4f",
   "metadata": {},
   "outputs": [
    {
     "data": {
      "text/html": [
       "<table style='border-collapse: collapse;'><tr><td style='text-align: 'left';'>0</td><td>1</td></tr><tr><td style='text-align: 'left';'>1</td><td>2</td></tr><tr><td colspan='2' style='font-size:14px;'>Name: nums, dtype: int64</td></tr></table>"
      ],
      "text/plain": [
       "<Series />\n",
       "0    1\n",
       "1    2\n",
       "Name: nums   dtype: int64"
      ]
     },
     "execution_count": 5,
     "metadata": {},
     "output_type": "execute_result"
    }
   ],
   "source": [
    "s.head(2)"
   ]
  },
  {
   "cell_type": "code",
   "execution_count": 6,
   "id": "2bdcd3c8",
   "metadata": {},
   "outputs": [
    {
     "data": {
      "text/html": [
       "<table style='border-collapse: collapse;'><tr><td style='text-align: 'left';'>8</td><td>9</td></tr><tr><td style='text-align: 'left';'>9</td><td>10</td></tr><tr><td style='text-align: 'left';'>10</td><td>11</td></tr><tr><td colspan='2' style='font-size:14px;'>Name: nums, dtype: int64</td></tr></table>"
      ],
      "text/plain": [
       "<Series />\n",
       "8    9\n",
       "9    10\n",
       "10    11\n",
       "Name: nums   dtype: int64"
      ]
     },
     "execution_count": 6,
     "metadata": {},
     "output_type": "execute_result"
    }
   ],
   "source": [
    "s.tail(3)"
   ]
  },
  {
   "cell_type": "markdown",
   "id": "e844d478",
   "metadata": {},
   "source": [
    "### Getting values by indexers"
   ]
  },
  {
   "cell_type": "markdown",
   "id": "fe5c65a8",
   "metadata": {},
   "source": [
    "#### iloc"
   ]
  },
  {
   "cell_type": "code",
   "execution_count": 8,
   "id": "b57ad53f",
   "metadata": {},
   "outputs": [
    {
     "data": {
      "text/plain": [
       "4"
      ]
     },
     "execution_count": 8,
     "metadata": {},
     "output_type": "execute_result"
    }
   ],
   "source": [
    "s.iloc[3]"
   ]
  },
  {
   "cell_type": "code",
   "execution_count": 9,
   "id": "92aed3da",
   "metadata": {},
   "outputs": [
    {
     "data": {
      "text/html": [
       "<table style='border-collapse: collapse;'><tr><td style='text-align: 'left';'>b</td><td>2</td></tr><tr><td style='text-align: 'left';'>c</td><td>3</td></tr><tr><td colspan='2' style='font-size:14px;'>Name: example, dtype: int64</td></tr></table>"
      ],
      "text/plain": [
       "<Series />\n",
       "b    2\n",
       "c    3\n",
       "Name: example   dtype: int64"
      ]
     },
     "execution_count": 9,
     "metadata": {},
     "output_type": "execute_result"
    }
   ],
   "source": [
    "s = Series([1,2,3], name='example', index=['a', 'b', 'c'])\n",
    "s.iloc[1:3]\n"
   ]
  },
  {
   "cell_type": "code",
   "execution_count": 10,
   "id": "c2acb221",
   "metadata": {},
   "outputs": [
    {
     "data": {
      "text/plain": [
       "np.int64(4)"
      ]
     },
     "execution_count": 10,
     "metadata": {},
     "output_type": "execute_result"
    }
   ],
   "source": [
    "ps.iloc[3]"
   ]
  },
  {
   "cell_type": "code",
   "execution_count": 11,
   "id": "76e4fc4c",
   "metadata": {},
   "outputs": [
    {
     "data": {
      "text/html": [
       "<table style='border-collapse: collapse;'><tr><td style='text-align: 'left';'>a</td><td>1</td></tr><tr><td style='text-align: 'left';'>b</td><td>2</td></tr><tr><td style='text-align: 'left';'>c</td><td>3</td></tr><tr><td colspan='2' style='font-size:14px;'>Name: example, dtype: int64</td></tr></table>"
      ],
      "text/plain": [
       "<Series />\n",
       "a    1\n",
       "b    2\n",
       "c    3\n",
       "Name: example   dtype: int64"
      ]
     },
     "execution_count": 11,
     "metadata": {},
     "output_type": "execute_result"
    }
   ],
   "source": [
    "s.iloc[0:3]"
   ]
  },
  {
   "cell_type": "code",
   "execution_count": 12,
   "id": "981ceb2f",
   "metadata": {},
   "outputs": [
    {
     "data": {
      "text/plain": [
       "0    1\n",
       "1    2\n",
       "2    3\n",
       "Name: pands nums, dtype: int64"
      ]
     },
     "execution_count": 12,
     "metadata": {},
     "output_type": "execute_result"
    }
   ],
   "source": [
    "ps.iloc[0:3]"
   ]
  },
  {
   "cell_type": "markdown",
   "id": "35df502d",
   "metadata": {},
   "source": [
    "#### loc"
   ]
  },
  {
   "cell_type": "code",
   "execution_count": 13,
   "id": "abf44c78",
   "metadata": {},
   "outputs": [],
   "source": [
    "named_series = Series([1,2,3,4], name='named_series', index=['a', 'b', 'c', 'd'])\n",
    "pd_named_series = pd.Series([1,2,3,4], name='pd named_series', index=['a', 'b', 'c', 'd'])\n"
   ]
  },
  {
   "cell_type": "code",
   "execution_count": 14,
   "id": "ca453ac7",
   "metadata": {},
   "outputs": [
    {
     "data": {
      "text/html": [
       "<table style='border-collapse: collapse;'><tr><td style='text-align: 'left';'>a</td><td>1</td></tr><tr><td style='text-align: 'left';'>b</td><td>2</td></tr><tr><td style='text-align: 'left';'>c</td><td>3</td></tr><tr><td style='text-align: 'left';'>d</td><td>4</td></tr><tr><td colspan='2' style='font-size:14px;'>Name: named_series, dtype: int64</td></tr></table>"
      ],
      "text/plain": [
       "<Series />\n",
       "a    1\n",
       "b    2\n",
       "c    3\n",
       "d    4\n",
       "Name: named_series   dtype: int64"
      ]
     },
     "execution_count": 14,
     "metadata": {},
     "output_type": "execute_result"
    }
   ],
   "source": [
    "named_series"
   ]
  },
  {
   "cell_type": "code",
   "execution_count": 15,
   "id": "160ce114",
   "metadata": {},
   "outputs": [
    {
     "data": {
      "text/plain": [
       "a    1\n",
       "b    2\n",
       "c    3\n",
       "d    4\n",
       "Name: pd named_series, dtype: int64"
      ]
     },
     "execution_count": 15,
     "metadata": {},
     "output_type": "execute_result"
    }
   ],
   "source": [
    "pd_named_series"
   ]
  },
  {
   "cell_type": "code",
   "execution_count": 16,
   "id": "f33967d6",
   "metadata": {},
   "outputs": [
    {
     "data": {
      "text/plain": [
       "np.int64(1)"
      ]
     },
     "execution_count": 16,
     "metadata": {},
     "output_type": "execute_result"
    }
   ],
   "source": [
    "pd_named_series.loc['a']"
   ]
  },
  {
   "cell_type": "code",
   "execution_count": 17,
   "id": "c0ffee9f",
   "metadata": {},
   "outputs": [
    {
     "data": {
      "text/plain": [
       "1"
      ]
     },
     "execution_count": 17,
     "metadata": {},
     "output_type": "execute_result"
    }
   ],
   "source": [
    "named_series.loc['a']"
   ]
  },
  {
   "cell_type": "code",
   "execution_count": 18,
   "id": "d803c8d9",
   "metadata": {},
   "outputs": [
    {
     "data": {
      "text/plain": [
       "a    1\n",
       "b    2\n",
       "c    3\n",
       "Name: pd named_series, dtype: int64"
      ]
     },
     "execution_count": 18,
     "metadata": {},
     "output_type": "execute_result"
    }
   ],
   "source": [
    "pd_named_series.loc['a': 'c']"
   ]
  },
  {
   "cell_type": "code",
   "execution_count": 19,
   "id": "d91f2ae8",
   "metadata": {},
   "outputs": [
    {
     "data": {
      "text/html": [
       "<table style='border-collapse: collapse;'><tr><td style='text-align: 'left';'>a</td><td>1</td></tr><tr><td style='text-align: 'left';'>b</td><td>2</td></tr><tr><td style='text-align: 'left';'>c</td><td>3</td></tr><tr><td colspan='2' style='font-size:14px;'>Name: named_series, dtype: int64</td></tr></table>"
      ],
      "text/plain": [
       "<Series />\n",
       "a    1\n",
       "b    2\n",
       "c    3\n",
       "Name: named_series   dtype: int64"
      ]
     },
     "execution_count": 19,
     "metadata": {},
     "output_type": "execute_result"
    }
   ],
   "source": [
    "named_series.loc['a': 'c']"
   ]
  },
  {
   "cell_type": "code",
   "execution_count": 20,
   "id": "4372ae13",
   "metadata": {},
   "outputs": [
    {
     "data": {
      "text/plain": [
       "a    1\n",
       "c    3\n",
       "Name: pd named_series, dtype: int64"
      ]
     },
     "execution_count": 20,
     "metadata": {},
     "output_type": "execute_result"
    }
   ],
   "source": [
    "pd_named_series.loc[['a', 'c']]"
   ]
  },
  {
   "cell_type": "code",
   "execution_count": 7,
   "id": "7722017b",
   "metadata": {},
   "outputs": [
    {
     "data": {
      "text/html": [
       "<table style='border-collapse: collapse;'><tr><td style='text-align: 'left';'>a</td><td>1</td></tr><tr><td style='text-align: 'left';'>c</td><td>3</td></tr><tr><td colspan='2' style='font-size:14px;'><strong>Name: named_series, dtype: int64</strong></td></tr></table"
      ],
      "text/plain": [
       "<Series />\n",
       "a    1\n",
       "c    3\n",
       "Name: named_series   dtype: int64"
      ]
     },
     "execution_count": 7,
     "metadata": {},
     "output_type": "execute_result"
    }
   ],
   "source": [
    "named_series.loc[['a', 'c']]"
   ]
  },
  {
   "cell_type": "markdown",
   "id": "08de56e7",
   "metadata": {},
   "source": [
    "##### list exploration"
   ]
  },
  {
   "cell_type": "code",
   "execution_count": 10,
   "id": "ee2651a7",
   "metadata": {},
   "outputs": [
    {
     "name": "stdout",
     "output_type": "stream",
     "text": [
      "{'a': 1, 'b': 2, 'c': 3, 'd': 4, 'e': 5}\n",
      "[1, 3]\n"
     ]
    }
   ],
   "source": [
    "my_list = [1,2,3,4,5]\n",
    "my_indexes = ['a', 'b', 'c', 'd', 'e']\n",
    "key = ['a', 'c']\n",
    "\n",
    "index_map = {k:v for k, v in zip(my_indexes, my_list)}\n",
    "print(index_map)\n",
    "print([index_map[k] for k in key])\n"
   ]
  },
  {
   "cell_type": "markdown",
   "id": "b588cf4d",
   "metadata": {},
   "source": [
    "##### slice exploration"
   ]
  },
  {
   "cell_type": "code",
   "execution_count": 8,
   "id": "d926c352",
   "metadata": {},
   "outputs": [
    {
     "name": "stdout",
     "output_type": "stream",
     "text": [
      "slice(1, 5, None)\n"
     ]
    }
   ],
   "source": [
    "my_slice = slice(1,5)\n",
    "print(my_slice)"
   ]
  },
  {
   "cell_type": "code",
   "execution_count": 9,
   "id": "9529f12b",
   "metadata": {},
   "outputs": [
    {
     "data": {
      "text/plain": [
       "1"
      ]
     },
     "execution_count": 9,
     "metadata": {},
     "output_type": "execute_result"
    }
   ],
   "source": [
    "my_slice.start"
   ]
  },
  {
   "cell_type": "code",
   "execution_count": 11,
   "id": "edd6e198",
   "metadata": {},
   "outputs": [
    {
     "data": {
      "text/plain": [
       "5"
      ]
     },
     "execution_count": 11,
     "metadata": {},
     "output_type": "execute_result"
    }
   ],
   "source": [
    "my_slice.stop"
   ]
  },
  {
   "cell_type": "code",
   "execution_count": null,
   "id": "e416e36f",
   "metadata": {},
   "outputs": [],
   "source": []
  },
  {
   "cell_type": "markdown",
   "id": "dfe915f4",
   "metadata": {},
   "source": [
    "### Basic Math"
   ]
  },
  {
   "cell_type": "markdown",
   "id": "d37ba067",
   "metadata": {},
   "source": [
    "#### add"
   ]
  },
  {
   "cell_type": "code",
   "execution_count": 3,
   "id": "bd513220",
   "metadata": {},
   "outputs": [],
   "source": [
    "s = Series([1,2,3,4], name='nums', index=['a', 'b', 'c', 'd'])\n",
    "s1 = Series([5,6,7,8], name='other', index=['e', 'f', 'g', 'h'])\n",
    "s3 = Series([9, 10])"
   ]
  },
  {
   "cell_type": "code",
   "execution_count": 4,
   "id": "0a4f1660",
   "metadata": {},
   "outputs": [
    {
     "data": {
      "text/html": [
       "<table style='border-collapse: collapse;'><tr><td style='text-align: 'left';'>0</td><td>2</td></tr><tr><td style='text-align: 'left';'>1</td><td>3</td></tr><tr><td style='text-align: 'left';'>2</td><td>4</td></tr><tr><td style='text-align: 'left';'>3</td><td>5</td></tr><tr><td colspan='2' style='font-size:14px;'><strong>Name: nums, dtype: int64</strong></td></tr></table>"
      ],
      "text/plain": [
       "<Series />\n",
       "0    2\n",
       "1    3\n",
       "2    4\n",
       "3    5\n",
       "Name: nums   dtype: int64"
      ]
     },
     "execution_count": 4,
     "metadata": {},
     "output_type": "execute_result"
    }
   ],
   "source": [
    "s + 1"
   ]
  },
  {
   "cell_type": "code",
   "execution_count": null,
   "id": "645bd4a5",
   "metadata": {},
   "outputs": [
    {
     "data": {
      "text/html": [
       "<table style='border-collapse: collapse;'><tr><td style='text-align: 'left';'>0</td><td>6</td></tr><tr><td style='text-align: 'left';'>1</td><td>8</td></tr><tr><td style='text-align: 'left';'>2</td><td>10</td></tr><tr><td style='text-align: 'left';'>3</td><td>12</td></tr><tr><td colspan='2' style='font-size:14px;'><strong>Name: nums, dtype: int64</strong></td></tr></table>"
      ],
      "text/plain": [
       "<Series />\n",
       "0    6\n",
       "1    8\n",
       "2    10\n",
       "3    12\n",
       "Name: nums   dtype: int64"
      ]
     },
     "execution_count": 5,
     "metadata": {},
     "output_type": "execute_result"
    }
   ],
   "source": [
    "s + s1"
   ]
  },
  {
   "cell_type": "code",
   "execution_count": 16,
   "id": "6367f1b3",
   "metadata": {},
   "outputs": [],
   "source": [
    "# this should throw an error becuase the lengths are different\n",
    "#s1 + s3"
   ]
  },
  {
   "cell_type": "markdown",
   "id": "e675290c",
   "metadata": {},
   "source": [
    "#### sub"
   ]
  },
  {
   "cell_type": "code",
   "execution_count": 4,
   "id": "f01adbdd",
   "metadata": {},
   "outputs": [
    {
     "data": {
      "text/html": [
       "<table style='border-collapse: collapse;'><tr><td style='text-align: 'left';'>0</td><td>0</td></tr><tr><td style='text-align: 'left';'>1</td><td>1</td></tr><tr><td style='text-align: 'left';'>2</td><td>2</td></tr><tr><td style='text-align: 'left';'>3</td><td>3</td></tr><tr><td colspan='2' style='font-size:14px;'><strong>Name: nums, dtype: int64</strong></td></tr></table>"
      ],
      "text/plain": [
       "<Series />\n",
       "0    0\n",
       "1    1\n",
       "2    2\n",
       "3    3\n",
       "Name: nums   dtype: int64"
      ]
     },
     "execution_count": 4,
     "metadata": {},
     "output_type": "execute_result"
    }
   ],
   "source": [
    "s - 1"
   ]
  },
  {
   "cell_type": "code",
   "execution_count": 5,
   "id": "3e79d708",
   "metadata": {},
   "outputs": [
    {
     "data": {
      "text/html": [
       "<table style='border-collapse: collapse;'><tr><td style='text-align: 'left';'>0</td><td>-4</td></tr><tr><td style='text-align: 'left';'>1</td><td>-4</td></tr><tr><td style='text-align: 'left';'>2</td><td>-4</td></tr><tr><td style='text-align: 'left';'>3</td><td>-4</td></tr><tr><td colspan='2' style='font-size:14px;'><strong>Name: nums, dtype: int64</strong></td></tr></table>"
      ],
      "text/plain": [
       "<Series />\n",
       "0    -4\n",
       "1    -4\n",
       "2    -4\n",
       "3    -4\n",
       "Name: nums   dtype: int64"
      ]
     },
     "execution_count": 5,
     "metadata": {},
     "output_type": "execute_result"
    }
   ],
   "source": [
    "s - s1"
   ]
  },
  {
   "cell_type": "markdown",
   "id": "bb9e5da2",
   "metadata": {},
   "source": [
    "#### lambda exploration"
   ]
  },
  {
   "cell_type": "code",
   "execution_count": 9,
   "id": "847e00a8",
   "metadata": {},
   "outputs": [],
   "source": [
    "adder = lambda a, b: a + b"
   ]
  },
  {
   "cell_type": "code",
   "execution_count": 10,
   "id": "bc60800b",
   "metadata": {},
   "outputs": [
    {
     "name": "stdout",
     "output_type": "stream",
     "text": [
      "5\n"
     ]
    }
   ],
   "source": [
    "print(adder(2,3))"
   ]
  },
  {
   "cell_type": "code",
   "execution_count": 11,
   "id": "ec1fcc27",
   "metadata": {},
   "outputs": [
    {
     "data": {
      "text/plain": [
       "[2, 4, 6]"
      ]
     },
     "execution_count": 11,
     "metadata": {},
     "output_type": "execute_result"
    }
   ],
   "source": [
    "data = [1,2,3]\n",
    "other = [1,2,3]\n",
    "def bin_op(other, op):\n",
    "    return [op(a,b) for a,b in zip(data, other)]\n",
    "\n",
    "bin_op(data, adder)"
   ]
  },
  {
   "cell_type": "code",
   "execution_count": 14,
   "id": "057563cb",
   "metadata": {},
   "outputs": [
    {
     "data": {
      "text/plain": [
       "[2, 4, 6]"
      ]
     },
     "execution_count": 14,
     "metadata": {},
     "output_type": "execute_result"
    }
   ],
   "source": [
    "bin_op(data, lambda a,b: a + b)"
   ]
  },
  {
   "cell_type": "markdown",
   "id": "573c201e",
   "metadata": {},
   "source": [
    "### Reverse Math"
   ]
  },
  {
   "cell_type": "code",
   "execution_count": 3,
   "id": "d8cb1d46",
   "metadata": {},
   "outputs": [],
   "source": [
    "s = Series([1,2,3,4], name='rv', index=['a', 'b', 'c', 'd'])"
   ]
  },
  {
   "cell_type": "code",
   "execution_count": 4,
   "id": "34de5443",
   "metadata": {},
   "outputs": [
    {
     "data": {
      "text/html": [
       "<table style='border-collapse: collapse;'><tr><td style='text-align: 'left';'>0</td><td>2</td></tr><tr><td style='text-align: 'left';'>1</td><td>3</td></tr><tr><td style='text-align: 'left';'>2</td><td>4</td></tr><tr><td style='text-align: 'left';'>3</td><td>5</td></tr><tr><td colspan='2' style='font-size:14px;'><strong>Name: rv, dtype: int64</strong></td></tr></table>"
      ],
      "text/plain": [
       "<Series />\n",
       "0    2\n",
       "1    3\n",
       "2    4\n",
       "3    5\n",
       "Name: rv   dtype: int64"
      ]
     },
     "execution_count": 4,
     "metadata": {},
     "output_type": "execute_result"
    }
   ],
   "source": [
    "s + 1"
   ]
  },
  {
   "cell_type": "code",
   "execution_count": 5,
   "id": "a932a0cf",
   "metadata": {},
   "outputs": [
    {
     "data": {
      "text/html": [
       "<table style='border-collapse: collapse;'><tr><td style='text-align: 'left';'>0</td><td>2</td></tr><tr><td style='text-align: 'left';'>1</td><td>3</td></tr><tr><td style='text-align: 'left';'>2</td><td>4</td></tr><tr><td style='text-align: 'left';'>3</td><td>5</td></tr><tr><td colspan='2' style='font-size:14px;'><strong>Name: rv, dtype: int64</strong></td></tr></table>"
      ],
      "text/plain": [
       "<Series />\n",
       "0    2\n",
       "1    3\n",
       "2    4\n",
       "3    5\n",
       "Name: rv   dtype: int64"
      ]
     },
     "execution_count": 5,
     "metadata": {},
     "output_type": "execute_result"
    }
   ],
   "source": [
    "1 + s"
   ]
  },
  {
   "cell_type": "markdown",
   "id": "63d03e74",
   "metadata": {},
   "source": [
    "### Comparisons"
   ]
  },
  {
   "cell_type": "code",
   "execution_count": 3,
   "id": "177c3c0b",
   "metadata": {},
   "outputs": [],
   "source": [
    "s = Series([1, 2, 3, 4, 5, 6, 7, 8, 9], name='nums')\n",
    "ps = pd.Series([1,2,3,4,5,6,7, 8, 9], name='pd_nums')"
   ]
  },
  {
   "cell_type": "code",
   "execution_count": 4,
   "id": "1fd64257",
   "metadata": {},
   "outputs": [
    {
     "data": {
      "text/html": [
       "<table style='border-collapse: collapse;'><tr><td style='text-align: 'left';'>0</td><td>False</td></tr><tr><td style='text-align: 'left';'>1</td><td>False</td></tr><tr><td style='text-align: 'left';'>2</td><td>False</td></tr><tr><td style='text-align: 'left';'>3</td><td>False</td></tr><tr><td style='text-align: 'left';'>4</td><td>True</td></tr><tr><td style='text-align: 'left';'>5</td><td>True</td></tr><tr><td style='text-align: 'left';'>6</td><td>True</td></tr><tr><td style='text-align: 'left';'>7</td><td>True</td></tr><tr><td style='text-align: 'left';'>8</td><td>True</td></tr><tr><td colspan='2' style='font-size:14px;'>Name: nums > 4, dtype: bool</td></tr></table>"
      ],
      "text/plain": [
       "<Series />\n",
       "0    False\n",
       "1    False\n",
       "2    False\n",
       "3    False\n",
       "4    True\n",
       "5    True\n",
       "6    True\n",
       "7    True\n",
       "8    True\n",
       "Name: nums > 4   dtype: bool"
      ]
     },
     "execution_count": 4,
     "metadata": {},
     "output_type": "execute_result"
    }
   ],
   "source": [
    "s > 4"
   ]
  },
  {
   "cell_type": "code",
   "execution_count": 5,
   "id": "6787a0e7",
   "metadata": {},
   "outputs": [
    {
     "data": {
      "text/plain": [
       "0    False\n",
       "1    False\n",
       "2    False\n",
       "3    False\n",
       "4     True\n",
       "5     True\n",
       "6     True\n",
       "7     True\n",
       "8     True\n",
       "Name: pd_nums, dtype: bool"
      ]
     },
     "execution_count": 5,
     "metadata": {},
     "output_type": "execute_result"
    }
   ],
   "source": [
    "ps > 4"
   ]
  },
  {
   "cell_type": "markdown",
   "id": "87182ad4",
   "metadata": {},
   "source": [
    "### Chaining"
   ]
  },
  {
   "cell_type": "code",
   "execution_count": 37,
   "id": "7d313be0",
   "metadata": {},
   "outputs": [],
   "source": [
    "s = Series([1,2,3,4,5,6,7,8,9])\n",
    "pd_s = pd.Series([1,2,3,4,5,6,7,8,9])"
   ]
  },
  {
   "cell_type": "code",
   "execution_count": 26,
   "id": "68d6cf7b",
   "metadata": {},
   "outputs": [
    {
     "data": {
      "text/html": [
       "<table style='border-collapse: collapse;'><tr><td style='text-align: 'left';'>0</td><td>False</td></tr><tr><td style='text-align: 'left';'>1</td><td>False</td></tr><tr><td style='text-align: 'left';'>2</td><td>True</td></tr><tr><td style='text-align: 'left';'>3</td><td>True</td></tr><tr><td style='text-align: 'left';'>4</td><td>True</td></tr><tr><td style='text-align: 'left';'>5</td><td>True</td></tr><tr><td style='text-align: 'left';'>6</td><td>True</td></tr><tr><td style='text-align: 'left';'>7</td><td>False</td></tr><tr><td style='text-align: 'left';'>8</td><td>False</td></tr><tr><td colspan='2' style='font-size:14px;'>Name: , dtype: bool</td></tr></table>"
      ],
      "text/plain": [
       "<Series />\n",
       "0    False\n",
       "1    False\n",
       "2    True\n",
       "3    True\n",
       "4    True\n",
       "5    True\n",
       "6    True\n",
       "7    False\n",
       "8    False\n",
       "Name:    dtype: bool"
      ]
     },
     "execution_count": 26,
     "metadata": {},
     "output_type": "execute_result"
    }
   ],
   "source": [
    "(s > 2) & (s < 8)\n"
   ]
  },
  {
   "cell_type": "code",
   "execution_count": 27,
   "id": "e099b4e5",
   "metadata": {},
   "outputs": [
    {
     "data": {
      "text/plain": [
       "0    False\n",
       "1    False\n",
       "2     True\n",
       "3     True\n",
       "4     True\n",
       "5     True\n",
       "6     True\n",
       "7    False\n",
       "8    False\n",
       "dtype: bool"
      ]
     },
     "execution_count": 27,
     "metadata": {},
     "output_type": "execute_result"
    }
   ],
   "source": [
    "(pd_s > 2) & (pd_s < 8)"
   ]
  },
  {
   "cell_type": "code",
   "execution_count": null,
   "id": "59313c26",
   "metadata": {},
   "outputs": [
    {
     "data": {
      "text/plain": [
       "0    False\n",
       "1    False\n",
       "2    False\n",
       "3    False\n",
       "4    False\n",
       "5    False\n",
       "6    False\n",
       "7    False\n",
       "8    False\n",
       "dtype: bool"
      ]
     },
     "execution_count": 28,
     "metadata": {},
     "output_type": "execute_result"
    }
   ],
   "source": [
    "(pd_s > 1) & 4 # we dont want this, its bitwise operators happening"
   ]
  },
  {
   "cell_type": "code",
   "execution_count": 29,
   "id": "8dc089e1",
   "metadata": {},
   "outputs": [
    {
     "ename": "TypeError",
     "evalue": "Operand must be a Series",
     "output_type": "error",
     "traceback": [
      "\u001b[31m---------------------------------------------------------------------------\u001b[39m",
      "\u001b[31mTypeError\u001b[39m                                 Traceback (most recent call last)",
      "\u001b[36mCell\u001b[39m\u001b[36m \u001b[39m\u001b[32mIn[29]\u001b[39m\u001b[32m, line 1\u001b[39m\n\u001b[32m----> \u001b[39m\u001b[32m1\u001b[39m \u001b[43m(\u001b[49m\u001b[43ms\u001b[49m\u001b[43m \u001b[49m\u001b[43m>\u001b[49m\u001b[43m \u001b[49m\u001b[32;43m1\u001b[39;49m\u001b[43m)\u001b[49m\u001b[43m \u001b[49m\u001b[43m&\u001b[49m\u001b[43m \u001b[49m\u001b[32;43m4\u001b[39;49m\n",
      "\u001b[36mFile \u001b[39m\u001b[32me:\\testdev\\python\\building_a_library\\v1\\src\\Series\\series.py:159\u001b[39m, in \u001b[36mSeries.__and__\u001b[39m\u001b[34m(self, other)\u001b[39m\n\u001b[32m    157\u001b[39m \u001b[38;5;28;01mdef\u001b[39;00m\u001b[38;5;250m \u001b[39m\u001b[34m__and__\u001b[39m(\u001b[38;5;28mself\u001b[39m, other):\n\u001b[32m    158\u001b[39m     \u001b[38;5;28;01mif\u001b[39;00m \u001b[38;5;129;01mnot\u001b[39;00m \u001b[38;5;28misinstance\u001b[39m(other, Series):\n\u001b[32m--> \u001b[39m\u001b[32m159\u001b[39m         \u001b[38;5;28;01mraise\u001b[39;00m \u001b[38;5;167;01mTypeError\u001b[39;00m(\u001b[33m'\u001b[39m\u001b[33mOperand must be a Series\u001b[39m\u001b[33m'\u001b[39m)\n\u001b[32m    160\u001b[39m     \u001b[38;5;28;01mif\u001b[39;00m \u001b[38;5;28mlen\u001b[39m(other) != \u001b[38;5;28mlen\u001b[39m(\u001b[38;5;28mself\u001b[39m.data):\n\u001b[32m    161\u001b[39m         \u001b[38;5;28;01mraise\u001b[39;00m \u001b[38;5;167;01mValueError\u001b[39;00m(\u001b[33m'\u001b[39m\u001b[33mCannot perform operation. Series must have the same length\u001b[39m\u001b[33m'\u001b[39m)\n",
      "\u001b[31mTypeError\u001b[39m: Operand must be a Series"
     ]
    }
   ],
   "source": [
    "(s > 1) & 4"
   ]
  },
  {
   "cell_type": "code",
   "execution_count": 30,
   "id": "e19a0818",
   "metadata": {},
   "outputs": [
    {
     "data": {
      "text/plain": [
       "0    False\n",
       "1     True\n",
       "2    False\n",
       "3    False\n",
       "4    False\n",
       "5    False\n",
       "6    False\n",
       "7    False\n",
       "8    False\n",
       "dtype: bool"
      ]
     },
     "execution_count": 30,
     "metadata": {},
     "output_type": "execute_result"
    }
   ],
   "source": [
    "pd_s2 = pd.Series([1,2,3])\n",
    "(pd_s > 1) & (pd_s2 < 3)"
   ]
  },
  {
   "cell_type": "code",
   "execution_count": 31,
   "id": "f3a2774d",
   "metadata": {},
   "outputs": [
    {
     "ename": "ValueError",
     "evalue": "Cannot perform operation. Series must have the same length",
     "output_type": "error",
     "traceback": [
      "\u001b[31m---------------------------------------------------------------------------\u001b[39m",
      "\u001b[31mValueError\u001b[39m                                Traceback (most recent call last)",
      "\u001b[36mCell\u001b[39m\u001b[36m \u001b[39m\u001b[32mIn[31]\u001b[39m\u001b[32m, line 2\u001b[39m\n\u001b[32m      1\u001b[39m s2 = Series([\u001b[32m1\u001b[39m,\u001b[32m2\u001b[39m])\n\u001b[32m----> \u001b[39m\u001b[32m2\u001b[39m \u001b[43m(\u001b[49m\u001b[43ms\u001b[49m\u001b[43m \u001b[49m\u001b[43m>\u001b[49m\u001b[43m \u001b[49m\u001b[32;43m1\u001b[39;49m\u001b[43m)\u001b[49m\u001b[43m \u001b[49m\u001b[43m&\u001b[49m\u001b[43m \u001b[49m\u001b[43m(\u001b[49m\u001b[43ms2\u001b[49m\u001b[43m \u001b[49m\u001b[43m<\u001b[49m\u001b[43m \u001b[49m\u001b[32;43m3\u001b[39;49m\u001b[43m)\u001b[49m\n",
      "\u001b[36mFile \u001b[39m\u001b[32me:\\testdev\\python\\building_a_library\\v1\\src\\Series\\series.py:161\u001b[39m, in \u001b[36mSeries.__and__\u001b[39m\u001b[34m(self, other)\u001b[39m\n\u001b[32m    159\u001b[39m     \u001b[38;5;28;01mraise\u001b[39;00m \u001b[38;5;167;01mTypeError\u001b[39;00m(\u001b[33m'\u001b[39m\u001b[33mOperand must be a Series\u001b[39m\u001b[33m'\u001b[39m)\n\u001b[32m    160\u001b[39m \u001b[38;5;28;01mif\u001b[39;00m \u001b[38;5;28mlen\u001b[39m(other) != \u001b[38;5;28mlen\u001b[39m(\u001b[38;5;28mself\u001b[39m.data):\n\u001b[32m--> \u001b[39m\u001b[32m161\u001b[39m     \u001b[38;5;28;01mraise\u001b[39;00m \u001b[38;5;167;01mValueError\u001b[39;00m(\u001b[33m'\u001b[39m\u001b[33mCannot perform operation. Series must have the same length\u001b[39m\u001b[33m'\u001b[39m)\n\u001b[32m    162\u001b[39m \u001b[38;5;28;01mreturn\u001b[39;00m Series([a \u001b[38;5;129;01mand\u001b[39;00m b \u001b[38;5;28;01mfor\u001b[39;00m a,b \u001b[38;5;129;01min\u001b[39;00m \u001b[38;5;28mzip\u001b[39m(\u001b[38;5;28mself\u001b[39m.data, other.data)], name=\u001b[38;5;28mself\u001b[39m.name)\n",
      "\u001b[31mValueError\u001b[39m: Cannot perform operation. Series must have the same length"
     ]
    }
   ],
   "source": [
    "s2 = Series([1,2])\n",
    "(s > 1) & (s2 < 3)"
   ]
  },
  {
   "cell_type": "code",
   "execution_count": 38,
   "id": "58aabaf1",
   "metadata": {},
   "outputs": [
    {
     "data": {
      "text/html": [
       "<table style='border-collapse: collapse;'><tr><td style='text-align: 'left';'>0</td><td>False</td></tr><tr><td style='text-align: 'left';'>1</td><td>True</td></tr><tr><td style='text-align: 'left';'>2</td><td>False</td></tr><tr><td style='text-align: 'left';'>3</td><td>False</td></tr><tr><td style='text-align: 'left';'>4</td><td>False</td></tr><tr><td style='text-align: 'left';'>5</td><td>True</td></tr><tr><td style='text-align: 'left';'>6</td><td>True</td></tr><tr><td style='text-align: 'left';'>7</td><td>True</td></tr><tr><td style='text-align: 'left';'>8</td><td>True</td></tr><tr><td colspan='2' style='font-size:14px;'>Name: , dtype: bool</td></tr></table>"
      ],
      "text/plain": [
       "<Series />\n",
       "0    False\n",
       "1    True\n",
       "2    False\n",
       "3    False\n",
       "4    False\n",
       "5    True\n",
       "6    True\n",
       "7    True\n",
       "8    True\n",
       "Name:    dtype: bool"
      ]
     },
     "execution_count": 38,
     "metadata": {},
     "output_type": "execute_result"
    }
   ],
   "source": [
    "(s > 5) | (s == 2)"
   ]
  },
  {
   "cell_type": "markdown",
   "id": "d1e98568",
   "metadata": {},
   "source": [
    "### Unique"
   ]
  },
  {
   "cell_type": "code",
   "execution_count": 9,
   "id": "7b010ed6",
   "metadata": {},
   "outputs": [],
   "source": [
    "s = Series([1, 2, 2, 3, 3, 3, 4, 5, 6, 6, 7, 8, 9])\n",
    "u = s.unique()"
   ]
  },
  {
   "cell_type": "code",
   "execution_count": 11,
   "id": "d902910f",
   "metadata": {},
   "outputs": [
    {
     "ename": "AttributeError",
     "evalue": "'numpy.ndarray' object has no attribute 'to_list'",
     "output_type": "error",
     "traceback": [
      "\u001b[31m---------------------------------------------------------------------------\u001b[39m",
      "\u001b[31mAttributeError\u001b[39m                            Traceback (most recent call last)",
      "\u001b[36mCell\u001b[39m\u001b[36m \u001b[39m\u001b[32mIn[11]\u001b[39m\u001b[32m, line 1\u001b[39m\n\u001b[32m----> \u001b[39m\u001b[32m1\u001b[39m \u001b[43mu\u001b[49m\u001b[43m.\u001b[49m\u001b[43mto_list\u001b[49m()\n",
      "\u001b[31mAttributeError\u001b[39m: 'numpy.ndarray' object has no attribute 'to_list'"
     ]
    }
   ],
   "source": [
    "u.to_list()"
   ]
  },
  {
   "cell_type": "markdown",
   "id": "4bf121fd",
   "metadata": {},
   "source": [
    "#### unique"
   ]
  },
  {
   "cell_type": "code",
   "execution_count": 4,
   "id": "27ba36ae",
   "metadata": {},
   "outputs": [
    {
     "data": {
      "text/plain": [
       "array([1, 2, 3, 4, 5, 6, 7, 8, 9])"
      ]
     },
     "execution_count": 4,
     "metadata": {},
     "output_type": "execute_result"
    }
   ],
   "source": [
    "pd_s = pd.Series([1, 2, 2, 3, 3, 3, 4, 5, 6, 6, 7, 8, 9])\n",
    "pd_s.unique()"
   ]
  },
  {
   "cell_type": "code",
   "execution_count": 5,
   "id": "259de130",
   "metadata": {},
   "outputs": [
    {
     "data": {
      "text/plain": [
       "9"
      ]
     },
     "execution_count": 5,
     "metadata": {},
     "output_type": "execute_result"
    }
   ],
   "source": [
    "s.nunique()"
   ]
  },
  {
   "cell_type": "markdown",
   "id": "ad6e4bf5",
   "metadata": {},
   "source": [
    "#### nunique\n",
    "\n",
    "number of unique records"
   ]
  },
  {
   "cell_type": "code",
   "execution_count": 7,
   "id": "8a3e7ff1",
   "metadata": {},
   "outputs": [
    {
     "data": {
      "text/plain": [
       "9"
      ]
     },
     "execution_count": 7,
     "metadata": {},
     "output_type": "execute_result"
    }
   ],
   "source": [
    "pd_s.nunique()"
   ]
  },
  {
   "cell_type": "markdown",
   "id": "2b1655a1",
   "metadata": {},
   "source": [
    "### apply"
   ]
  },
  {
   "cell_type": "code",
   "execution_count": 3,
   "id": "efcb7520",
   "metadata": {},
   "outputs": [],
   "source": [
    "def square(x):\n",
    "    return x **2"
   ]
  },
  {
   "cell_type": "code",
   "execution_count": 4,
   "id": "303352e1",
   "metadata": {},
   "outputs": [],
   "source": [
    "s = Series([1,2,3])\n",
    "pd_s = pd.Series([1,2,3])"
   ]
  },
  {
   "cell_type": "markdown",
   "id": "3089f029",
   "metadata": {},
   "source": [
    "##### mine"
   ]
  },
  {
   "cell_type": "code",
   "execution_count": 7,
   "id": "5601caaa",
   "metadata": {},
   "outputs": [],
   "source": [
    "s_apply = s.apply(square)"
   ]
  },
  {
   "cell_type": "code",
   "execution_count": 8,
   "id": "3994ba4a",
   "metadata": {},
   "outputs": [
    {
     "data": {
      "text/plain": [
       "src.Series.series.Series"
      ]
     },
     "execution_count": 8,
     "metadata": {},
     "output_type": "execute_result"
    }
   ],
   "source": [
    "type(s_apply)"
   ]
  },
  {
   "cell_type": "code",
   "execution_count": 9,
   "id": "52f45050",
   "metadata": {},
   "outputs": [
    {
     "data": {
      "text/html": [
       "<table style='border-collapse: collapse;'><tr><td style='text-align: 'left';'>0</td><td>1</td></tr><tr><td style='text-align: 'left';'>1</td><td>4</td></tr><tr><td style='text-align: 'left';'>2</td><td>9</td></tr><tr><td colspan='2' style='font-size:14px;'>Name: , dtype: int64</td></tr></table>"
      ],
      "text/plain": [
       "<Series />\n",
       "0    1\n",
       "1    4\n",
       "2    9\n",
       "Name:    dtype: int64"
      ]
     },
     "execution_count": 9,
     "metadata": {},
     "output_type": "execute_result"
    }
   ],
   "source": [
    "s_apply"
   ]
  },
  {
   "cell_type": "markdown",
   "id": "15fe1e18",
   "metadata": {},
   "source": [
    "##### pandas"
   ]
  },
  {
   "cell_type": "code",
   "execution_count": 10,
   "id": "205d3162",
   "metadata": {},
   "outputs": [],
   "source": [
    "pd_apply = pd_s.apply(square)"
   ]
  },
  {
   "cell_type": "code",
   "execution_count": 11,
   "id": "6186346d",
   "metadata": {},
   "outputs": [
    {
     "data": {
      "text/plain": [
       "pandas.core.series.Series"
      ]
     },
     "execution_count": 11,
     "metadata": {},
     "output_type": "execute_result"
    }
   ],
   "source": [
    "type(pd_apply)"
   ]
  },
  {
   "cell_type": "code",
   "execution_count": 12,
   "id": "780bfa21",
   "metadata": {},
   "outputs": [
    {
     "data": {
      "text/plain": [
       "0    1\n",
       "1    4\n",
       "2    9\n",
       "dtype: int64"
      ]
     },
     "execution_count": 12,
     "metadata": {},
     "output_type": "execute_result"
    }
   ],
   "source": [
    "pd_apply"
   ]
  },
  {
   "cell_type": "markdown",
   "id": "9b0f2c01",
   "metadata": {},
   "source": [
    "##### extras"
   ]
  },
  {
   "cell_type": "code",
   "execution_count": 14,
   "id": "07f92cf6",
   "metadata": {},
   "outputs": [
    {
     "data": {
      "text/html": [
       "<table style='border-collapse: collapse;'><tr><td style='text-align: 'left';'>0</td><td>1</td></tr><tr><td style='text-align: 'left';'>1</td><td>2</td></tr><tr><td style='text-align: 'left';'>2</td><td>3</td></tr><tr><td colspan='2' style='font-size:14px;'>Name: , dtype: int64</td></tr></table>"
      ],
      "text/plain": [
       "<Series />\n",
       "0    1\n",
       "1    2\n",
       "2    3\n",
       "Name:    dtype: int64"
      ]
     },
     "execution_count": 14,
     "metadata": {},
     "output_type": "execute_result"
    }
   ],
   "source": [
    "s"
   ]
  },
  {
   "cell_type": "code",
   "execution_count": 15,
   "id": "1095f24f",
   "metadata": {},
   "outputs": [
    {
     "data": {
      "text/html": [
       "<table style='border-collapse: collapse;'><tr><td style='text-align: 'left';'>0</td><td>False</td></tr><tr><td style='text-align: 'left';'>1</td><td>False</td></tr><tr><td style='text-align: 'left';'>2</td><td>True</td></tr><tr><td colspan='2' style='font-size:14px;'>Name: , dtype: bool</td></tr></table>"
      ],
      "text/plain": [
       "<Series />\n",
       "0    False\n",
       "1    False\n",
       "2    True\n",
       "Name:    dtype: bool"
      ]
     },
     "execution_count": 15,
     "metadata": {},
     "output_type": "execute_result"
    }
   ],
   "source": [
    "s.apply(lambda x: x > 2)"
   ]
  },
  {
   "cell_type": "markdown",
   "id": "300ca150",
   "metadata": {},
   "source": [
    "### map"
   ]
  },
  {
   "cell_type": "code",
   "execution_count": 5,
   "id": "760af036",
   "metadata": {},
   "outputs": [
    {
     "data": {
      "text/html": [
       "<table style='border-collapse: collapse;'><tr><td style='text-align: 'left';'>a</td><td>one</td></tr><tr><td style='text-align: 'left';'>b</td><td>two</td></tr><tr><td style='text-align: 'left';'>c</td><td>three</td></tr><tr><td colspan='2' style='font-size:14px;'>Name: example, dtype: str</td></tr></table>"
      ],
      "text/plain": [
       "<Series />\n",
       "a    one\n",
       "b    two\n",
       "c    three\n",
       "Name: example   dtype: str"
      ]
     },
     "execution_count": 5,
     "metadata": {},
     "output_type": "execute_result"
    }
   ],
   "source": [
    "s = Series([1,2,3], name='example', index=['a', 'b', 'c'])\n",
    "mapping = {1: 'one', 2: 'two', 3: 'three'}\n",
    "mapped_s = s.map(mapping)\n",
    "mapped_s"
   ]
  },
  {
   "cell_type": "code",
   "execution_count": 6,
   "id": "7d113095",
   "metadata": {},
   "outputs": [
    {
     "data": {
      "text/plain": [
       "['one', 'two', 'three']"
      ]
     },
     "execution_count": 6,
     "metadata": {},
     "output_type": "execute_result"
    }
   ],
   "source": [
    "mapped_s.data"
   ]
  },
  {
   "cell_type": "code",
   "execution_count": 4,
   "id": "0027c279",
   "metadata": {},
   "outputs": [
    {
     "data": {
      "text/html": [
       "<table style='border-collapse: collapse;'><tr><td style='text-align: 'left';'>a</td><td>2</td></tr><tr><td style='text-align: 'left';'>b</td><td>4</td></tr><tr><td style='text-align: 'left';'>c</td><td>6</td></tr><tr><td colspan='2' style='font-size:14px;'>Name: example, dtype: int64</td></tr></table>"
      ],
      "text/plain": [
       "<Series />\n",
       "a    2\n",
       "b    4\n",
       "c    6\n",
       "Name: example   dtype: int64"
      ]
     },
     "execution_count": 4,
     "metadata": {},
     "output_type": "execute_result"
    }
   ],
   "source": [
    "s.map(lambda x: x * 2)"
   ]
  },
  {
   "cell_type": "markdown",
   "id": "02b3d1d1",
   "metadata": {},
   "source": [
    "### astype"
   ]
  },
  {
   "cell_type": "code",
   "execution_count": 3,
   "id": "644593d3",
   "metadata": {},
   "outputs": [
    {
     "data": {
      "text/html": [
       "<table style='border-collapse: collapse;'><tr><td style='text-align: 'left';'>0</td><td>1.0</td></tr><tr><td style='text-align: 'left';'>1</td><td>2.0</td></tr><tr><td style='text-align: 'left';'>2</td><td>3.0</td></tr><tr><td colspan='2' style='font-size:14px;'>Name: , dtype: float64</td></tr></table>"
      ],
      "text/plain": [
       "<Series />\n",
       "0    1.0\n",
       "1    2.0\n",
       "2    3.0\n",
       "Name:    dtype: float64"
      ]
     },
     "execution_count": 3,
     "metadata": {},
     "output_type": "execute_result"
    }
   ],
   "source": [
    "s = Series([1,2,3])\n",
    "c = s.astype('float')\n",
    "c"
   ]
  },
  {
   "cell_type": "code",
   "execution_count": 4,
   "id": "3b3a86f0",
   "metadata": {},
   "outputs": [
    {
     "data": {
      "text/plain": [
       "0    1.0\n",
       "1    2.0\n",
       "2    3.0\n",
       "dtype: float64"
      ]
     },
     "execution_count": 4,
     "metadata": {},
     "output_type": "execute_result"
    }
   ],
   "source": [
    "ps = pd.Series([1,2,3])\n",
    "c = ps.astype('float')\n",
    "c"
   ]
  },
  {
   "cell_type": "code",
   "execution_count": 6,
   "id": "14189edc",
   "metadata": {},
   "outputs": [
    {
     "data": {
      "text/plain": [
       "1.0"
      ]
     },
     "execution_count": 6,
     "metadata": {},
     "output_type": "execute_result"
    }
   ],
   "source": [
    "float(1)"
   ]
  },
  {
   "cell_type": "markdown",
   "id": "dd9fb614",
   "metadata": {},
   "source": [
    "### stats"
   ]
  },
  {
   "cell_type": "code",
   "execution_count": 2,
   "id": "8b439726",
   "metadata": {},
   "outputs": [],
   "source": [
    "s = Series([1,2,3, 4])\n"
   ]
  },
  {
   "cell_type": "code",
   "execution_count": 4,
   "id": "2086e501",
   "metadata": {},
   "outputs": [
    {
     "data": {
      "text/plain": [
       "2.5"
      ]
     },
     "execution_count": 4,
     "metadata": {},
     "output_type": "execute_result"
    }
   ],
   "source": [
    "s.mean()"
   ]
  },
  {
   "cell_type": "code",
   "execution_count": 5,
   "id": "6ade3900",
   "metadata": {},
   "outputs": [
    {
     "data": {
      "text/plain": [
       "1.29"
      ]
     },
     "execution_count": 5,
     "metadata": {},
     "output_type": "execute_result"
    }
   ],
   "source": [
    "round(s.std(),2)"
   ]
  },
  {
   "cell_type": "code",
   "execution_count": 6,
   "id": "9e758b4f",
   "metadata": {},
   "outputs": [
    {
     "data": {
      "text/plain": [
       "1.6666666666666667"
      ]
     },
     "execution_count": 6,
     "metadata": {},
     "output_type": "execute_result"
    }
   ],
   "source": [
    "s.var()"
   ]
  },
  {
   "cell_type": "code",
   "execution_count": 7,
   "id": "0daf8c8e",
   "metadata": {},
   "outputs": [
    {
     "data": {
      "text/plain": [
       "1.25"
      ]
     },
     "execution_count": 7,
     "metadata": {},
     "output_type": "execute_result"
    }
   ],
   "source": [
    "s.var(sample=False)"
   ]
  },
  {
   "cell_type": "code",
   "execution_count": 3,
   "id": "be0a10ce",
   "metadata": {},
   "outputs": [
    {
     "data": {
      "text/plain": [
       "24"
      ]
     },
     "execution_count": 3,
     "metadata": {},
     "output_type": "execute_result"
    }
   ],
   "source": [
    "s.prod()"
   ]
  },
  {
   "cell_type": "code",
   "execution_count": 4,
   "id": "aa6c9287",
   "metadata": {},
   "outputs": [
    {
     "data": {
      "text/plain": [
       "[1, 3, 6, 10]"
      ]
     },
     "execution_count": 4,
     "metadata": {},
     "output_type": "execute_result"
    }
   ],
   "source": [
    "s.cumsum().data"
   ]
  },
  {
   "cell_type": "code",
   "execution_count": 6,
   "id": "549d13c5",
   "metadata": {},
   "outputs": [
    {
     "data": {
      "text/plain": [
       "[1, 2, 6, 24]"
      ]
     },
     "execution_count": 6,
     "metadata": {},
     "output_type": "execute_result"
    }
   ],
   "source": [
    "s.cumprod().data"
   ]
  },
  {
   "cell_type": "code",
   "execution_count": 10,
   "id": "2e2066ac",
   "metadata": {},
   "outputs": [
    {
     "data": {
      "text/plain": [
       "[3, 2, 2, 1, 1]"
      ]
     },
     "execution_count": 10,
     "metadata": {},
     "output_type": "execute_result"
    }
   ],
   "source": [
    "s1 = Series([3, 2, 5, 1, 4])\n",
    "s1.cummin().data"
   ]
  },
  {
   "cell_type": "code",
   "execution_count": 11,
   "id": "2b1a8835",
   "metadata": {},
   "outputs": [
    {
     "data": {
      "text/plain": [
       "[3, 3, 5, 5, 5]"
      ]
     },
     "execution_count": 11,
     "metadata": {},
     "output_type": "execute_result"
    }
   ],
   "source": [
    "s1.cummax().data"
   ]
  },
  {
   "cell_type": "markdown",
   "id": "9a88419f",
   "metadata": {},
   "source": [
    "## Dataset"
   ]
  },
  {
   "cell_type": "markdown",
   "id": "2e9bc9cd",
   "metadata": {},
   "source": [
    "#### imports and data"
   ]
  },
  {
   "cell_type": "code",
   "execution_count": 2,
   "id": "d29cf3ce",
   "metadata": {},
   "outputs": [],
   "source": [
    "\n",
    "from test_data import data"
   ]
  },
  {
   "cell_type": "code",
   "execution_count": 5,
   "id": "ac78bfbb",
   "metadata": {},
   "outputs": [],
   "source": [
    "#data"
   ]
  },
  {
   "cell_type": "markdown",
   "id": "7c28e0c7",
   "metadata": {},
   "source": [
    "### instantiation"
   ]
  },
  {
   "cell_type": "code",
   "execution_count": null,
   "id": "079cbeba",
   "metadata": {},
   "outputs": [],
   "source": [
    "#data = {'a': [1, 2, 3], 'b': [4, 5, 6]}"
   ]
  },
  {
   "cell_type": "code",
   "execution_count": 3,
   "id": "db75bb0f",
   "metadata": {},
   "outputs": [
    {
     "data": {
      "text/html": [
       "\n",
       "            <div>\n",
       "                <a download=\"dataset.csv\" href=\"data:text/csv;base64,LHByb2R1Y3RfY29kZSxkZXNjcmlwdGlvbixwcmljZSxjb3N0LGRlcGFydG1lbnQsZGVwYXJ0bWVudF9pZCx0eXBlLHZlbmRvcl9uYW1lDQowLDAwMDI2NjMzODAxNDcsU2FsdCBhbmQgUGVwcGVyIENoaXBzLDQuOTUsMy45OSxncm9jZXJ5LDEsZWFjaCxDaGlwcyByIFVzDQoxLDAwMDI2NjMzNTgwMDEsQmFyYmVjdWUgQ2hpcHMsNC45NSwzLjk5LGdyb2NlcnksMSxlYWNoLENoaXBzIHIgVXMNCjIsMDAwMzY0NDkyMDQ3NSxUb2lsZXQgUGFwZXIsNi45OSw2LjQ5LG5vbiBmb29kLDIsZWFjaCxIb21lIENvbWZ5cw0KMywwMDAzNjQ0OTg5NTQxLFRpc3N1ZSBQYXBlciwyLjQ5LDEuOTksbm9uIGZvb2QsMixlYWNoLEhvbWUgQ29tZnlzDQo0LDAwMjAwMDAxMDAwMDAsUG9yayBDaG9wcywxMS4yNSwxMC45OSxtZWF0LDMsbGIsTWF0dHMgbWVhdHMNCjUsMDAyMDAwMDIwMDAwMCxTaXJsb2luIFN0ZWFrLDIxLjk5LDE5Ljk5LG1lYXQsMyxsYixNYXR0cyBtZWF0cw0KNiwwMDA3NzgwNTIyNTQ2LEFtZXJpY2FuIENoZWVzZSw0Ljk5LDQuNDksZGFpcnksNCxlYWNoLE1pbGt5IE1vZXMNCjcsMDAwNzc4MDU4MDIzNSwxIEdhbGxvbiBNaWxrLDMuOTksMi45OSxkYWlyeSw0LGVhY2gsTWlsa3kgTW9lcw0K\" target=\"_blank\"\n",
       "            style=\"\n",
       "               display: inline-block;\n",
       "               color: white;\n",
       "               text-decoration: none;\n",
       "               font-family: sans-serif;\n",
       "           \"\n",
       "        >Download CSV</a>\n",
       "                <table>\n",
       "                    <thead><tr><th></th><th>product_code</th><th>description</th><th>price</th><th>cost</th><th>department</th><th>department_id</th><th>type</th><th>vendor_name</th></tr></thead>\n",
       "                    <tbody><tr><td><strong>0</strong></td><td>0002663380147</td><td>Salt and Pepper Chips</td><td>4.95</td><td>3.99</td><td>grocery</td><td>1</td><td>each</td><td>Chips r Us</td></tr><tr><td><strong>1</strong></td><td>0002663358001</td><td>Barbecue Chips</td><td>4.95</td><td>3.99</td><td>grocery</td><td>1</td><td>each</td><td>Chips r Us</td></tr><tr><td><strong>2</strong></td><td>0003644920475</td><td>Toilet Paper</td><td>6.99</td><td>6.49</td><td>non food</td><td>2</td><td>each</td><td>Home Comfys</td></tr><tr><td><strong>3</strong></td><td>0003644989541</td><td>Tissue Paper</td><td>2.49</td><td>1.99</td><td>non food</td><td>2</td><td>each</td><td>Home Comfys</td></tr><tr><td><strong>4</strong></td><td>0020000100000</td><td>Pork Chops</td><td>11.25</td><td>10.99</td><td>meat</td><td>3</td><td>lb</td><td>Matts meats</td></tr><tr><td><strong>5</strong></td><td>0020000200000</td><td>Sirloin Steak</td><td>21.99</td><td>19.99</td><td>meat</td><td>3</td><td>lb</td><td>Matts meats</td></tr><tr><td><strong>6</strong></td><td>0007780522546</td><td>American Cheese</td><td>4.99</td><td>4.49</td><td>dairy</td><td>4</td><td>each</td><td>Milky Moes</td></tr><tr><td><strong>7</strong></td><td>0007780580235</td><td>1 Gallon Milk</td><td>3.99</td><td>2.99</td><td>dairy</td><td>4</td><td>each</td><td>Milky Moes</td></tr></tbody>\n",
       "                </table>\n",
       "            </div>\n",
       "        "
      ],
      "text/plain": [
       "<Dataset />\n",
       "product_code, description, price, cost, department, department_id, type, vendor_name\n",
       "0002663380147, Salt and Pepper Chips, 4.95, 3.99, grocery, 1, each, Chips r Us\n",
       "0002663358001, Barbecue Chips, 4.95, 3.99, grocery, 1, each, Chips r Us\n",
       "0003644920475, Toilet Paper, 6.99, 6.49, non food, 2, each, Home Comfys\n",
       "0003644989541, Tissue Paper, 2.49, 1.99, non food, 2, each, Home Comfys\n",
       "0020000100000, Pork Chops, 11.25, 10.99, meat, 3, lb, Matts meats\n",
       "0020000200000, Sirloin Steak, 21.99, 19.99, meat, 3, lb, Matts meats\n",
       "0007780522546, American Cheese, 4.99, 4.49, dairy, 4, each, Milky Moes\n",
       "0007780580235, 1 Gallon Milk, 3.99, 2.99, dairy, 4, each, Milky Moes"
      ]
     },
     "execution_count": 3,
     "metadata": {},
     "output_type": "execute_result"
    }
   ],
   "source": [
    "ds = Dataset(data)\n",
    "ds"
   ]
  },
  {
   "cell_type": "code",
   "execution_count": 4,
   "id": "2843e382",
   "metadata": {},
   "outputs": [],
   "source": [
    "#ds.data"
   ]
  },
  {
   "cell_type": "code",
   "execution_count": 28,
   "id": "6fb13067",
   "metadata": {},
   "outputs": [
    {
     "data": {
      "text/plain": [
       "['product_code',\n",
       " 'description',\n",
       " 'price',\n",
       " 'cost',\n",
       " 'department',\n",
       " 'department_id',\n",
       " 'type',\n",
       " 'vendor_name']"
      ]
     },
     "execution_count": 28,
     "metadata": {},
     "output_type": "execute_result"
    }
   ],
   "source": [
    "ds.columns"
   ]
  },
  {
   "cell_type": "code",
   "execution_count": 10,
   "id": "1105c300",
   "metadata": {},
   "outputs": [
    {
     "data": {
      "text/plain": [
       "'<Dataset />\\na, b\\n0, 0\\n1, 2\\n2, 4\\n3, 6\\n4, 8\\n5, 10\\n6, 12\\n7, 14\\n8, 16\\n9, 18\\n...(15) total rows'"
      ]
     },
     "execution_count": 10,
     "metadata": {},
     "output_type": "execute_result"
    }
   ],
   "source": [
    "data = [{'a': i, 'b': i * 2} for i in range(15)]\n",
    "ds = Dataset(data)\n",
    "output = repr(ds)\n",
    "output"
   ]
  },
  {
   "cell_type": "code",
   "execution_count": 7,
   "id": "857eb949",
   "metadata": {},
   "outputs": [],
   "source": [
    "data = {'a': [1,3], 'b': [2,4]}\n",
    "ds = Dataset(data)"
   ]
  },
  {
   "cell_type": "code",
   "execution_count": 6,
   "id": "1e212fbf",
   "metadata": {},
   "outputs": [
    {
     "data": {
      "text/html": [
       "<div>\n",
       "<style scoped>\n",
       "    .dataframe tbody tr th:only-of-type {\n",
       "        vertical-align: middle;\n",
       "    }\n",
       "\n",
       "    .dataframe tbody tr th {\n",
       "        vertical-align: top;\n",
       "    }\n",
       "\n",
       "    .dataframe thead th {\n",
       "        text-align: right;\n",
       "    }\n",
       "</style>\n",
       "<table border=\"1\" class=\"dataframe\">\n",
       "  <thead>\n",
       "    <tr style=\"text-align: right;\">\n",
       "      <th></th>\n",
       "      <th>a</th>\n",
       "      <th>b</th>\n",
       "    </tr>\n",
       "  </thead>\n",
       "  <tbody>\n",
       "    <tr>\n",
       "      <th>0</th>\n",
       "      <td>1</td>\n",
       "      <td>4</td>\n",
       "    </tr>\n",
       "    <tr>\n",
       "      <th>1</th>\n",
       "      <td>2</td>\n",
       "      <td>5</td>\n",
       "    </tr>\n",
       "    <tr>\n",
       "      <th>2</th>\n",
       "      <td>3</td>\n",
       "      <td>6</td>\n",
       "    </tr>\n",
       "  </tbody>\n",
       "</table>\n",
       "</div>"
      ],
      "text/plain": [
       "   a  b\n",
       "0  1  4\n",
       "1  2  5\n",
       "2  3  6"
      ]
     },
     "execution_count": 6,
     "metadata": {},
     "output_type": "execute_result"
    }
   ],
   "source": [
    "pds = pd.DataFrame(data)\n",
    "pds"
   ]
  },
  {
   "cell_type": "code",
   "execution_count": 4,
   "id": "050b4c61",
   "metadata": {},
   "outputs": [
    {
     "data": {
      "text/plain": [
       "8"
      ]
     },
     "execution_count": 4,
     "metadata": {},
     "output_type": "execute_result"
    }
   ],
   "source": [
    "ds.len()"
   ]
  },
  {
   "cell_type": "code",
   "execution_count": 5,
   "id": "d9a5b554",
   "metadata": {},
   "outputs": [
    {
     "data": {
      "text/plain": [
       "8"
      ]
     },
     "execution_count": 5,
     "metadata": {},
     "output_type": "execute_result"
    }
   ],
   "source": [
    "len(ds)"
   ]
  },
  {
   "cell_type": "markdown",
   "id": "21c0f119",
   "metadata": {},
   "source": [
    "#### exploration"
   ]
  },
  {
   "cell_type": "markdown",
   "id": "1a050dcd",
   "metadata": {},
   "source": [
    "##### check the lengths"
   ]
  },
  {
   "cell_type": "code",
   "execution_count": 37,
   "id": "2e5db4cc",
   "metadata": {},
   "outputs": [
    {
     "data": {
      "text/plain": [
       "1"
      ]
     },
     "execution_count": 37,
     "metadata": {},
     "output_type": "execute_result"
    }
   ],
   "source": [
    "# check to make sure all columns have same length\n",
    "len(set([len(v) for v in data.values()]))"
   ]
  },
  {
   "cell_type": "markdown",
   "id": "821ba04d",
   "metadata": {},
   "source": [
    "##### create the dataset"
   ]
  },
  {
   "cell_type": "code",
   "execution_count": 6,
   "id": "6edf47a4",
   "metadata": {},
   "outputs": [
    {
     "data": {
      "text/plain": [
       "['a', 'b']"
      ]
     },
     "execution_count": 6,
     "metadata": {},
     "output_type": "execute_result"
    }
   ],
   "source": [
    "# each key represents a column and each value is a list of column values\n",
    "keys = list(data.keys())\n",
    "keys"
   ]
  },
  {
   "cell_type": "code",
   "execution_count": null,
   "id": "53c7d568",
   "metadata": {},
   "outputs": [
    {
     "data": {
      "text/plain": [
       "dict_values([[1, 2, 3], [4, 5, 6]])"
      ]
     },
     "execution_count": 44,
     "metadata": {},
     "output_type": "execute_result"
    }
   ],
   "source": [
    "data.values()"
   ]
  },
  {
   "cell_type": "code",
   "execution_count": null,
   "id": "43959741",
   "metadata": {},
   "outputs": [
    {
     "data": {
      "text/plain": [
       "<zip at 0x2a9806f3a40>"
      ]
     },
     "execution_count": 45,
     "metadata": {},
     "output_type": "execute_result"
    }
   ],
   "source": [
    "values = zip(*data.values())\n",
    "values"
   ]
  },
  {
   "cell_type": "code",
   "execution_count": null,
   "id": "ffe72773",
   "metadata": {},
   "outputs": [
    {
     "data": {
      "text/plain": [
       "<zip at 0x2a9806f0140>"
      ]
     },
     "execution_count": 49,
     "metadata": {},
     "output_type": "execute_result"
    }
   ],
   "source": [
    "# *data.values() unpacks this into separate arguments to zip\n",
    "zip([1, 2, 3], [4, 5, 6])"
   ]
  },
  {
   "cell_type": "markdown",
   "id": "4487b356",
   "metadata": {},
   "source": [
    "this should look like this:\n",
    "\n",
    "values = [\n",
    "    (1,4),\n",
    "    (2,5),\n",
    "    (3,6)\n",
    "]"
   ]
  },
  {
   "cell_type": "code",
   "execution_count": null,
   "id": "d0d65f7f",
   "metadata": {},
   "outputs": [
    {
     "name": "stdout",
     "output_type": "stream",
     "text": [
      "[{'a': 1, 'b': 4}, {'a': 2, 'b': 5}, {'a': 3, 'b': 6}]\n"
     ]
    }
   ],
   "source": [
    "output = [dict(zip(keys, row)) for row in values]\n",
    "print(output)\n",
    "# this zips ['a', 'b'] with (1,4) -> {'a': 1, 'b': 4}, etc"
   ]
  },
  {
   "cell_type": "code",
   "execution_count": null,
   "id": "4b313448",
   "metadata": {},
   "outputs": [
    {
     "name": "stdout",
     "output_type": "stream",
     "text": [
      "(1, 4)\n",
      "(2, 5)\n",
      "(3, 6)\n"
     ]
    },
    {
     "data": {
      "text/plain": [
       "[{'a': 1, 'b': 4}, {'a': 2, 'b': 5}, {'a': 3, 'b': 6}]"
      ]
     },
     "execution_count": 51,
     "metadata": {},
     "output_type": "execute_result"
    }
   ],
   "source": [
    "# simplified version\n",
    "columns = {'a': [1,2,3], 'b': [4, 5, 6]}\n",
    "rows = []\n",
    "for row_values in zip(*columns.values()):\n",
    "    print(row_values)\n",
    "    row_dict = dict(zip(columns.keys(), row_values))\n",
    "    rows.append(row_dict)\n",
    "\n",
    "rows"
   ]
  },
  {
   "cell_type": "markdown",
   "id": "fcf51a84",
   "metadata": {},
   "source": [
    "### stats"
   ]
  },
  {
   "cell_type": "code",
   "execution_count": 9,
   "id": "95f82791",
   "metadata": {},
   "outputs": [],
   "source": [
    "ds = Dataset(data)\n",
    "pds = pd.DataFrame(data)"
   ]
  },
  {
   "cell_type": "code",
   "execution_count": 19,
   "id": "b7fa30f7",
   "metadata": {},
   "outputs": [],
   "source": [
    "#ds"
   ]
  },
  {
   "cell_type": "markdown",
   "id": "0ee8286d",
   "metadata": {},
   "source": [
    "##### head and tail"
   ]
  },
  {
   "cell_type": "code",
   "execution_count": 5,
   "id": "dde34e52",
   "metadata": {},
   "outputs": [
    {
     "data": {
      "text/html": [
       "\n",
       "            <table>\n",
       "                <thead><tr><th></th><th>product_code</th><th>description</th><th>price</th><th>cost</th><th>department</th><th>department_id</th><th>type</th><th>vendor_name</th></tr></thead>\n",
       "                <tbody><tr><td><strong>0</strong></td><td>0002663380147</td><td>Salt and Pepper Chips</td><td>4.95</td><td>3.99</td><td>grocery</td><td>1</td><td>each</td><td>Chips r Us</td></tr><tr><td><strong>1</strong></td><td>0002663358001</td><td>Barbecue Chips</td><td>4.95</td><td>3.99</td><td>grocery</td><td>1</td><td>each</td><td>Chips r Us</td></tr></tbody>\n",
       "            </table>\n",
       "        "
      ],
      "text/plain": [
       "<Dataset />\n",
       "product_code, description, price, cost, department, department_id, type, vendor_name\n",
       "0002663380147, Salt and Pepper Chips, 4.95, 3.99, grocery, 1, each, Chips r Us\n",
       "0002663358001, Barbecue Chips, 4.95, 3.99, grocery, 1, each, Chips r Us"
      ]
     },
     "execution_count": 5,
     "metadata": {},
     "output_type": "execute_result"
    }
   ],
   "source": [
    "ds.head(2)"
   ]
  },
  {
   "cell_type": "code",
   "execution_count": 6,
   "id": "6a225182",
   "metadata": {},
   "outputs": [
    {
     "data": {
      "text/html": [
       "\n",
       "            <table>\n",
       "                <thead><tr><th></th><th>product_code</th><th>description</th><th>price</th><th>cost</th><th>department</th><th>department_id</th><th>type</th><th>vendor_name</th></tr></thead>\n",
       "                <tbody><tr><td><strong>6</strong></td><td>0007780522546</td><td>American Cheese</td><td>4.99</td><td>4.49</td><td>diary</td><td>4</td><td>each</td><td>Milky Moes</td></tr><tr><td><strong>7</strong></td><td>0007780580235</td><td>1 Gallon Mile</td><td>3.99</td><td>2.99</td><td>diary</td><td>4</td><td>each</td><td>Milky Moes</td></tr></tbody>\n",
       "            </table>\n",
       "        "
      ],
      "text/plain": [
       "<Dataset />\n",
       "product_code, description, price, cost, department, department_id, type, vendor_name\n",
       "0007780522546, American Cheese, 4.99, 4.49, diary, 4, each, Milky Moes\n",
       "0007780580235, 1 Gallon Mile, 3.99, 2.99, diary, 4, each, Milky Moes"
      ]
     },
     "execution_count": 6,
     "metadata": {},
     "output_type": "execute_result"
    }
   ],
   "source": [
    "ds.tail(2)"
   ]
  },
  {
   "cell_type": "code",
   "execution_count": 9,
   "id": "866c8784",
   "metadata": {},
   "outputs": [
    {
     "data": {
      "text/html": [
       "<div>\n",
       "<style scoped>\n",
       "    .dataframe tbody tr th:only-of-type {\n",
       "        vertical-align: middle;\n",
       "    }\n",
       "\n",
       "    .dataframe tbody tr th {\n",
       "        vertical-align: top;\n",
       "    }\n",
       "\n",
       "    .dataframe thead th {\n",
       "        text-align: right;\n",
       "    }\n",
       "</style>\n",
       "<table border=\"1\" class=\"dataframe\">\n",
       "  <thead>\n",
       "    <tr style=\"text-align: right;\">\n",
       "      <th></th>\n",
       "      <th>product_code</th>\n",
       "      <th>description</th>\n",
       "      <th>price</th>\n",
       "      <th>cost</th>\n",
       "      <th>department</th>\n",
       "      <th>department_id</th>\n",
       "      <th>type</th>\n",
       "      <th>vendor_name</th>\n",
       "    </tr>\n",
       "  </thead>\n",
       "  <tbody>\n",
       "    <tr>\n",
       "      <th>0</th>\n",
       "      <td>0002663380147</td>\n",
       "      <td>Salt and Pepper Chips</td>\n",
       "      <td>4.95</td>\n",
       "      <td>3.99</td>\n",
       "      <td>grocery</td>\n",
       "      <td>1</td>\n",
       "      <td>each</td>\n",
       "      <td>Chips r Us</td>\n",
       "    </tr>\n",
       "    <tr>\n",
       "      <th>1</th>\n",
       "      <td>0002663358001</td>\n",
       "      <td>Barbecue Chips</td>\n",
       "      <td>4.95</td>\n",
       "      <td>3.99</td>\n",
       "      <td>grocery</td>\n",
       "      <td>1</td>\n",
       "      <td>each</td>\n",
       "      <td>Chips r Us</td>\n",
       "    </tr>\n",
       "    <tr>\n",
       "      <th>2</th>\n",
       "      <td>0003644920475</td>\n",
       "      <td>Toilet Paper</td>\n",
       "      <td>6.99</td>\n",
       "      <td>6.49</td>\n",
       "      <td>non food</td>\n",
       "      <td>2</td>\n",
       "      <td>each</td>\n",
       "      <td>Home Comfys</td>\n",
       "    </tr>\n",
       "    <tr>\n",
       "      <th>3</th>\n",
       "      <td>0003644989541</td>\n",
       "      <td>Tissue Paper</td>\n",
       "      <td>2.49</td>\n",
       "      <td>1.99</td>\n",
       "      <td>non food</td>\n",
       "      <td>2</td>\n",
       "      <td>each</td>\n",
       "      <td>Home Comfys</td>\n",
       "    </tr>\n",
       "    <tr>\n",
       "      <th>4</th>\n",
       "      <td>0020000100000</td>\n",
       "      <td>Pork Chops</td>\n",
       "      <td>11.25</td>\n",
       "      <td>10.99</td>\n",
       "      <td>meat</td>\n",
       "      <td>3</td>\n",
       "      <td>lb</td>\n",
       "      <td>Matts meats</td>\n",
       "    </tr>\n",
       "  </tbody>\n",
       "</table>\n",
       "</div>"
      ],
      "text/plain": [
       "    product_code            description  price   cost department  \\\n",
       "0  0002663380147  Salt and Pepper Chips   4.95   3.99    grocery   \n",
       "1  0002663358001         Barbecue Chips   4.95   3.99    grocery   \n",
       "2  0003644920475           Toilet Paper   6.99   6.49   non food   \n",
       "3  0003644989541           Tissue Paper   2.49   1.99   non food   \n",
       "4  0020000100000             Pork Chops  11.25  10.99       meat   \n",
       "\n",
       "   department_id  type  vendor_name  \n",
       "0              1  each   Chips r Us  \n",
       "1              1  each   Chips r Us  \n",
       "2              2  each  Home Comfys  \n",
       "3              2  each  Home Comfys  \n",
       "4              3    lb  Matts meats  "
      ]
     },
     "execution_count": 9,
     "metadata": {},
     "output_type": "execute_result"
    }
   ],
   "source": [
    "pds = pd.DataFrame(data)\n",
    "pds.head()"
   ]
  },
  {
   "cell_type": "code",
   "execution_count": 10,
   "id": "df51cecf",
   "metadata": {},
   "outputs": [
    {
     "data": {
      "text/html": [
       "<div>\n",
       "<style scoped>\n",
       "    .dataframe tbody tr th:only-of-type {\n",
       "        vertical-align: middle;\n",
       "    }\n",
       "\n",
       "    .dataframe tbody tr th {\n",
       "        vertical-align: top;\n",
       "    }\n",
       "\n",
       "    .dataframe thead th {\n",
       "        text-align: right;\n",
       "    }\n",
       "</style>\n",
       "<table border=\"1\" class=\"dataframe\">\n",
       "  <thead>\n",
       "    <tr style=\"text-align: right;\">\n",
       "      <th></th>\n",
       "      <th>product_code</th>\n",
       "      <th>description</th>\n",
       "      <th>price</th>\n",
       "      <th>cost</th>\n",
       "      <th>department</th>\n",
       "      <th>department_id</th>\n",
       "      <th>type</th>\n",
       "      <th>vendor_name</th>\n",
       "    </tr>\n",
       "  </thead>\n",
       "  <tbody>\n",
       "    <tr>\n",
       "      <th>3</th>\n",
       "      <td>0003644989541</td>\n",
       "      <td>Tissue Paper</td>\n",
       "      <td>2.49</td>\n",
       "      <td>1.99</td>\n",
       "      <td>non food</td>\n",
       "      <td>2</td>\n",
       "      <td>each</td>\n",
       "      <td>Home Comfys</td>\n",
       "    </tr>\n",
       "    <tr>\n",
       "      <th>4</th>\n",
       "      <td>0020000100000</td>\n",
       "      <td>Pork Chops</td>\n",
       "      <td>11.25</td>\n",
       "      <td>10.99</td>\n",
       "      <td>meat</td>\n",
       "      <td>3</td>\n",
       "      <td>lb</td>\n",
       "      <td>Matts meats</td>\n",
       "    </tr>\n",
       "    <tr>\n",
       "      <th>5</th>\n",
       "      <td>0020000200000</td>\n",
       "      <td>Sirloin Steak</td>\n",
       "      <td>21.99</td>\n",
       "      <td>19.99</td>\n",
       "      <td>meat</td>\n",
       "      <td>3</td>\n",
       "      <td>lb</td>\n",
       "      <td>Matts meats</td>\n",
       "    </tr>\n",
       "    <tr>\n",
       "      <th>6</th>\n",
       "      <td>0007780522546</td>\n",
       "      <td>American Cheese</td>\n",
       "      <td>4.99</td>\n",
       "      <td>4.49</td>\n",
       "      <td>diary</td>\n",
       "      <td>4</td>\n",
       "      <td>each</td>\n",
       "      <td>Milky Moes</td>\n",
       "    </tr>\n",
       "    <tr>\n",
       "      <th>7</th>\n",
       "      <td>0007780580235</td>\n",
       "      <td>1 Gallon Mile</td>\n",
       "      <td>3.99</td>\n",
       "      <td>2.99</td>\n",
       "      <td>diary</td>\n",
       "      <td>4</td>\n",
       "      <td>each</td>\n",
       "      <td>Milky Moes</td>\n",
       "    </tr>\n",
       "  </tbody>\n",
       "</table>\n",
       "</div>"
      ],
      "text/plain": [
       "    product_code      description  price   cost department  department_id  \\\n",
       "3  0003644989541     Tissue Paper   2.49   1.99   non food              2   \n",
       "4  0020000100000       Pork Chops  11.25  10.99       meat              3   \n",
       "5  0020000200000    Sirloin Steak  21.99  19.99       meat              3   \n",
       "6  0007780522546  American Cheese   4.99   4.49      diary              4   \n",
       "7  0007780580235    1 Gallon Mile   3.99   2.99      diary              4   \n",
       "\n",
       "   type  vendor_name  \n",
       "3  each  Home Comfys  \n",
       "4    lb  Matts meats  \n",
       "5    lb  Matts meats  \n",
       "6  each   Milky Moes  \n",
       "7  each   Milky Moes  "
      ]
     },
     "execution_count": 10,
     "metadata": {},
     "output_type": "execute_result"
    }
   ],
   "source": [
    "pds.tail()"
   ]
  },
  {
   "cell_type": "markdown",
   "id": "17e73586",
   "metadata": {},
   "source": [
    "##### describe"
   ]
  },
  {
   "cell_type": "code",
   "execution_count": 10,
   "id": "46a8b1b9",
   "metadata": {},
   "outputs": [
    {
     "data": {
      "text/plain": [
       "(8, 8)"
      ]
     },
     "execution_count": 10,
     "metadata": {},
     "output_type": "execute_result"
    }
   ],
   "source": [
    "ds.shape()"
   ]
  },
  {
   "cell_type": "code",
   "execution_count": 11,
   "id": "f953d47a",
   "metadata": {},
   "outputs": [
    {
     "data": {
      "text/plain": [
       "(8, 8)"
      ]
     },
     "execution_count": 11,
     "metadata": {},
     "output_type": "execute_result"
    }
   ],
   "source": [
    "pds.shape"
   ]
  },
  {
   "cell_type": "code",
   "execution_count": 23,
   "id": "d8fef973",
   "metadata": {},
   "outputs": [
    {
     "data": {
      "text/plain": [
       "['product_code',\n",
       " 'description',\n",
       " 'price',\n",
       " 'cost',\n",
       " 'department',\n",
       " 'department_id',\n",
       " 'type',\n",
       " 'vendor_name']"
      ]
     },
     "execution_count": 23,
     "metadata": {},
     "output_type": "execute_result"
    }
   ],
   "source": [
    "ds.columns"
   ]
  },
  {
   "cell_type": "code",
   "execution_count": 25,
   "id": "3a1b464b",
   "metadata": {},
   "outputs": [
    {
     "data": {
      "text/plain": [
       "Index(['product_code', 'description', 'price', 'cost', 'department',\n",
       "       'department_id', 'type', 'vendor_name'],\n",
       "      dtype='object')"
      ]
     },
     "execution_count": 25,
     "metadata": {},
     "output_type": "execute_result"
    }
   ],
   "source": [
    "pds.columns"
   ]
  },
  {
   "cell_type": "code",
   "execution_count": 4,
   "id": "b0d623ea",
   "metadata": {},
   "outputs": [
    {
     "data": {
      "text/html": [
       "\n",
       "            <table>\n",
       "                <thead><tr><th></th><th>stat</th><th>product_code</th><th>description</th><th>price</th><th>cost</th><th>department</th><th>department_id</th><th>type</th><th>vendor_name</th></tr></thead>\n",
       "                <tbody><tr><td><strong>0</strong></td><td>mean</td><td>None</td><td>None</td><td>7.7</td><td>6.87</td><td>None</td><td>2.5</td><td>None</td><td>None</td></tr><tr><td><strong>1</strong></td><td>std</td><td>None</td><td>None</td><td>6.33</td><td>5.98</td><td>None</td><td>1.2</td><td>None</td><td>None</td></tr><tr><td><strong>2</strong></td><td>min</td><td>None</td><td>None</td><td>2.49</td><td>1.99</td><td>None</td><td>1</td><td>None</td><td>None</td></tr><tr><td><strong>3</strong></td><td>Q1</td><td>None</td><td>None</td><td>4.95</td><td>3.99</td><td>None</td><td>2</td><td>None</td><td>None</td></tr><tr><td><strong>4</strong></td><td>median</td><td>None</td><td>None</td><td>4.97</td><td>4.24</td><td>None</td><td>2.5</td><td>None</td><td>None</td></tr><tr><td><strong>5</strong></td><td>Q3</td><td>None</td><td>None</td><td>6.99</td><td>6.49</td><td>None</td><td>3</td><td>None</td><td>None</td></tr><tr><td><strong>6</strong></td><td>max</td><td>None</td><td>None</td><td>21.99</td><td>19.99</td><td>None</td><td>4</td><td>None</td><td>None</td></tr><tr><td><strong>7</strong></td><td>count</td><td>None</td><td>None</td><td>8</td><td>8</td><td>None</td><td>8</td><td>None</td><td>None</td></tr></tbody>\n",
       "            </table>\n",
       "        "
      ],
      "text/plain": [
       "<Dataset />\n",
       "stat, product_code, description, price, cost, department, department_id, type, vendor_name\n",
       "mean, None, None, 7.7, 6.87, None, 2.5, None, None\n",
       "std, None, None, 6.33, 5.98, None, 1.2, None, None\n",
       "min, None, None, 2.49, 1.99, None, 1, None, None\n",
       "Q1, None, None, 4.95, 3.99, None, 2, None, None\n",
       "median, None, None, 4.97, 4.24, None, 2.5, None, None\n",
       "Q3, None, None, 6.99, 6.49, None, 3, None, None\n",
       "max, None, None, 21.99, 19.99, None, 4, None, None\n",
       "count, None, None, 8, 8, None, 8, None, None"
      ]
     },
     "execution_count": 4,
     "metadata": {},
     "output_type": "execute_result"
    }
   ],
   "source": [
    "ds.describe()"
   ]
  },
  {
   "cell_type": "code",
   "execution_count": 5,
   "id": "ed85c727",
   "metadata": {},
   "outputs": [
    {
     "data": {
      "text/html": [
       "\n",
       "            <table>\n",
       "                <thead><tr><th></th><th>stat</th><th>price</th><th>cost</th><th>department_id</th></tr></thead>\n",
       "                <tbody><tr><td><strong>0</strong></td><td>mean</td><td>7.7</td><td>6.87</td><td>2.5</td></tr><tr><td><strong>1</strong></td><td>std</td><td>6.33</td><td>5.98</td><td>1.2</td></tr><tr><td><strong>2</strong></td><td>min</td><td>2.49</td><td>1.99</td><td>1</td></tr><tr><td><strong>3</strong></td><td>Q1</td><td>4.95</td><td>3.99</td><td>2</td></tr><tr><td><strong>4</strong></td><td>median</td><td>4.97</td><td>4.24</td><td>2.5</td></tr><tr><td><strong>5</strong></td><td>Q3</td><td>6.99</td><td>6.49</td><td>3</td></tr><tr><td><strong>6</strong></td><td>max</td><td>21.99</td><td>19.99</td><td>4</td></tr><tr><td><strong>7</strong></td><td>count</td><td>8</td><td>8</td><td>8</td></tr></tbody>\n",
       "            </table>\n",
       "        "
      ],
      "text/plain": [
       "<Dataset />\n",
       "stat, price, cost, department_id\n",
       "mean, 7.7, 6.87, 2.5\n",
       "std, 6.33, 5.98, 1.2\n",
       "min, 2.49, 1.99, 1\n",
       "Q1, 4.95, 3.99, 2\n",
       "median, 4.97, 4.24, 2.5\n",
       "Q3, 6.99, 6.49, 3\n",
       "max, 21.99, 19.99, 4\n",
       "count, 8, 8, 8"
      ]
     },
     "execution_count": 5,
     "metadata": {},
     "output_type": "execute_result"
    }
   ],
   "source": [
    "ds.describe(numeric_only=True)"
   ]
  },
  {
   "cell_type": "code",
   "execution_count": 26,
   "id": "4ef36a2e",
   "metadata": {},
   "outputs": [
    {
     "data": {
      "text/html": [
       "<div>\n",
       "<style scoped>\n",
       "    .dataframe tbody tr th:only-of-type {\n",
       "        vertical-align: middle;\n",
       "    }\n",
       "\n",
       "    .dataframe tbody tr th {\n",
       "        vertical-align: top;\n",
       "    }\n",
       "\n",
       "    .dataframe thead th {\n",
       "        text-align: right;\n",
       "    }\n",
       "</style>\n",
       "<table border=\"1\" class=\"dataframe\">\n",
       "  <thead>\n",
       "    <tr style=\"text-align: right;\">\n",
       "      <th></th>\n",
       "      <th>price</th>\n",
       "      <th>cost</th>\n",
       "      <th>department_id</th>\n",
       "    </tr>\n",
       "  </thead>\n",
       "  <tbody>\n",
       "    <tr>\n",
       "      <th>count</th>\n",
       "      <td>8.000000</td>\n",
       "      <td>8.000000</td>\n",
       "      <td>8.000000</td>\n",
       "    </tr>\n",
       "    <tr>\n",
       "      <th>mean</th>\n",
       "      <td>7.700000</td>\n",
       "      <td>6.865000</td>\n",
       "      <td>2.500000</td>\n",
       "    </tr>\n",
       "    <tr>\n",
       "      <th>std</th>\n",
       "      <td>6.332321</td>\n",
       "      <td>5.980623</td>\n",
       "      <td>1.195229</td>\n",
       "    </tr>\n",
       "    <tr>\n",
       "      <th>min</th>\n",
       "      <td>2.490000</td>\n",
       "      <td>1.990000</td>\n",
       "      <td>1.000000</td>\n",
       "    </tr>\n",
       "    <tr>\n",
       "      <th>25%</th>\n",
       "      <td>4.710000</td>\n",
       "      <td>3.740000</td>\n",
       "      <td>1.750000</td>\n",
       "    </tr>\n",
       "    <tr>\n",
       "      <th>50%</th>\n",
       "      <td>4.970000</td>\n",
       "      <td>4.240000</td>\n",
       "      <td>2.500000</td>\n",
       "    </tr>\n",
       "    <tr>\n",
       "      <th>75%</th>\n",
       "      <td>8.055000</td>\n",
       "      <td>7.615000</td>\n",
       "      <td>3.250000</td>\n",
       "    </tr>\n",
       "    <tr>\n",
       "      <th>max</th>\n",
       "      <td>21.990000</td>\n",
       "      <td>19.990000</td>\n",
       "      <td>4.000000</td>\n",
       "    </tr>\n",
       "  </tbody>\n",
       "</table>\n",
       "</div>"
      ],
      "text/plain": [
       "           price       cost  department_id\n",
       "count   8.000000   8.000000       8.000000\n",
       "mean    7.700000   6.865000       2.500000\n",
       "std     6.332321   5.980623       1.195229\n",
       "min     2.490000   1.990000       1.000000\n",
       "25%     4.710000   3.740000       1.750000\n",
       "50%     4.970000   4.240000       2.500000\n",
       "75%     8.055000   7.615000       3.250000\n",
       "max    21.990000  19.990000       4.000000"
      ]
     },
     "execution_count": 26,
     "metadata": {},
     "output_type": "execute_result"
    }
   ],
   "source": [
    "pds.describe()"
   ]
  },
  {
   "cell_type": "code",
   "execution_count": 16,
   "id": "0fbb55b8",
   "metadata": {},
   "outputs": [
    {
     "name": "stdout",
     "output_type": "stream",
     "text": [
      "<class 'Dataset'>\n",
      "Range Index: 8 entries\n",
      "Data columns (total 8 columns):\n",
      "Column          | Dtype      | Non-Null   | Total     \n",
      "--------------------------------------------------\n",
      "product_code    | str        | 8          | 8         \n",
      "description     | str        | 8          | 8         \n",
      "price           | float      | 8          | 8         \n",
      "cost            | float      | 8          | 8         \n",
      "department      | str        | 8          | 8         \n",
      "department_id   | int        | 8          | 8         \n",
      "type            | str        | 8          | 8         \n",
      "vendor_name     | str        | 8          | 8         \n"
     ]
    }
   ],
   "source": [
    "ds.info()"
   ]
  },
  {
   "cell_type": "code",
   "execution_count": 10,
   "id": "df6fdafd",
   "metadata": {},
   "outputs": [
    {
     "name": "stdout",
     "output_type": "stream",
     "text": [
      "<class 'pandas.core.frame.DataFrame'>\n",
      "RangeIndex: 8 entries, 0 to 7\n",
      "Data columns (total 8 columns):\n",
      " #   Column         Non-Null Count  Dtype  \n",
      "---  ------         --------------  -----  \n",
      " 0   product_code   8 non-null      object \n",
      " 1   description    8 non-null      object \n",
      " 2   price          8 non-null      float64\n",
      " 3   cost           8 non-null      float64\n",
      " 4   department     8 non-null      object \n",
      " 5   department_id  8 non-null      int64  \n",
      " 6   type           8 non-null      object \n",
      " 7   vendor_name    8 non-null      object \n",
      "dtypes: float64(2), int64(1), object(5)\n",
      "memory usage: 644.0+ bytes\n"
     ]
    }
   ],
   "source": [
    "pds.info()"
   ]
  },
  {
   "cell_type": "code",
   "execution_count": 19,
   "id": "ada2ff67",
   "metadata": {},
   "outputs": [
    {
     "data": {
      "text/plain": [
       "(3, 1)"
      ]
     },
     "execution_count": 19,
     "metadata": {},
     "output_type": "execute_result"
    }
   ],
   "source": [
    "ds = Dataset([\n",
    "    {\"a\": 1}, {\"a\": 2}, {\"a\": 3}\n",
    "])\n",
    "head = ds.head()\n",
    "head.shape()"
   ]
  },
  {
   "cell_type": "code",
   "execution_count": 21,
   "id": "53cea70d",
   "metadata": {},
   "outputs": [
    {
     "data": {
      "text/plain": [
       "[{'stat': 'mean', 'x': 3},\n",
       " {'stat': 'std', 'x': 2.0},\n",
       " {'stat': 'min', 'x': 1},\n",
       " {'stat': 'Q1', 'x': 1},\n",
       " {'stat': 'median', 'x': 3},\n",
       " {'stat': 'Q3', 'x': 5},\n",
       " {'stat': 'max', 'x': 5},\n",
       " {'stat': 'count', 'x': 3}]"
      ]
     },
     "execution_count": 21,
     "metadata": {},
     "output_type": "execute_result"
    }
   ],
   "source": [
    "ds = Dataset([{'x': 1}, {'x': 3}, {'x': 5}])\n",
    "summary = ds.describe()\n",
    "summary.data"
   ]
  },
  {
   "cell_type": "code",
   "execution_count": 24,
   "id": "ae61d963",
   "metadata": {},
   "outputs": [
    {
     "data": {
      "text/plain": [
       "[{'stat': 'mean', 'id': 1.5},\n",
       " {'stat': 'std', 'id': 0.71},\n",
       " {'stat': 'min', 'id': 1},\n",
       " {'stat': 'Q1', 'id': 1},\n",
       " {'stat': 'median', 'id': 1.5},\n",
       " {'stat': 'Q3', 'id': 2},\n",
       " {'stat': 'max', 'id': 2},\n",
       " {'stat': 'count', 'id': 2}]"
      ]
     },
     "execution_count": 24,
     "metadata": {},
     "output_type": "execute_result"
    }
   ],
   "source": [
    "ds = Dataset([\n",
    "    {\n",
    "        'id': 1,\n",
    "        'name': 'sally'\n",
    "    },\n",
    "    {\n",
    "        'id': 2,\n",
    "        'name': 'billy'\n",
    "    }\n",
    "])\n",
    "summary = ds.describe(numeric_only=True)\n",
    "summary.data"
   ]
  },
  {
   "cell_type": "code",
   "execution_count": 25,
   "id": "213c7402",
   "metadata": {},
   "outputs": [
    {
     "name": "stdout",
     "output_type": "stream",
     "text": [
      "<class 'Dataset'>\n",
      "Range Index: 3 entries\n",
      "Data columns (total 2 columns):\n",
      "Column          | Dtype      | Non-Null   | Total     \n",
      "--------------------------------------------------\n",
      "a               | int        | 2          | 3         \n",
      "b               | str        | 3          | 3         \n"
     ]
    }
   ],
   "source": [
    "ds = Dataset([\n",
    "    {'a': 1, 'b': 'hello'},\n",
    "    {'a': 2, 'b': 'world'},\n",
    "    {'a': None, 'b': '!'}\n",
    "])\n",
    "ds.info()"
   ]
  },
  {
   "cell_type": "code",
   "execution_count": 27,
   "id": "97a01a28",
   "metadata": {},
   "outputs": [
    {
     "name": "stdout",
     "output_type": "stream",
     "text": [
      "<class 'Dataset'>\n",
      "Range Index: 0 entries\n",
      "Data columns (total 0 columns):\n",
      "   No data available\n"
     ]
    }
   ],
   "source": [
    "ds = Dataset([])\n",
    "ds.info()"
   ]
  },
  {
   "cell_type": "code",
   "execution_count": 28,
   "id": "dd05dc01",
   "metadata": {},
   "outputs": [
    {
     "name": "stdout",
     "output_type": "stream",
     "text": [
      "<class 'Dataset'>\n",
      "Range Index: 1 entries\n",
      "Data columns (total 5 columns):\n",
      "Column          | Dtype      | Non-Null   | Total     \n",
      "--------------------------------------------------\n",
      "id              | int        | 1          | 1         \n",
      "name            | str        | 1          | 1         \n",
      "successfull     | bool       | 1          | 1         \n",
      "died            | datetime   | 1          | 1         \n",
      "max_pee_amount_in_gallons | float      | 1          | 1         \n"
     ]
    }
   ],
   "source": [
    "from datetime import datetime\n",
    "ds = Dataset([\n",
    "    {\n",
    "        'id': 1,\n",
    "        'name': 'mike',\n",
    "        'successfull': False,\n",
    "        'died': datetime(2026, 1, 1),\n",
    "        'max_pee_amount_in_gallons': 12.25\n",
    "    }\n",
    "]) \n",
    "ds.info() "
   ]
  },
  {
   "cell_type": "markdown",
   "id": "5b049ace",
   "metadata": {},
   "source": [
    "##### exploration"
   ]
  },
  {
   "cell_type": "code",
   "execution_count": 7,
   "id": "399e92aa",
   "metadata": {},
   "outputs": [
    {
     "data": {
      "text/plain": [
       "{'product_code': [],\n",
       " 'description': [],\n",
       " 'price': [4.95, 4.95, 6.99, 2.49, 11.25, 21.99, 4.99, 3.99],\n",
       " 'cost': [3.99, 3.99, 6.49, 1.99, 10.99, 19.99, 4.49, 2.99],\n",
       " 'department': [],\n",
       " 'department_id': [1, 1, 2, 2, 3, 3, 4, 4],\n",
       " 'type': [],\n",
       " 'vendor_name': []}"
      ]
     },
     "execution_count": 7,
     "metadata": {},
     "output_type": "execute_result"
    }
   ],
   "source": [
    "{\n",
    "    col: [row[col] for row in data if isinstance(row.get(col), (int, float))] for col in ds.columns\n",
    "}"
   ]
  },
  {
   "cell_type": "code",
   "execution_count": 9,
   "id": "c6d89921",
   "metadata": {},
   "outputs": [
    {
     "data": {
      "text/plain": [
       "{'price': [4.95, 4.95, 6.99, 2.49, 11.25, 21.99, 4.99, 3.99],\n",
       " 'cost': [3.99, 3.99, 6.49, 1.99, 10.99, 19.99, 4.49, 2.99],\n",
       " 'department_id': [1, 1, 2, 2, 3, 3, 4, 4]}"
      ]
     },
     "execution_count": 9,
     "metadata": {},
     "output_type": "execute_result"
    }
   ],
   "source": [
    "numeric_data = {\n",
    "    col: [row[col] for row in data if isinstance(row.get(col), (int, float))]\n",
    "    for col in ds.columns\n",
    "    if any(isinstance(row.get(col), (int, float)) for row in data)\n",
    "}\n",
    "numeric_data"
   ]
  },
  {
   "cell_type": "markdown",
   "id": "fae19216",
   "metadata": {},
   "source": [
    "### indexers"
   ]
  },
  {
   "cell_type": "code",
   "execution_count": 3,
   "id": "151d256f",
   "metadata": {},
   "outputs": [
    {
     "data": {
      "text/html": [
       "\n",
       "            <table>\n",
       "                <thead><tr><th></th><th>product_code</th><th>description</th><th>price</th><th>cost</th><th>department</th><th>department_id</th><th>type</th><th>vendor_name</th></tr></thead>\n",
       "                <tbody><tr><td><strong>0</strong></td><td>0002663380147</td><td>Salt and Pepper Chips</td><td>4.95</td><td>3.99</td><td>grocery</td><td>1</td><td>each</td><td>Chips r Us</td></tr><tr><td><strong>1</strong></td><td>0002663358001</td><td>Barbecue Chips</td><td>4.95</td><td>3.99</td><td>grocery</td><td>1</td><td>each</td><td>Chips r Us</td></tr><tr><td><strong>2</strong></td><td>0003644920475</td><td>Toilet Paper</td><td>6.99</td><td>6.49</td><td>non food</td><td>2</td><td>each</td><td>Home Comfys</td></tr><tr><td><strong>3</strong></td><td>0003644989541</td><td>Tissue Paper</td><td>2.49</td><td>1.99</td><td>non food</td><td>2</td><td>each</td><td>Home Comfys</td></tr><tr><td><strong>4</strong></td><td>0020000100000</td><td>Pork Chops</td><td>11.25</td><td>10.99</td><td>meat</td><td>3</td><td>lb</td><td>Matts meats</td></tr></tbody>\n",
       "            </table>\n",
       "        "
      ],
      "text/plain": [
       "<Dataset />\n",
       "product_code, description, price, cost, department, department_id, type, vendor_name\n",
       "0002663380147, Salt and Pepper Chips, 4.95, 3.99, grocery, 1, each, Chips r Us\n",
       "0002663358001, Barbecue Chips, 4.95, 3.99, grocery, 1, each, Chips r Us\n",
       "0003644920475, Toilet Paper, 6.99, 6.49, non food, 2, each, Home Comfys\n",
       "0003644989541, Tissue Paper, 2.49, 1.99, non food, 2, each, Home Comfys\n",
       "0020000100000, Pork Chops, 11.25, 10.99, meat, 3, lb, Matts meats"
      ]
     },
     "execution_count": 3,
     "metadata": {},
     "output_type": "execute_result"
    }
   ],
   "source": [
    "ds = Dataset(data)\n",
    "ds.head()"
   ]
  },
  {
   "cell_type": "markdown",
   "id": "ce27a1ef",
   "metadata": {},
   "source": [
    "##### iloc"
   ]
  },
  {
   "cell_type": "code",
   "execution_count": null,
   "id": "951dbd72",
   "metadata": {},
   "outputs": [
    {
     "data": {
      "text/html": [
       "\n",
       "            <table>\n",
       "                <thead><tr><th></th><th>product_code</th><th>description</th><th>price</th><th>cost</th><th>department</th><th>department_id</th><th>type</th><th>vendor_name</th></tr></thead>\n",
       "                <tbody><tr><td><strong>1</strong></td><td>0002663358001</td><td>Barbecue Chips</td><td>4.95</td><td>3.99</td><td>grocery</td><td>1</td><td>each</td><td>Chips r Us</td></tr></tbody>\n",
       "            </table>\n",
       "        "
      ],
      "text/plain": [
       "<Dataset />\n",
       "product_code, description, price, cost, department, department_id, type, vendor_name\n",
       "0002663358001, Barbecue Chips, 4.95, 3.99, grocery, 1, each, Chips r Us"
      ]
     },
     "execution_count": 48,
     "metadata": {},
     "output_type": "execute_result"
    }
   ],
   "source": [
    "# give me the second row\n",
    "ds.iloc[1] # single row"
   ]
  },
  {
   "cell_type": "code",
   "execution_count": null,
   "id": "b7fa7c8a",
   "metadata": {},
   "outputs": [
    {
     "data": {
      "text/html": [
       "\n",
       "            <table>\n",
       "                <thead><tr><th></th><th>product_code</th><th>description</th><th>price</th><th>cost</th><th>department</th><th>department_id</th><th>type</th><th>vendor_name</th></tr></thead>\n",
       "                <tbody><tr><td><strong>1</strong></td><td>0002663358001</td><td>Barbecue Chips</td><td>4.95</td><td>3.99</td><td>grocery</td><td>1</td><td>each</td><td>Chips r Us</td></tr><tr><td><strong>2</strong></td><td>0003644920475</td><td>Toilet Paper</td><td>6.99</td><td>6.49</td><td>non food</td><td>2</td><td>each</td><td>Home Comfys</td></tr></tbody>\n",
       "            </table>\n",
       "        "
      ],
      "text/plain": [
       "<Dataset />\n",
       "product_code, description, price, cost, department, department_id, type, vendor_name\n",
       "0002663358001, Barbecue Chips, 4.95, 3.99, grocery, 1, each, Chips r Us\n",
       "0003644920475, Toilet Paper, 6.99, 6.49, non food, 2, each, Home Comfys"
      ]
     },
     "execution_count": 49,
     "metadata": {},
     "output_type": "execute_result"
    }
   ],
   "source": [
    "ds.iloc[1:3] # rows 1..2, all columns"
   ]
  },
  {
   "cell_type": "code",
   "execution_count": 54,
   "id": "a7531440",
   "metadata": {},
   "outputs": [
    {
     "data": {
      "text/html": [
       "\n",
       "            <table>\n",
       "                <thead><tr><th></th><th>product_code</th></tr></thead>\n",
       "                <tbody><tr><td><strong>0</strong></td><td>0002663380147</td></tr><tr><td><strong>1</strong></td><td>0002663358001</td></tr><tr><td><strong>2</strong></td><td>0003644920475</td></tr><tr><td><strong>3</strong></td><td>0003644989541</td></tr><tr><td><strong>4</strong></td><td>0020000100000</td></tr><tr><td><strong>5</strong></td><td>0020000200000</td></tr><tr><td><strong>6</strong></td><td>0007780522546</td></tr><tr><td><strong>7</strong></td><td>0007780580235</td></tr></tbody>\n",
       "            </table>\n",
       "        "
      ],
      "text/plain": [
       "<Dataset />\n",
       "product_code\n",
       "0002663380147\n",
       "0002663358001\n",
       "0003644920475\n",
       "0003644989541\n",
       "0020000100000\n",
       "0020000200000\n",
       "0007780522546\n",
       "0007780580235"
      ]
     },
     "execution_count": 54,
     "metadata": {},
     "output_type": "execute_result"
    }
   ],
   "source": [
    "ds.iloc[:,0] # all rows, first column"
   ]
  },
  {
   "cell_type": "code",
   "execution_count": 39,
   "id": "57adbe2b",
   "metadata": {},
   "outputs": [
    {
     "ename": "IndexError",
     "evalue": "list index out of range",
     "output_type": "error",
     "traceback": [
      "\u001b[31m---------------------------------------------------------------------------\u001b[39m",
      "\u001b[31mIndexError\u001b[39m                                Traceback (most recent call last)",
      "\u001b[36mCell\u001b[39m\u001b[36m \u001b[39m\u001b[32mIn[39]\u001b[39m\u001b[32m, line 1\u001b[39m\n\u001b[32m----> \u001b[39m\u001b[32m1\u001b[39m \u001b[43mds\u001b[49m\u001b[43m.\u001b[49m\u001b[43miloc\u001b[49m\u001b[43m[\u001b[49m\u001b[43m[\u001b[49m\u001b[32;43m0\u001b[39;49m\u001b[43m,\u001b[49m\u001b[43m \u001b[49m\u001b[32;43m3\u001b[39;49m\u001b[43m]\u001b[49m\u001b[43m,\u001b[49m\u001b[43m \u001b[49m\u001b[43m[\u001b[49m\u001b[32;43m1\u001b[39;49m\u001b[43m]\u001b[49m\u001b[43m]\u001b[49m \u001b[38;5;66;03m# rows 0 and 3, 2nd column\u001b[39;00m\n",
      "\u001b[36mFile \u001b[39m\u001b[32me:\\testdev\\python\\building_a_library\\v1\\src\\Dataset\\indexers.py:106\u001b[39m, in \u001b[36m_iLocIndexer.__getitem__\u001b[39m\u001b[34m(self, key)\u001b[39m\n\u001b[32m    104\u001b[39m     rows = \u001b[38;5;28mself\u001b[39m.dataset.data[row_idx]\n\u001b[32m    105\u001b[39m \u001b[38;5;28;01melif\u001b[39;00m \u001b[38;5;28misinstance\u001b[39m(row_idx, (\u001b[38;5;28mlist\u001b[39m, \u001b[38;5;28mtuple\u001b[39m)):\n\u001b[32m--> \u001b[39m\u001b[32m106\u001b[39m     rows = [\u001b[38;5;28;43mself\u001b[39;49m\u001b[43m.\u001b[49m\u001b[43mdataset\u001b[49m\u001b[43m.\u001b[49m\u001b[43mdata\u001b[49m\u001b[43m[\u001b[49m\u001b[43mi\u001b[49m\u001b[43m]\u001b[49m \u001b[38;5;28;01mfor\u001b[39;00m i \u001b[38;5;129;01min\u001b[39;00m row_idx]\n\u001b[32m    107\u001b[39m \u001b[38;5;28;01melse\u001b[39;00m:\n\u001b[32m    108\u001b[39m     rows = [\u001b[38;5;28mself\u001b[39m.dataset.data[row_idx]]\n",
      "\u001b[31mIndexError\u001b[39m: list index out of range"
     ]
    }
   ],
   "source": [
    "ds.iloc[[0, 3], [1]] # rows 0 and 3, 2nd column"
   ]
  },
  {
   "cell_type": "code",
   "execution_count": null,
   "id": "fcb5103e",
   "metadata": {},
   "outputs": [
    {
     "data": {
      "text/html": [
       "\n",
       "            <table>\n",
       "                <thead><tr><th></th><th>product_code</th><th>description</th><th>price</th></tr></thead>\n",
       "                <tbody><tr><td><strong>0</strong></td><td>0002663380147</td><td>Salt and Pepper Chips</td><td>4.95</td></tr><tr><td><strong>1</strong></td><td>0002663358001</td><td>Barbecue Chips</td><td>4.95</td></tr><tr><td><strong>2</strong></td><td>0003644920475</td><td>Toilet Paper</td><td>6.99</td></tr><tr><td><strong>3</strong></td><td>0003644989541</td><td>Tissue Paper</td><td>2.49</td></tr><tr><td><strong>4</strong></td><td>0020000100000</td><td>Pork Chops</td><td>11.25</td></tr><tr><td><strong>5</strong></td><td>0020000200000</td><td>Sirloin Steak</td><td>21.99</td></tr><tr><td><strong>6</strong></td><td>0007780522546</td><td>American Cheese</td><td>4.99</td></tr><tr><td><strong>7</strong></td><td>0007780580235</td><td>1 Gallon Mile</td><td>3.99</td></tr></tbody>\n",
       "            </table>\n",
       "        "
      ],
      "text/plain": [
       "<Dataset />\n",
       "product_code, description, price\n",
       "0002663380147, Salt and Pepper Chips, 4.95\n",
       "0002663358001, Barbecue Chips, 4.95\n",
       "0003644920475, Toilet Paper, 6.99\n",
       "0003644989541, Tissue Paper, 2.49\n",
       "0020000100000, Pork Chops, 11.25\n",
       "0020000200000, Sirloin Steak, 21.99\n",
       "0007780522546, American Cheese, 4.99\n",
       "0007780580235, 1 Gallon Mile, 3.99"
      ]
     },
     "execution_count": 59,
     "metadata": {},
     "output_type": "execute_result"
    }
   ],
   "source": [
    "ds.iloc[:, [0, 1, 2]] # all rows, and just the first 3 columns"
   ]
  },
  {
   "cell_type": "code",
   "execution_count": null,
   "id": "8f9b354e",
   "metadata": {},
   "outputs": [
    {
     "data": {
      "text/html": [
       "\n",
       "            <table>\n",
       "                <thead><tr><th></th><th>product_code</th><th>description</th><th>price</th></tr></thead>\n",
       "                <tbody><tr><td><strong>0</strong></td><td>0002663380147</td><td>Salt and Pepper Chips</td><td>4.95</td></tr><tr><td><strong>1</strong></td><td>0002663358001</td><td>Barbecue Chips</td><td>4.95</td></tr><tr><td><strong>2</strong></td><td>0003644920475</td><td>Toilet Paper</td><td>6.99</td></tr><tr><td><strong>3</strong></td><td>0003644989541</td><td>Tissue Paper</td><td>2.49</td></tr></tbody>\n",
       "            </table>\n",
       "        "
      ],
      "text/plain": [
       "<Dataset />\n",
       "product_code, description, price\n",
       "0002663380147, Salt and Pepper Chips, 4.95\n",
       "0002663358001, Barbecue Chips, 4.95\n",
       "0003644920475, Toilet Paper, 6.99\n",
       "0003644989541, Tissue Paper, 2.49"
      ]
     },
     "execution_count": 60,
     "metadata": {},
     "output_type": "execute_result"
    }
   ],
   "source": [
    "ds.iloc[:4, [0, 1, 2]] # give me the first 4 rows and only these columns"
   ]
  },
  {
   "cell_type": "code",
   "execution_count": null,
   "id": "6f2873dd",
   "metadata": {},
   "outputs": [
    {
     "data": {
      "text/html": [
       "\n",
       "            <table>\n",
       "                <thead><tr><th></th><th>product_code</th><th>description</th><th>price</th></tr></thead>\n",
       "                <tbody><tr><td><strong>0</strong></td><td>0002663380147</td><td>Salt and Pepper Chips</td><td>4.95</td></tr><tr><td><strong>1</strong></td><td>0002663358001</td><td>Barbecue Chips</td><td>4.95</td></tr><tr><td><strong>2</strong></td><td>0003644920475</td><td>Toilet Paper</td><td>6.99</td></tr><tr><td><strong>3</strong></td><td>0003644989541</td><td>Tissue Paper</td><td>2.49</td></tr></tbody>\n",
       "            </table>\n",
       "        "
      ],
      "text/plain": [
       "<Dataset />\n",
       "product_code, description, price\n",
       "0002663380147, Salt and Pepper Chips, 4.95\n",
       "0002663358001, Barbecue Chips, 4.95\n",
       "0003644920475, Toilet Paper, 6.99\n",
       "0003644989541, Tissue Paper, 2.49"
      ]
     },
     "execution_count": 61,
     "metadata": {},
     "output_type": "execute_result"
    }
   ],
   "source": [
    "ds.iloc[:4, (0, 1, 2)] # this uses a tuple to do the same thing"
   ]
  },
  {
   "cell_type": "markdown",
   "id": "b3f5f8ed",
   "metadata": {},
   "source": [
    "##### test data"
   ]
  },
  {
   "cell_type": "code",
   "execution_count": 31,
   "id": "6ec798c4",
   "metadata": {},
   "outputs": [],
   "source": [
    "ds = Dataset({\n",
    "    'name': ['alice', 'bob', 'charlie'],\n",
    "    'age': [25, 30, 35],\n",
    "    'score': [88.5, 92.0, 95.0]\n",
    "}, index=['a', 'b', 'c'])"
   ]
  },
  {
   "cell_type": "code",
   "execution_count": 40,
   "id": "17c31482",
   "metadata": {},
   "outputs": [
    {
     "data": {
      "text/html": [
       "\n",
       "            <table>\n",
       "                <thead><tr><th></th><th>name</th><th>age</th><th>score</th></tr></thead>\n",
       "                <tbody><tr><td><strong>0</strong></td><td>alice</td><td>25</td><td>88.5</td></tr><tr><td><strong>1</strong></td><td>bob</td><td>30</td><td>92.0</td></tr><tr><td><strong>2</strong></td><td>charlie</td><td>35</td><td>95.0</td></tr></tbody>\n",
       "            </table>\n",
       "        "
      ],
      "text/plain": [
       "<Dataset />\n",
       "name, age, score\n",
       "alice, 25, 88.5\n",
       "bob, 30, 92.0\n",
       "charlie, 35, 95.0"
      ]
     },
     "execution_count": 40,
     "metadata": {},
     "output_type": "execute_result"
    }
   ],
   "source": [
    "ds.head()"
   ]
  },
  {
   "cell_type": "code",
   "execution_count": 34,
   "id": "3e99ae49",
   "metadata": {},
   "outputs": [
    {
     "data": {
      "text/plain": [
       "[{'name': 'alice', 'age': 25, 'score': 88.5}]"
      ]
     },
     "execution_count": 34,
     "metadata": {},
     "output_type": "execute_result"
    }
   ],
   "source": [
    "r = ds.iloc[0]\n",
    "r.data"
   ]
  },
  {
   "cell_type": "code",
   "execution_count": 36,
   "id": "a89511f4",
   "metadata": {},
   "outputs": [
    {
     "data": {
      "text/plain": [
       "[{'name': 'bob', 'age': 30, 'score': 92.0},\n",
       " {'name': 'charlie', 'age': 35, 'score': 95.0}]"
      ]
     },
     "execution_count": 36,
     "metadata": {},
     "output_type": "execute_result"
    }
   ],
   "source": [
    "r = ds.iloc[1:3] # rows 1..2, all columns\n",
    "r.data"
   ]
  },
  {
   "cell_type": "code",
   "execution_count": 37,
   "id": "c0591099",
   "metadata": {},
   "outputs": [
    {
     "data": {
      "text/plain": [
       "[{'name': 'alice'}, {'name': 'bob'}, {'name': 'charlie'}]"
      ]
     },
     "execution_count": 37,
     "metadata": {},
     "output_type": "execute_result"
    }
   ],
   "source": [
    "r = ds.iloc[:,0] # all rows, first column\n",
    "r.data"
   ]
  },
  {
   "cell_type": "code",
   "execution_count": 41,
   "id": "db6219d2",
   "metadata": {},
   "outputs": [
    {
     "data": {
      "text/plain": [
       "[{'age': 25}, {'age': 35}]"
      ]
     },
     "execution_count": 41,
     "metadata": {},
     "output_type": "execute_result"
    }
   ],
   "source": [
    "r = ds.iloc[[0, 2], [1]] # rows 0 and 2, 2nd column\n",
    "r.data"
   ]
  },
  {
   "cell_type": "code",
   "execution_count": 42,
   "id": "639ea091",
   "metadata": {},
   "outputs": [
    {
     "data": {
      "text/plain": [
       "[{'name': 'alice', 'age': 25},\n",
       " {'name': 'bob', 'age': 30},\n",
       " {'name': 'charlie', 'age': 35}]"
      ]
     },
     "execution_count": 42,
     "metadata": {},
     "output_type": "execute_result"
    }
   ],
   "source": [
    "r = ds.iloc[:, [0, 1]] # all rows, and just the first 2 columns\n",
    "r.data"
   ]
  },
  {
   "cell_type": "code",
   "execution_count": 45,
   "id": "38e80c9e",
   "metadata": {},
   "outputs": [
    {
     "data": {
      "text/plain": [
       "[{'name': 'alice', 'age': 25},\n",
       " {'name': 'bob', 'age': 30},\n",
       " {'name': 'charlie', 'age': 35}]"
      ]
     },
     "execution_count": 45,
     "metadata": {},
     "output_type": "execute_result"
    }
   ],
   "source": [
    "r = ds.iloc[:, (0, 1)] # this uses a tuple to do the same thing\n",
    "r.data"
   ]
  },
  {
   "cell_type": "markdown",
   "id": "9dae3dab",
   "metadata": {},
   "source": [
    "##### loc"
   ]
  },
  {
   "cell_type": "code",
   "execution_count": 4,
   "id": "b062572b",
   "metadata": {},
   "outputs": [
    {
     "data": {
      "text/html": [
       "<i>Empty Dataset</i>"
      ],
      "text/plain": [
       "<Dataset />"
      ]
     },
     "execution_count": 4,
     "metadata": {},
     "output_type": "execute_result"
    }
   ],
   "source": [
    "ds.loc['0']"
   ]
  },
  {
   "cell_type": "code",
   "execution_count": 2,
   "id": "3e07e63b",
   "metadata": {},
   "outputs": [],
   "source": [
    "ds = Dataset({\n",
    "    'name': ['alice', 'bob', 'charlie'],\n",
    "    'age': [25, 30, 35],\n",
    "    'score': [88.5, 92.0, 95.0]\n",
    "}, index=['a', 'b', 'c'])"
   ]
  },
  {
   "cell_type": "code",
   "execution_count": 3,
   "id": "df3033f4",
   "metadata": {},
   "outputs": [],
   "source": [
    "df = pd.DataFrame({\n",
    "    'name': ['Alice', 'Bob', 'Charlie'],\n",
    "    'age': [25, 30, 35],\n",
    "    'score': [88.5, 92.0, 95.0]\n",
    "}, index=['a', 'b', 'c'])"
   ]
  },
  {
   "cell_type": "code",
   "execution_count": 4,
   "id": "f71ef79f",
   "metadata": {},
   "outputs": [
    {
     "data": {
      "text/html": [
       "\n",
       "            <table>\n",
       "                <thead><tr><th></th><th>name</th><th>age</th><th>score</th></tr></thead>\n",
       "                <tbody><tr><td><strong>0</strong></td><td>alice</td><td>25</td><td>88.5</td></tr><tr><td><strong>1</strong></td><td>bob</td><td>30</td><td>92.0</td></tr><tr><td><strong>2</strong></td><td>charlie</td><td>35</td><td>95.0</td></tr></tbody>\n",
       "            </table>\n",
       "        "
      ],
      "text/plain": [
       "<Dataset />\n",
       "name, age, score\n",
       "alice, 25, 88.5\n",
       "bob, 30, 92.0\n",
       "charlie, 35, 95.0"
      ]
     },
     "execution_count": 4,
     "metadata": {},
     "output_type": "execute_result"
    }
   ],
   "source": [
    "ds.head()"
   ]
  },
  {
   "cell_type": "code",
   "execution_count": 5,
   "id": "6b39a8d8",
   "metadata": {},
   "outputs": [
    {
     "data": {
      "text/html": [
       "\n",
       "            <table>\n",
       "                <thead><tr><th></th><th>name</th><th>age</th><th>score</th></tr></thead>\n",
       "                <tbody><tr><td><strong>a</strong></td><td>alice</td><td>25</td><td>88.5</td></tr></tbody>\n",
       "            </table>\n",
       "        "
      ],
      "text/plain": [
       "<Dataset />\n",
       "name, age, score\n",
       "alice, 25, 88.5"
      ]
     },
     "execution_count": 5,
     "metadata": {},
     "output_type": "execute_result"
    }
   ],
   "source": [
    "ds.loc['a']"
   ]
  },
  {
   "cell_type": "code",
   "execution_count": 46,
   "id": "a3af04cc",
   "metadata": {},
   "outputs": [
    {
     "data": {
      "text/plain": [
       "[{'name': 'alice', 'age': 25, 'score': 88.5}]"
      ]
     },
     "execution_count": 46,
     "metadata": {},
     "output_type": "execute_result"
    }
   ],
   "source": [
    "# test\n",
    "r = ds.loc['a']\n",
    "r.data"
   ]
  },
  {
   "cell_type": "code",
   "execution_count": 6,
   "id": "6db8a685",
   "metadata": {},
   "outputs": [
    {
     "data": {
      "text/plain": [
       "name     Alice\n",
       "age         25\n",
       "score     88.5\n",
       "Name: a, dtype: object"
      ]
     },
     "execution_count": 6,
     "metadata": {},
     "output_type": "execute_result"
    }
   ],
   "source": [
    "df.loc['a']"
   ]
  },
  {
   "cell_type": "code",
   "execution_count": 7,
   "id": "e49ebc0c",
   "metadata": {},
   "outputs": [
    {
     "data": {
      "text/html": [
       "\n",
       "            <table>\n",
       "                <thead><tr><th></th><th>name</th><th>age</th><th>score</th></tr></thead>\n",
       "                <tbody><tr><td><strong>a</strong></td><td>alice</td><td>25</td><td>88.5</td></tr><tr><td><strong>c</strong></td><td>charlie</td><td>35</td><td>95.0</td></tr></tbody>\n",
       "            </table>\n",
       "        "
      ],
      "text/plain": [
       "<Dataset />\n",
       "name, age, score\n",
       "alice, 25, 88.5\n",
       "charlie, 35, 95.0"
      ]
     },
     "execution_count": 7,
     "metadata": {},
     "output_type": "execute_result"
    }
   ],
   "source": [
    "ds.loc[['a', 'c']]"
   ]
  },
  {
   "cell_type": "code",
   "execution_count": 47,
   "id": "f4708677",
   "metadata": {},
   "outputs": [
    {
     "data": {
      "text/plain": [
       "[{'name': 'alice', 'age': 25, 'score': 88.5},\n",
       " {'name': 'charlie', 'age': 35, 'score': 95.0}]"
      ]
     },
     "execution_count": 47,
     "metadata": {},
     "output_type": "execute_result"
    }
   ],
   "source": [
    "# test\n",
    "r = ds.loc[['a', 'c']]\n",
    "r.data"
   ]
  },
  {
   "cell_type": "code",
   "execution_count": 8,
   "id": "5b5ee555",
   "metadata": {},
   "outputs": [
    {
     "data": {
      "text/html": [
       "<div>\n",
       "<style scoped>\n",
       "    .dataframe tbody tr th:only-of-type {\n",
       "        vertical-align: middle;\n",
       "    }\n",
       "\n",
       "    .dataframe tbody tr th {\n",
       "        vertical-align: top;\n",
       "    }\n",
       "\n",
       "    .dataframe thead th {\n",
       "        text-align: right;\n",
       "    }\n",
       "</style>\n",
       "<table border=\"1\" class=\"dataframe\">\n",
       "  <thead>\n",
       "    <tr style=\"text-align: right;\">\n",
       "      <th></th>\n",
       "      <th>name</th>\n",
       "      <th>age</th>\n",
       "      <th>score</th>\n",
       "    </tr>\n",
       "  </thead>\n",
       "  <tbody>\n",
       "    <tr>\n",
       "      <th>a</th>\n",
       "      <td>Alice</td>\n",
       "      <td>25</td>\n",
       "      <td>88.5</td>\n",
       "    </tr>\n",
       "    <tr>\n",
       "      <th>c</th>\n",
       "      <td>Charlie</td>\n",
       "      <td>35</td>\n",
       "      <td>95.0</td>\n",
       "    </tr>\n",
       "  </tbody>\n",
       "</table>\n",
       "</div>"
      ],
      "text/plain": [
       "      name  age  score\n",
       "a    Alice   25   88.5\n",
       "c  Charlie   35   95.0"
      ]
     },
     "execution_count": 8,
     "metadata": {},
     "output_type": "execute_result"
    }
   ],
   "source": [
    "df.loc[['a', 'c']]"
   ]
  },
  {
   "cell_type": "code",
   "execution_count": 9,
   "id": "3b36f414",
   "metadata": {},
   "outputs": [
    {
     "data": {
      "text/html": [
       "\n",
       "            <table>\n",
       "                <thead><tr><th></th><th>score</th></tr></thead>\n",
       "                <tbody><tr><td><strong>b</strong></td><td>92.0</td></tr></tbody>\n",
       "            </table>\n",
       "        "
      ],
      "text/plain": [
       "<Dataset />\n",
       "score\n",
       "92.0"
      ]
     },
     "execution_count": 9,
     "metadata": {},
     "output_type": "execute_result"
    }
   ],
   "source": [
    "ds.loc['b', 'score']"
   ]
  },
  {
   "cell_type": "code",
   "execution_count": 48,
   "id": "79ec4e9f",
   "metadata": {},
   "outputs": [
    {
     "data": {
      "text/plain": [
       "[{'score': 92.0}]"
      ]
     },
     "execution_count": 48,
     "metadata": {},
     "output_type": "execute_result"
    }
   ],
   "source": [
    "# test\n",
    "r = ds.loc['b', 'score']\n",
    "r.data"
   ]
  },
  {
   "cell_type": "code",
   "execution_count": 35,
   "id": "d99f893c",
   "metadata": {},
   "outputs": [
    {
     "data": {
      "text/plain": [
       "np.float64(92.0)"
      ]
     },
     "execution_count": 35,
     "metadata": {},
     "output_type": "execute_result"
    }
   ],
   "source": [
    "df.loc['b', 'score']"
   ]
  },
  {
   "cell_type": "code",
   "execution_count": 11,
   "id": "2dedf573",
   "metadata": {},
   "outputs": [
    {
     "data": {
      "text/html": [
       "\n",
       "            <table>\n",
       "                <thead><tr><th></th><th>name</th><th>age</th><th>score</th></tr></thead>\n",
       "                <tbody><tr><td><strong>a</strong></td><td>alice</td><td>25</td><td>88.5</td></tr><tr><td><strong>b</strong></td><td>bob</td><td>30</td><td>92.0</td></tr><tr><td><strong>c</strong></td><td>charlie</td><td>35</td><td>95.0</td></tr></tbody>\n",
       "            </table>\n",
       "        "
      ],
      "text/plain": [
       "<Dataset />\n",
       "name, age, score\n",
       "alice, 25, 88.5\n",
       "bob, 30, 92.0\n",
       "charlie, 35, 95.0"
      ]
     },
     "execution_count": 11,
     "metadata": {},
     "output_type": "execute_result"
    }
   ],
   "source": [
    "ds.loc['a': 'd']"
   ]
  },
  {
   "cell_type": "code",
   "execution_count": 49,
   "id": "1cae2377",
   "metadata": {},
   "outputs": [
    {
     "data": {
      "text/plain": [
       "[{'name': 'alice', 'age': 25, 'score': 88.5},\n",
       " {'name': 'bob', 'age': 30, 'score': 92.0},\n",
       " {'name': 'charlie', 'age': 35, 'score': 95.0}]"
      ]
     },
     "execution_count": 49,
     "metadata": {},
     "output_type": "execute_result"
    }
   ],
   "source": [
    "# test\n",
    "r = ds.loc['a': 'c']\n",
    "r.data"
   ]
  },
  {
   "cell_type": "code",
   "execution_count": 12,
   "id": "9cfa3ec0",
   "metadata": {},
   "outputs": [
    {
     "data": {
      "text/html": [
       "<div>\n",
       "<style scoped>\n",
       "    .dataframe tbody tr th:only-of-type {\n",
       "        vertical-align: middle;\n",
       "    }\n",
       "\n",
       "    .dataframe tbody tr th {\n",
       "        vertical-align: top;\n",
       "    }\n",
       "\n",
       "    .dataframe thead th {\n",
       "        text-align: right;\n",
       "    }\n",
       "</style>\n",
       "<table border=\"1\" class=\"dataframe\">\n",
       "  <thead>\n",
       "    <tr style=\"text-align: right;\">\n",
       "      <th></th>\n",
       "      <th>name</th>\n",
       "      <th>age</th>\n",
       "      <th>score</th>\n",
       "    </tr>\n",
       "  </thead>\n",
       "  <tbody>\n",
       "    <tr>\n",
       "      <th>a</th>\n",
       "      <td>Alice</td>\n",
       "      <td>25</td>\n",
       "      <td>88.5</td>\n",
       "    </tr>\n",
       "    <tr>\n",
       "      <th>b</th>\n",
       "      <td>Bob</td>\n",
       "      <td>30</td>\n",
       "      <td>92.0</td>\n",
       "    </tr>\n",
       "    <tr>\n",
       "      <th>c</th>\n",
       "      <td>Charlie</td>\n",
       "      <td>35</td>\n",
       "      <td>95.0</td>\n",
       "    </tr>\n",
       "  </tbody>\n",
       "</table>\n",
       "</div>"
      ],
      "text/plain": [
       "      name  age  score\n",
       "a    Alice   25   88.5\n",
       "b      Bob   30   92.0\n",
       "c  Charlie   35   95.0"
      ]
     },
     "execution_count": 12,
     "metadata": {},
     "output_type": "execute_result"
    }
   ],
   "source": [
    "df.loc['a': 'd']"
   ]
  },
  {
   "cell_type": "code",
   "execution_count": 14,
   "id": "1732876d",
   "metadata": {},
   "outputs": [
    {
     "data": {
      "text/html": [
       "\n",
       "            <table>\n",
       "                <thead><tr><th></th><th>name</th><th>score</th></tr></thead>\n",
       "                <tbody><tr><td><strong>a</strong></td><td>alice</td><td>88.5</td></tr><tr><td><strong>b</strong></td><td>bob</td><td>92.0</td></tr></tbody>\n",
       "            </table>\n",
       "        "
      ],
      "text/plain": [
       "<Dataset />\n",
       "name, score\n",
       "alice, 88.5\n",
       "bob, 92.0"
      ]
     },
     "execution_count": 14,
     "metadata": {},
     "output_type": "execute_result"
    }
   ],
   "source": [
    "ds.loc[['a', 'b'], ['name', 'score']]"
   ]
  },
  {
   "cell_type": "code",
   "execution_count": 50,
   "id": "cbf0a449",
   "metadata": {},
   "outputs": [
    {
     "data": {
      "text/plain": [
       "[{'name': 'alice', 'score': 88.5}, {'name': 'bob', 'score': 92.0}]"
      ]
     },
     "execution_count": 50,
     "metadata": {},
     "output_type": "execute_result"
    }
   ],
   "source": [
    "# test\n",
    "r = ds.loc[['a', 'b'], ['name', 'score']]\n",
    "r.data"
   ]
  },
  {
   "cell_type": "code",
   "execution_count": 15,
   "id": "397af29a",
   "metadata": {},
   "outputs": [
    {
     "data": {
      "text/html": [
       "<div>\n",
       "<style scoped>\n",
       "    .dataframe tbody tr th:only-of-type {\n",
       "        vertical-align: middle;\n",
       "    }\n",
       "\n",
       "    .dataframe tbody tr th {\n",
       "        vertical-align: top;\n",
       "    }\n",
       "\n",
       "    .dataframe thead th {\n",
       "        text-align: right;\n",
       "    }\n",
       "</style>\n",
       "<table border=\"1\" class=\"dataframe\">\n",
       "  <thead>\n",
       "    <tr style=\"text-align: right;\">\n",
       "      <th></th>\n",
       "      <th>name</th>\n",
       "      <th>score</th>\n",
       "    </tr>\n",
       "  </thead>\n",
       "  <tbody>\n",
       "    <tr>\n",
       "      <th>a</th>\n",
       "      <td>Alice</td>\n",
       "      <td>88.5</td>\n",
       "    </tr>\n",
       "    <tr>\n",
       "      <th>c</th>\n",
       "      <td>Charlie</td>\n",
       "      <td>95.0</td>\n",
       "    </tr>\n",
       "  </tbody>\n",
       "</table>\n",
       "</div>"
      ],
      "text/plain": [
       "      name  score\n",
       "a    Alice   88.5\n",
       "c  Charlie   95.0"
      ]
     },
     "execution_count": 15,
     "metadata": {},
     "output_type": "execute_result"
    }
   ],
   "source": [
    "df.loc[['a', 'c'], ['name', 'score']]"
   ]
  },
  {
   "cell_type": "code",
   "execution_count": 56,
   "id": "7723ec7c",
   "metadata": {},
   "outputs": [
    {
     "data": {
      "text/plain": [
       "['name', 'age', 'score']"
      ]
     },
     "execution_count": 56,
     "metadata": {},
     "output_type": "execute_result"
    }
   ],
   "source": [
    "r = ds.loc[['a'], None]\n",
    "r.columns"
   ]
  },
  {
   "cell_type": "code",
   "execution_count": 57,
   "id": "01d9bdc4",
   "metadata": {},
   "outputs": [
    {
     "ename": "KeyError",
     "evalue": "'price'",
     "output_type": "error",
     "traceback": [
      "\u001b[31m---------------------------------------------------------------------------\u001b[39m",
      "\u001b[31mKeyError\u001b[39m                                  Traceback (most recent call last)",
      "\u001b[36mCell\u001b[39m\u001b[36m \u001b[39m\u001b[32mIn[57]\u001b[39m\u001b[32m, line 1\u001b[39m\n\u001b[32m----> \u001b[39m\u001b[32m1\u001b[39m \u001b[43mds\u001b[49m\u001b[43m.\u001b[49m\u001b[43mloc\u001b[49m\u001b[43m[\u001b[49m\u001b[38;5;28;43;01mlambda\u001b[39;49;00m\u001b[43m \u001b[49m\u001b[43mrow\u001b[49m\u001b[43m:\u001b[49m\u001b[43m \u001b[49m\u001b[43mrow\u001b[49m\u001b[43m[\u001b[49m\u001b[33;43m'\u001b[39;49m\u001b[33;43mprice\u001b[39;49m\u001b[33;43m'\u001b[39;49m\u001b[43m]\u001b[49m\u001b[43m \u001b[49m\u001b[43m>\u001b[49m\u001b[43m \u001b[49m\u001b[32;43m5\u001b[39;49m\u001b[43m]\u001b[49m\n",
      "\u001b[36mFile \u001b[39m\u001b[32me:\\testdev\\python\\building_a_library\\v1\\src\\Dataset\\indexers.py:61\u001b[39m, in \u001b[36m_LocIndexer.__getitem__\u001b[39m\u001b[34m(self, key)\u001b[39m\n\u001b[32m     57\u001b[39m \u001b[38;5;66;03m# callable\u001b[39;00m\n\u001b[32m     58\u001b[39m \u001b[38;5;28;01melif\u001b[39;00m \u001b[38;5;28mcallable\u001b[39m(row_filter):\n\u001b[32m     59\u001b[39m     filtered_data, new_index = \u001b[38;5;28mzip\u001b[39m(*[\n\u001b[32m     60\u001b[39m         (row, idx) \u001b[38;5;28;01mfor\u001b[39;00m idx, row \u001b[38;5;129;01min\u001b[39;00m \u001b[38;5;28mzip\u001b[39m(index, data)\n\u001b[32m---> \u001b[39m\u001b[32m61\u001b[39m         \u001b[38;5;28;01mif\u001b[39;00m \u001b[43mrow_filter\u001b[49m\u001b[43m(\u001b[49m\u001b[43mrow\u001b[49m\u001b[43m)\u001b[49m\n\u001b[32m     62\u001b[39m     ])\n\u001b[32m     64\u001b[39m \u001b[38;5;66;03m# label slice (like 'a':'d')\u001b[39;00m\n\u001b[32m     65\u001b[39m \u001b[38;5;28;01melif\u001b[39;00m \u001b[38;5;28misinstance\u001b[39m(row_filter, \u001b[38;5;28mslice\u001b[39m):\n\u001b[32m     66\u001b[39m     \u001b[38;5;66;03m# assume index is ordered and sliceable\u001b[39;00m\n",
      "\u001b[36mCell\u001b[39m\u001b[36m \u001b[39m\u001b[32mIn[57]\u001b[39m\u001b[32m, line 1\u001b[39m, in \u001b[36m<lambda>\u001b[39m\u001b[34m(row)\u001b[39m\n\u001b[32m----> \u001b[39m\u001b[32m1\u001b[39m ds.loc[\u001b[38;5;28;01mlambda\u001b[39;00m row: \u001b[43mrow\u001b[49m\u001b[43m[\u001b[49m\u001b[33;43m'\u001b[39;49m\u001b[33;43mprice\u001b[39;49m\u001b[33;43m'\u001b[39;49m\u001b[43m]\u001b[49m > \u001b[32m5\u001b[39m]\n",
      "\u001b[31mKeyError\u001b[39m: 'price'"
     ]
    }
   ],
   "source": [
    "ds.loc[lambda row: row['price'] > 5]"
   ]
  },
  {
   "cell_type": "code",
   "execution_count": 18,
   "id": "e3112a02",
   "metadata": {},
   "outputs": [
    {
     "data": {
      "text/html": [
       "\n",
       "            <table>\n",
       "                <thead><tr><th></th><th>product_code</th><th>description</th><th>price</th><th>cost</th><th>department</th><th>department_id</th><th>type</th><th>vendor_name</th></tr></thead>\n",
       "                <tbody><tr><td><strong>0</strong></td><td>0002663380147</td><td>Salt and Pepper Chips</td><td>4.95</td><td>3.99</td><td>grocery</td><td>1</td><td>each</td><td>Chips r Us</td></tr><tr><td><strong>1</strong></td><td>0002663358001</td><td>Barbecue Chips</td><td>4.95</td><td>3.99</td><td>grocery</td><td>1</td><td>each</td><td>Chips r Us</td></tr><tr><td><strong>2</strong></td><td>0003644920475</td><td>Toilet Paper</td><td>6.99</td><td>6.49</td><td>non food</td><td>2</td><td>each</td><td>Home Comfys</td></tr><tr><td><strong>3</strong></td><td>0003644989541</td><td>Tissue Paper</td><td>2.49</td><td>1.99</td><td>non food</td><td>2</td><td>each</td><td>Home Comfys</td></tr><tr><td><strong>4</strong></td><td>0020000100000</td><td>Pork Chops</td><td>11.25</td><td>10.99</td><td>meat</td><td>3</td><td>lb</td><td>Matts meats</td></tr></tbody>\n",
       "            </table>\n",
       "        "
      ],
      "text/plain": [
       "<Dataset />\n",
       "product_code, description, price, cost, department, department_id, type, vendor_name\n",
       "0002663380147, Salt and Pepper Chips, 4.95, 3.99, grocery, 1, each, Chips r Us\n",
       "0002663358001, Barbecue Chips, 4.95, 3.99, grocery, 1, each, Chips r Us\n",
       "0003644920475, Toilet Paper, 6.99, 6.49, non food, 2, each, Home Comfys\n",
       "0003644989541, Tissue Paper, 2.49, 1.99, non food, 2, each, Home Comfys\n",
       "0020000100000, Pork Chops, 11.25, 10.99, meat, 3, lb, Matts meats"
      ]
     },
     "execution_count": 18,
     "metadata": {},
     "output_type": "execute_result"
    }
   ],
   "source": [
    "ds = Dataset(data)\n",
    "ds.head()"
   ]
  },
  {
   "cell_type": "code",
   "execution_count": 19,
   "id": "284e920b",
   "metadata": {},
   "outputs": [
    {
     "data": {
      "text/html": [
       "<i>Empty Dataset</i>"
      ],
      "text/plain": [
       "<Dataset />"
      ]
     },
     "execution_count": 19,
     "metadata": {},
     "output_type": "execute_result"
    }
   ],
   "source": [
    "ds.loc['0']"
   ]
  },
  {
   "cell_type": "code",
   "execution_count": 20,
   "id": "6615c973",
   "metadata": {},
   "outputs": [
    {
     "data": {
      "text/html": [
       "<div>\n",
       "<style scoped>\n",
       "    .dataframe tbody tr th:only-of-type {\n",
       "        vertical-align: middle;\n",
       "    }\n",
       "\n",
       "    .dataframe tbody tr th {\n",
       "        vertical-align: top;\n",
       "    }\n",
       "\n",
       "    .dataframe thead th {\n",
       "        text-align: right;\n",
       "    }\n",
       "</style>\n",
       "<table border=\"1\" class=\"dataframe\">\n",
       "  <thead>\n",
       "    <tr style=\"text-align: right;\">\n",
       "      <th></th>\n",
       "      <th>product_code</th>\n",
       "      <th>description</th>\n",
       "      <th>price</th>\n",
       "      <th>cost</th>\n",
       "      <th>department</th>\n",
       "      <th>department_id</th>\n",
       "      <th>type</th>\n",
       "      <th>vendor_name</th>\n",
       "    </tr>\n",
       "  </thead>\n",
       "  <tbody>\n",
       "    <tr>\n",
       "      <th>0</th>\n",
       "      <td>0002663380147</td>\n",
       "      <td>Salt and Pepper Chips</td>\n",
       "      <td>4.95</td>\n",
       "      <td>3.99</td>\n",
       "      <td>grocery</td>\n",
       "      <td>1</td>\n",
       "      <td>each</td>\n",
       "      <td>Chips r Us</td>\n",
       "    </tr>\n",
       "    <tr>\n",
       "      <th>1</th>\n",
       "      <td>0002663358001</td>\n",
       "      <td>Barbecue Chips</td>\n",
       "      <td>4.95</td>\n",
       "      <td>3.99</td>\n",
       "      <td>grocery</td>\n",
       "      <td>1</td>\n",
       "      <td>each</td>\n",
       "      <td>Chips r Us</td>\n",
       "    </tr>\n",
       "    <tr>\n",
       "      <th>2</th>\n",
       "      <td>0003644920475</td>\n",
       "      <td>Toilet Paper</td>\n",
       "      <td>6.99</td>\n",
       "      <td>6.49</td>\n",
       "      <td>non food</td>\n",
       "      <td>2</td>\n",
       "      <td>each</td>\n",
       "      <td>Home Comfys</td>\n",
       "    </tr>\n",
       "    <tr>\n",
       "      <th>3</th>\n",
       "      <td>0003644989541</td>\n",
       "      <td>Tissue Paper</td>\n",
       "      <td>2.49</td>\n",
       "      <td>1.99</td>\n",
       "      <td>non food</td>\n",
       "      <td>2</td>\n",
       "      <td>each</td>\n",
       "      <td>Home Comfys</td>\n",
       "    </tr>\n",
       "    <tr>\n",
       "      <th>4</th>\n",
       "      <td>0020000100000</td>\n",
       "      <td>Pork Chops</td>\n",
       "      <td>11.25</td>\n",
       "      <td>10.99</td>\n",
       "      <td>meat</td>\n",
       "      <td>3</td>\n",
       "      <td>lb</td>\n",
       "      <td>Matts meats</td>\n",
       "    </tr>\n",
       "  </tbody>\n",
       "</table>\n",
       "</div>"
      ],
      "text/plain": [
       "    product_code            description  price   cost department  \\\n",
       "0  0002663380147  Salt and Pepper Chips   4.95   3.99    grocery   \n",
       "1  0002663358001         Barbecue Chips   4.95   3.99    grocery   \n",
       "2  0003644920475           Toilet Paper   6.99   6.49   non food   \n",
       "3  0003644989541           Tissue Paper   2.49   1.99   non food   \n",
       "4  0020000100000             Pork Chops  11.25  10.99       meat   \n",
       "\n",
       "   department_id  type  vendor_name  \n",
       "0              1  each   Chips r Us  \n",
       "1              1  each   Chips r Us  \n",
       "2              2  each  Home Comfys  \n",
       "3              2  each  Home Comfys  \n",
       "4              3    lb  Matts meats  "
      ]
     },
     "execution_count": 20,
     "metadata": {},
     "output_type": "execute_result"
    }
   ],
   "source": [
    "df = pd.DataFrame(data)\n",
    "df.head()"
   ]
  },
  {
   "cell_type": "markdown",
   "id": "beb332a3",
   "metadata": {},
   "source": [
    "### get_item"
   ]
  },
  {
   "cell_type": "code",
   "execution_count": 4,
   "id": "f10f6966",
   "metadata": {},
   "outputs": [
    {
     "data": {
      "text/html": [
       "\n",
       "            <table>\n",
       "                <thead><tr><th></th><th>product_code</th><th>description</th><th>price</th><th>cost</th><th>department</th><th>department_id</th><th>type</th><th>vendor_name</th></tr></thead>\n",
       "                <tbody><tr><td><strong>0</strong></td><td>0002663380147</td><td>Salt and Pepper Chips</td><td>4.95</td><td>3.99</td><td>grocery</td><td>1</td><td>each</td><td>Chips r Us</td></tr><tr><td><strong>1</strong></td><td>0002663358001</td><td>Barbecue Chips</td><td>4.95</td><td>3.99</td><td>grocery</td><td>1</td><td>each</td><td>Chips r Us</td></tr><tr><td><strong>2</strong></td><td>0003644920475</td><td>Toilet Paper</td><td>6.99</td><td>6.49</td><td>non food</td><td>2</td><td>each</td><td>Home Comfys</td></tr><tr><td><strong>3</strong></td><td>0003644989541</td><td>Tissue Paper</td><td>2.49</td><td>1.99</td><td>non food</td><td>2</td><td>each</td><td>Home Comfys</td></tr><tr><td><strong>4</strong></td><td>0020000100000</td><td>Pork Chops</td><td>11.25</td><td>10.99</td><td>meat</td><td>3</td><td>lb</td><td>Matts meats</td></tr><tr><td><strong>5</strong></td><td>0020000200000</td><td>Sirloin Steak</td><td>21.99</td><td>19.99</td><td>meat</td><td>3</td><td>lb</td><td>Matts meats</td></tr><tr><td><strong>6</strong></td><td>0007780522546</td><td>American Cheese</td><td>4.99</td><td>4.49</td><td>dairy</td><td>4</td><td>each</td><td>Milky Moes</td></tr><tr><td><strong>7</strong></td><td>0007780580235</td><td>1 Gallon Milk</td><td>3.99</td><td>2.99</td><td>dairy</td><td>4</td><td>each</td><td>Milky Moes</td></tr></tbody>\n",
       "            </table>\n",
       "        "
      ],
      "text/plain": [
       "<Dataset />\n",
       "product_code, description, price, cost, department, department_id, type, vendor_name\n",
       "0002663380147, Salt and Pepper Chips, 4.95, 3.99, grocery, 1, each, Chips r Us\n",
       "0002663358001, Barbecue Chips, 4.95, 3.99, grocery, 1, each, Chips r Us\n",
       "0003644920475, Toilet Paper, 6.99, 6.49, non food, 2, each, Home Comfys\n",
       "0003644989541, Tissue Paper, 2.49, 1.99, non food, 2, each, Home Comfys\n",
       "0020000100000, Pork Chops, 11.25, 10.99, meat, 3, lb, Matts meats\n",
       "0020000200000, Sirloin Steak, 21.99, 19.99, meat, 3, lb, Matts meats\n",
       "0007780522546, American Cheese, 4.99, 4.49, dairy, 4, each, Milky Moes\n",
       "0007780580235, 1 Gallon Milk, 3.99, 2.99, dairy, 4, each, Milky Moes"
      ]
     },
     "execution_count": 4,
     "metadata": {},
     "output_type": "execute_result"
    }
   ],
   "source": [
    "ds"
   ]
  },
  {
   "cell_type": "code",
   "execution_count": 7,
   "id": "8cca28d7",
   "metadata": {},
   "outputs": [
    {
     "data": {
      "text/html": [
       "<table style='border-collapse: collapse;'><tr><td style='text-align: 'left';'>0</td><td>False</td></tr><tr><td style='text-align: 'left';'>1</td><td>False</td></tr><tr><td style='text-align: 'left';'>2</td><td>False</td></tr><tr><td style='text-align: 'left';'>3</td><td>False</td></tr><tr><td style='text-align: 'left';'>4</td><td>True</td></tr><tr><td style='text-align: 'left';'>5</td><td>True</td></tr><tr><td style='text-align: 'left';'>6</td><td>False</td></tr><tr><td style='text-align: 'left';'>7</td><td>False</td></tr><tr><td colspan='2' style='font-size:14px;'>Name: department, dtype: bool</td></tr></table>"
      ],
      "text/plain": [
       "<Series />\n",
       "0    False\n",
       "1    False\n",
       "2    False\n",
       "3    False\n",
       "4    True\n",
       "5    True\n",
       "6    False\n",
       "7    False\n",
       "Name: department   dtype: bool"
      ]
     },
     "execution_count": 7,
     "metadata": {},
     "output_type": "execute_result"
    }
   ],
   "source": [
    "mask = ds['department'] == 'meat'\n",
    "mask"
   ]
  },
  {
   "cell_type": "code",
   "execution_count": null,
   "id": "f4e97bc0",
   "metadata": {},
   "outputs": [
    {
     "data": {
      "text/html": [
       "\n",
       "            <table>\n",
       "                <thead><tr><th></th><th>product_code</th><th>description</th><th>price</th></tr></thead>\n",
       "                <tbody><tr><td><strong>4</strong></td><td>0020000100000</td><td>Pork Chops</td><td>11.25</td></tr><tr><td><strong>5</strong></td><td>0020000200000</td><td>Sirloin Steak</td><td>21.99</td></tr></tbody>\n",
       "            </table>\n",
       "        "
      ],
      "text/plain": [
       "<Dataset />\n",
       "product_code, description, price\n",
       "0020000100000, Pork Chops, 11.25\n",
       "0020000200000, Sirloin Steak, 21.99"
      ]
     },
     "execution_count": 7,
     "metadata": {},
     "output_type": "execute_result"
    }
   ],
   "source": [
    "ds.loc[mask, ['product_code', 'description', 'price']]"
   ]
  },
  {
   "cell_type": "code",
   "execution_count": 8,
   "id": "78537539",
   "metadata": {},
   "outputs": [
    {
     "data": {
      "text/plain": [
       "[{'product_code': '0020000100000',\n",
       "  'description': 'Pork Chops',\n",
       "  'price': 11.25},\n",
       " {'product_code': '0020000200000',\n",
       "  'description': 'Sirloin Steak',\n",
       "  'price': 21.99}]"
      ]
     },
     "execution_count": 8,
     "metadata": {},
     "output_type": "execute_result"
    }
   ],
   "source": [
    "r = ds.loc[mask, ['product_code', 'description', 'price']]\n",
    "r.data"
   ]
  },
  {
   "cell_type": "code",
   "execution_count": 8,
   "id": "22444f30",
   "metadata": {},
   "outputs": [
    {
     "data": {
      "text/html": [
       "\n",
       "            <table>\n",
       "                <thead><tr><th></th><th>product_code</th><th>description</th><th>price</th></tr></thead>\n",
       "                <tbody><tr><td><strong>2</strong></td><td>0003644920475</td><td>Toilet Paper</td><td>6.99</td></tr><tr><td><strong>4</strong></td><td>0020000100000</td><td>Pork Chops</td><td>11.25</td></tr><tr><td><strong>5</strong></td><td>0020000200000</td><td>Sirloin Steak</td><td>21.99</td></tr></tbody>\n",
       "            </table>\n",
       "        "
      ],
      "text/plain": [
       "<Dataset />\n",
       "product_code, description, price\n",
       "0003644920475, Toilet Paper, 6.99\n",
       "0020000100000, Pork Chops, 11.25\n",
       "0020000200000, Sirloin Steak, 21.99"
      ]
     },
     "execution_count": 8,
     "metadata": {},
     "output_type": "execute_result"
    }
   ],
   "source": [
    "ds.loc[ds['price'] > 5, ['product_code', 'description', 'price']]"
   ]
  },
  {
   "cell_type": "code",
   "execution_count": 5,
   "id": "59d8c6a0",
   "metadata": {},
   "outputs": [
    {
     "data": {
      "text/html": [
       "\n",
       "            <table>\n",
       "                <thead><tr><th></th><th>product_code</th><th>description</th><th>price</th></tr></thead>\n",
       "                <tbody><tr><td><strong>4</strong></td><td>0020000100000</td><td>Pork Chops</td><td>11.25</td></tr><tr><td><strong>5</strong></td><td>0020000200000</td><td>Sirloin Steak</td><td>21.99</td></tr></tbody>\n",
       "            </table>\n",
       "        "
      ],
      "text/plain": [
       "<Dataset />\n",
       "product_code, description, price\n",
       "0020000100000, Pork Chops, 11.25\n",
       "0020000200000, Sirloin Steak, 21.99"
      ]
     },
     "execution_count": 5,
     "metadata": {},
     "output_type": "execute_result"
    }
   ],
   "source": [
    "mask1 = ds['department'] == 'meat'\n",
    "mask2 = ds['price'] > 5\n",
    "ds.loc[mask1 & mask2, ['product_code', 'description', 'price']]"
   ]
  },
  {
   "cell_type": "markdown",
   "id": "81353f3f",
   "metadata": {},
   "source": [
    "### set item"
   ]
  },
  {
   "cell_type": "code",
   "execution_count": 35,
   "id": "94837497",
   "metadata": {},
   "outputs": [
    {
     "data": {
      "text/html": [
       "\n",
       "            <table>\n",
       "                <thead><tr><th></th><th>product_code</th><th>description</th><th>price</th><th>cost</th><th>department</th><th>department_id</th><th>type</th><th>vendor_name</th><th>total</th><th>overall</th><th>sale_type</th></tr></thead>\n",
       "                <tbody><tr><td><strong>0</strong></td><td>0002663380147</td><td>Salt and Pepper Chips</td><td>4.95</td><td>3.99</td><td>grocery</td><td>1</td><td>each</td><td>Chips r Us</td><td>5.445</td><td>overall</td><td>normal</td></tr><tr><td><strong>1</strong></td><td>0002663358001</td><td>Barbecue Chips</td><td>4.95</td><td>3.99</td><td>grocery</td><td>1</td><td>each</td><td>Chips r Us</td><td>5.445</td><td>overall</td><td>normal</td></tr><tr><td><strong>2</strong></td><td>0003644920475</td><td>Toilet Paper</td><td>6.99</td><td>6.49</td><td>non food</td><td>2</td><td>each</td><td>Home Comfys</td><td>7.689000000000001</td><td>overall</td><td>expensive</td></tr><tr><td><strong>3</strong></td><td>0003644989541</td><td>Tissue Paper</td><td>2.49</td><td>1.99</td><td>non food</td><td>2</td><td>each</td><td>Home Comfys</td><td>2.7390000000000003</td><td>overall</td><td>normal</td></tr><tr><td><strong>4</strong></td><td>0020000100000</td><td>Pork Chops</td><td>11.25</td><td>10.99</td><td>meat</td><td>3</td><td>lb</td><td>Matts meats</td><td>12.375000000000002</td><td>overall</td><td>holy shit</td></tr></tbody>\n",
       "            </table>\n",
       "        "
      ],
      "text/plain": [
       "<Dataset />\n",
       "product_code, description, price, cost, department, department_id, type, vendor_name, total, overall, sale_type\n",
       "0002663380147, Salt and Pepper Chips, 4.95, 3.99, grocery, 1, each, Chips r Us, 5.445, overall, normal\n",
       "0002663358001, Barbecue Chips, 4.95, 3.99, grocery, 1, each, Chips r Us, 5.445, overall, normal\n",
       "0003644920475, Toilet Paper, 6.99, 6.49, non food, 2, each, Home Comfys, 7.689000000000001, overall, expensive\n",
       "0003644989541, Tissue Paper, 2.49, 1.99, non food, 2, each, Home Comfys, 2.7390000000000003, overall, normal\n",
       "0020000100000, Pork Chops, 11.25, 10.99, meat, 3, lb, Matts meats, 12.375000000000002, overall, holy shit"
      ]
     },
     "execution_count": 35,
     "metadata": {},
     "output_type": "execute_result"
    }
   ],
   "source": [
    "ds.head()"
   ]
  },
  {
   "cell_type": "code",
   "execution_count": 18,
   "id": "9adbf605",
   "metadata": {},
   "outputs": [],
   "source": [
    "ds['total'] = lambda row: row['price'] * 1.1"
   ]
  },
  {
   "cell_type": "code",
   "execution_count": 23,
   "id": "75c46772",
   "metadata": {},
   "outputs": [],
   "source": [
    "ds['sale_type'] = 'normal'"
   ]
  },
  {
   "cell_type": "code",
   "execution_count": 31,
   "id": "bc37cffc",
   "metadata": {},
   "outputs": [],
   "source": [
    "ds.loc[ds['price'] > 5, 'sale_type'] = 'expensive'"
   ]
  },
  {
   "cell_type": "code",
   "execution_count": 33,
   "id": "1f74f357",
   "metadata": {},
   "outputs": [],
   "source": [
    "ds.loc[ds['price'] > 10, 'sale_type'] = lambda row: f\"holy shit\""
   ]
  },
  {
   "cell_type": "code",
   "execution_count": 34,
   "id": "f2be1a7e",
   "metadata": {},
   "outputs": [
    {
     "data": {
      "text/html": [
       "<div>\n",
       "<style scoped>\n",
       "    .dataframe tbody tr th:only-of-type {\n",
       "        vertical-align: middle;\n",
       "    }\n",
       "\n",
       "    .dataframe tbody tr th {\n",
       "        vertical-align: top;\n",
       "    }\n",
       "\n",
       "    .dataframe thead th {\n",
       "        text-align: right;\n",
       "    }\n",
       "</style>\n",
       "<table border=\"1\" class=\"dataframe\">\n",
       "  <thead>\n",
       "    <tr style=\"text-align: right;\">\n",
       "      <th></th>\n",
       "      <th>product_code</th>\n",
       "      <th>description</th>\n",
       "      <th>price</th>\n",
       "      <th>cost</th>\n",
       "      <th>department</th>\n",
       "      <th>department_id</th>\n",
       "      <th>type</th>\n",
       "      <th>vendor_name</th>\n",
       "      <th>total</th>\n",
       "      <th>overall</th>\n",
       "      <th>sale_type</th>\n",
       "    </tr>\n",
       "  </thead>\n",
       "  <tbody>\n",
       "    <tr>\n",
       "      <th>0</th>\n",
       "      <td>0002663380147</td>\n",
       "      <td>Salt and Pepper Chips</td>\n",
       "      <td>4.95</td>\n",
       "      <td>3.99</td>\n",
       "      <td>grocery</td>\n",
       "      <td>1</td>\n",
       "      <td>each</td>\n",
       "      <td>Chips r Us</td>\n",
       "      <td>5.445</td>\n",
       "      <td>overall</td>\n",
       "      <td>normal</td>\n",
       "    </tr>\n",
       "    <tr>\n",
       "      <th>1</th>\n",
       "      <td>0002663358001</td>\n",
       "      <td>Barbecue Chips</td>\n",
       "      <td>4.95</td>\n",
       "      <td>3.99</td>\n",
       "      <td>grocery</td>\n",
       "      <td>1</td>\n",
       "      <td>each</td>\n",
       "      <td>Chips r Us</td>\n",
       "      <td>5.445</td>\n",
       "      <td>overall</td>\n",
       "      <td>normal</td>\n",
       "    </tr>\n",
       "    <tr>\n",
       "      <th>2</th>\n",
       "      <td>0003644920475</td>\n",
       "      <td>Toilet Paper</td>\n",
       "      <td>6.99</td>\n",
       "      <td>6.49</td>\n",
       "      <td>non food</td>\n",
       "      <td>2</td>\n",
       "      <td>each</td>\n",
       "      <td>Home Comfys</td>\n",
       "      <td>7.689</td>\n",
       "      <td>overall</td>\n",
       "      <td>expensive</td>\n",
       "    </tr>\n",
       "    <tr>\n",
       "      <th>3</th>\n",
       "      <td>0003644989541</td>\n",
       "      <td>Tissue Paper</td>\n",
       "      <td>2.49</td>\n",
       "      <td>1.99</td>\n",
       "      <td>non food</td>\n",
       "      <td>2</td>\n",
       "      <td>each</td>\n",
       "      <td>Home Comfys</td>\n",
       "      <td>2.739</td>\n",
       "      <td>overall</td>\n",
       "      <td>normal</td>\n",
       "    </tr>\n",
       "    <tr>\n",
       "      <th>4</th>\n",
       "      <td>0020000100000</td>\n",
       "      <td>Pork Chops</td>\n",
       "      <td>11.25</td>\n",
       "      <td>10.99</td>\n",
       "      <td>meat</td>\n",
       "      <td>3</td>\n",
       "      <td>lb</td>\n",
       "      <td>Matts meats</td>\n",
       "      <td>12.375</td>\n",
       "      <td>overall</td>\n",
       "      <td>holy shit</td>\n",
       "    </tr>\n",
       "  </tbody>\n",
       "</table>\n",
       "</div>"
      ],
      "text/plain": [
       "    product_code            description  price   cost department  \\\n",
       "0  0002663380147  Salt and Pepper Chips   4.95   3.99    grocery   \n",
       "1  0002663358001         Barbecue Chips   4.95   3.99    grocery   \n",
       "2  0003644920475           Toilet Paper   6.99   6.49   non food   \n",
       "3  0003644989541           Tissue Paper   2.49   1.99   non food   \n",
       "4  0020000100000             Pork Chops  11.25  10.99       meat   \n",
       "\n",
       "   department_id  type  vendor_name   total  overall  sale_type  \n",
       "0              1  each   Chips r Us   5.445  overall     normal  \n",
       "1              1  each   Chips r Us   5.445  overall     normal  \n",
       "2              2  each  Home Comfys   7.689  overall  expensive  \n",
       "3              2  each  Home Comfys   2.739  overall     normal  \n",
       "4              3    lb  Matts meats  12.375  overall  holy shit  "
      ]
     },
     "execution_count": 34,
     "metadata": {},
     "output_type": "execute_result"
    }
   ],
   "source": [
    "df = pd.DataFrame(data)\n",
    "df.head()"
   ]
  },
  {
   "cell_type": "code",
   "execution_count": 29,
   "id": "a02ef840",
   "metadata": {},
   "outputs": [],
   "source": [
    "df.loc[df['price'] > 5, 'sale_type'] = 'expensive'"
   ]
  },
  {
   "cell_type": "code",
   "execution_count": 30,
   "id": "de4a81f4",
   "metadata": {},
   "outputs": [
    {
     "data": {
      "text/html": [
       "<div>\n",
       "<style scoped>\n",
       "    .dataframe tbody tr th:only-of-type {\n",
       "        vertical-align: middle;\n",
       "    }\n",
       "\n",
       "    .dataframe tbody tr th {\n",
       "        vertical-align: top;\n",
       "    }\n",
       "\n",
       "    .dataframe thead th {\n",
       "        text-align: right;\n",
       "    }\n",
       "</style>\n",
       "<table border=\"1\" class=\"dataframe\">\n",
       "  <thead>\n",
       "    <tr style=\"text-align: right;\">\n",
       "      <th></th>\n",
       "      <th>product_code</th>\n",
       "      <th>description</th>\n",
       "      <th>price</th>\n",
       "      <th>cost</th>\n",
       "      <th>department</th>\n",
       "      <th>department_id</th>\n",
       "      <th>type</th>\n",
       "      <th>vendor_name</th>\n",
       "      <th>total</th>\n",
       "      <th>overall</th>\n",
       "      <th>sale_type</th>\n",
       "    </tr>\n",
       "  </thead>\n",
       "  <tbody>\n",
       "    <tr>\n",
       "      <th>0</th>\n",
       "      <td>0002663380147</td>\n",
       "      <td>Salt and Pepper Chips</td>\n",
       "      <td>4.95</td>\n",
       "      <td>3.99</td>\n",
       "      <td>grocery</td>\n",
       "      <td>1</td>\n",
       "      <td>each</td>\n",
       "      <td>Chips r Us</td>\n",
       "      <td>5.445</td>\n",
       "      <td>overall</td>\n",
       "      <td>normal</td>\n",
       "    </tr>\n",
       "    <tr>\n",
       "      <th>1</th>\n",
       "      <td>0002663358001</td>\n",
       "      <td>Barbecue Chips</td>\n",
       "      <td>4.95</td>\n",
       "      <td>3.99</td>\n",
       "      <td>grocery</td>\n",
       "      <td>1</td>\n",
       "      <td>each</td>\n",
       "      <td>Chips r Us</td>\n",
       "      <td>5.445</td>\n",
       "      <td>overall</td>\n",
       "      <td>normal</td>\n",
       "    </tr>\n",
       "    <tr>\n",
       "      <th>2</th>\n",
       "      <td>0003644920475</td>\n",
       "      <td>Toilet Paper</td>\n",
       "      <td>6.99</td>\n",
       "      <td>6.49</td>\n",
       "      <td>non food</td>\n",
       "      <td>2</td>\n",
       "      <td>each</td>\n",
       "      <td>Home Comfys</td>\n",
       "      <td>7.689</td>\n",
       "      <td>overall</td>\n",
       "      <td>expensive</td>\n",
       "    </tr>\n",
       "    <tr>\n",
       "      <th>3</th>\n",
       "      <td>0003644989541</td>\n",
       "      <td>Tissue Paper</td>\n",
       "      <td>2.49</td>\n",
       "      <td>1.99</td>\n",
       "      <td>non food</td>\n",
       "      <td>2</td>\n",
       "      <td>each</td>\n",
       "      <td>Home Comfys</td>\n",
       "      <td>2.739</td>\n",
       "      <td>overall</td>\n",
       "      <td>normal</td>\n",
       "    </tr>\n",
       "    <tr>\n",
       "      <th>4</th>\n",
       "      <td>0020000100000</td>\n",
       "      <td>Pork Chops</td>\n",
       "      <td>11.25</td>\n",
       "      <td>10.99</td>\n",
       "      <td>meat</td>\n",
       "      <td>3</td>\n",
       "      <td>lb</td>\n",
       "      <td>Matts meats</td>\n",
       "      <td>12.375</td>\n",
       "      <td>overall</td>\n",
       "      <td>expensive</td>\n",
       "    </tr>\n",
       "  </tbody>\n",
       "</table>\n",
       "</div>"
      ],
      "text/plain": [
       "    product_code            description  price   cost department  \\\n",
       "0  0002663380147  Salt and Pepper Chips   4.95   3.99    grocery   \n",
       "1  0002663358001         Barbecue Chips   4.95   3.99    grocery   \n",
       "2  0003644920475           Toilet Paper   6.99   6.49   non food   \n",
       "3  0003644989541           Tissue Paper   2.49   1.99   non food   \n",
       "4  0020000100000             Pork Chops  11.25  10.99       meat   \n",
       "\n",
       "   department_id  type  vendor_name   total  overall  sale_type  \n",
       "0              1  each   Chips r Us   5.445  overall     normal  \n",
       "1              1  each   Chips r Us   5.445  overall     normal  \n",
       "2              2  each  Home Comfys   7.689  overall  expensive  \n",
       "3              2  each  Home Comfys   2.739  overall     normal  \n",
       "4              3    lb  Matts meats  12.375  overall  expensive  "
      ]
     },
     "execution_count": 30,
     "metadata": {},
     "output_type": "execute_result"
    }
   ],
   "source": [
    "df.head()"
   ]
  },
  {
   "cell_type": "markdown",
   "id": "12d7c203",
   "metadata": {},
   "source": [
    "##### tests"
   ]
  },
  {
   "cell_type": "code",
   "execution_count": 36,
   "id": "f5801ccf",
   "metadata": {},
   "outputs": [
    {
     "data": {
      "text/html": [
       "\n",
       "            <table>\n",
       "                <thead><tr><th></th><th>a</th><th>flag</th></tr></thead>\n",
       "                <tbody><tr><td><strong>0</strong></td><td>1</td><td>x</td></tr><tr><td><strong>1</strong></td><td>2</td><td></td></tr><tr><td><strong>2</strong></td><td>3</td><td>y</td></tr></tbody>\n",
       "            </table>\n",
       "        "
      ],
      "text/plain": [
       "<Dataset />\n",
       "a, flag\n",
       "1, x\n",
       "2, \n",
       "3, y"
      ]
     },
     "execution_count": 36,
     "metadata": {},
     "output_type": "execute_result"
    }
   ],
   "source": [
    "ds = Dataset([\n",
    "    {'a': 1}, {'a': 2}, {'a': 3}\n",
    "]) \n",
    "mask = Series([True, False, True])\n",
    "ds.loc[mask, 'flag'] = ['x', 'y']\n",
    "ds"
   ]
  },
  {
   "cell_type": "code",
   "execution_count": 5,
   "id": "3648f7fb",
   "metadata": {},
   "outputs": [],
   "source": [
    "ds = Dataset([\n",
    "        {'a': 10}, {'a': 20}, {'a': 30}\n",
    "    ])"
   ]
  },
  {
   "cell_type": "code",
   "execution_count": 6,
   "id": "20e2fc4a",
   "metadata": {},
   "outputs": [],
   "source": [
    "mask = Series([False, True, True])"
   ]
  },
  {
   "cell_type": "code",
   "execution_count": 7,
   "id": "bedd46d7",
   "metadata": {},
   "outputs": [],
   "source": [
    "val_series = Series([100, 200])\n",
    "ds.loc[mask, 'bonus'] = val_series"
   ]
  },
  {
   "cell_type": "markdown",
   "id": "19e8a0cb",
   "metadata": {},
   "source": [
    "### set index"
   ]
  },
  {
   "cell_type": "code",
   "execution_count": 37,
   "id": "653cd488",
   "metadata": {},
   "outputs": [],
   "source": [
    "data = [\n",
    "    {'id': 1, 'cat': 'A', 'val': 10},\n",
    "    {'id': 2, 'cat': 'B', 'val': 20},\n",
    "    {'id': 3, 'cat': 'A', 'val': 30},\n",
    "]\n",
    "ds = Dataset(data)"
   ]
  },
  {
   "cell_type": "code",
   "execution_count": 42,
   "id": "7ef95762",
   "metadata": {},
   "outputs": [
    {
     "data": {
      "text/html": [
       "\n",
       "            <div>\n",
       "                <a download=\"dataset.csv\" href=\"data:text/csv;base64,LGNhdCx2YWwNCjAsQSwxMA0KMSxCLDIwDQoyLEEsMzANCg==\" target=\"_blank\">Download CSV</a>\n",
       "                <table>\n",
       "                    <thead><tr><th></th><th>cat</th><th>val</th></tr></thead>\n",
       "                    <tbody><tr><td><strong>0</strong></td><td>A</td><td>10</td></tr><tr><td><strong>1</strong></td><td>B</td><td>20</td></tr><tr><td><strong>2</strong></td><td>A</td><td>30</td></tr></tbody>\n",
       "                </table>\n",
       "            </div>\n",
       "        "
      ],
      "text/plain": [
       "<Dataset />\n",
       "cat, val\n",
       "A, 10\n",
       "B, 20\n",
       "A, 30"
      ]
     },
     "execution_count": 42,
     "metadata": {},
     "output_type": "execute_result"
    }
   ],
   "source": [
    "ds.head()"
   ]
  },
  {
   "cell_type": "code",
   "execution_count": 39,
   "id": "b97edd1d",
   "metadata": {},
   "outputs": [],
   "source": [
    "ret = ds.set_index('id', inplace=True)\n",
    "ret"
   ]
  },
  {
   "cell_type": "code",
   "execution_count": 40,
   "id": "c161badd",
   "metadata": {},
   "outputs": [
    {
     "data": {
      "text/plain": [
       "[1, 2, 3]"
      ]
     },
     "execution_count": 40,
     "metadata": {},
     "output_type": "execute_result"
    }
   ],
   "source": [
    "ds._index"
   ]
  },
  {
   "cell_type": "code",
   "execution_count": 27,
   "id": "8b6b870d",
   "metadata": {},
   "outputs": [
    {
     "data": {
      "text/plain": [
       "'id'"
      ]
     },
     "execution_count": 27,
     "metadata": {},
     "output_type": "execute_result"
    }
   ],
   "source": [
    "ds._index_name"
   ]
  },
  {
   "cell_type": "code",
   "execution_count": 14,
   "id": "7ea7373a",
   "metadata": {},
   "outputs": [],
   "source": [
    "f = lambda row: row[\"cat\"].lower()"
   ]
  },
  {
   "cell_type": "code",
   "execution_count": 15,
   "id": "11fa05f0",
   "metadata": {},
   "outputs": [],
   "source": [
    "ds.set_index(f, inplace=True)"
   ]
  },
  {
   "cell_type": "code",
   "execution_count": 16,
   "id": "a807040c",
   "metadata": {},
   "outputs": [
    {
     "data": {
      "text/plain": [
       "['a', 'b', 'a']"
      ]
     },
     "execution_count": 16,
     "metadata": {},
     "output_type": "execute_result"
    }
   ],
   "source": [
    "ds._index"
   ]
  },
  {
   "cell_type": "markdown",
   "id": "9da91881",
   "metadata": {},
   "source": [
    "### drop"
   ]
  },
  {
   "cell_type": "code",
   "execution_count": 5,
   "id": "e0bfef3c",
   "metadata": {},
   "outputs": [
    {
     "data": {
      "text/html": [
       "\n",
       "            <div>\n",
       "                <a download=\"dataset.csv\" href=\"data:text/csv;base64,LHByb2R1Y3RfY29kZSxkZXNjcmlwdGlvbixwcmljZSxjb3N0LGRlcGFydG1lbnQsZGVwYXJ0bWVudF9pZCx0eXBlLHZlbmRvcl9uYW1lDQowLDAwMDI2NjMzODAxNDcsU2FsdCBhbmQgUGVwcGVyIENoaXBzLDQuOTUsMy45OSxncm9jZXJ5LDEsZWFjaCxDaGlwcyByIFVzDQoxLDAwMDI2NjMzNTgwMDEsQmFyYmVjdWUgQ2hpcHMsNC45NSwzLjk5LGdyb2NlcnksMSxlYWNoLENoaXBzIHIgVXMNCjIsMDAwMzY0NDkyMDQ3NSxUb2lsZXQgUGFwZXIsNi45OSw2LjQ5LG5vbiBmb29kLDIsZWFjaCxIb21lIENvbWZ5cw0KMywwMDAzNjQ0OTg5NTQxLFRpc3N1ZSBQYXBlciwyLjQ5LDEuOTksbm9uIGZvb2QsMixlYWNoLEhvbWUgQ29tZnlzDQo0LDAwMjAwMDAxMDAwMDAsUG9yayBDaG9wcywxMS4yNSwxMC45OSxtZWF0LDMsbGIsTWF0dHMgbWVhdHMNCg==\" target=\"_blank\"\n",
       "            style=\"\n",
       "               display: inline-block;\n",
       "               margin-bottom: 10px;\n",
       "               padding: 6px 12px;\n",
       "               background-color: #007acc;\n",
       "               color: white;\n",
       "               text-decoration: none;\n",
       "               border-radius: 5px;\n",
       "               font-family: sans-serif;\n",
       "               font-size: 14px;\n",
       "           \"\n",
       "        >Download CSV</a>\n",
       "                <table>\n",
       "                    <thead><tr><th></th><th>product_code</th><th>description</th><th>price</th><th>cost</th><th>department</th><th>department_id</th><th>type</th><th>vendor_name</th></tr></thead>\n",
       "                    <tbody><tr><td><strong>0</strong></td><td>0002663380147</td><td>Salt and Pepper Chips</td><td>4.95</td><td>3.99</td><td>grocery</td><td>1</td><td>each</td><td>Chips r Us</td></tr><tr><td><strong>1</strong></td><td>0002663358001</td><td>Barbecue Chips</td><td>4.95</td><td>3.99</td><td>grocery</td><td>1</td><td>each</td><td>Chips r Us</td></tr><tr><td><strong>2</strong></td><td>0003644920475</td><td>Toilet Paper</td><td>6.99</td><td>6.49</td><td>non food</td><td>2</td><td>each</td><td>Home Comfys</td></tr><tr><td><strong>3</strong></td><td>0003644989541</td><td>Tissue Paper</td><td>2.49</td><td>1.99</td><td>non food</td><td>2</td><td>each</td><td>Home Comfys</td></tr><tr><td><strong>4</strong></td><td>0020000100000</td><td>Pork Chops</td><td>11.25</td><td>10.99</td><td>meat</td><td>3</td><td>lb</td><td>Matts meats</td></tr></tbody>\n",
       "                </table>\n",
       "            </div>\n",
       "        "
      ],
      "text/plain": [
       "<Dataset />\n",
       "product_code, description, price, cost, department, department_id, type, vendor_name\n",
       "0002663380147, Salt and Pepper Chips, 4.95, 3.99, grocery, 1, each, Chips r Us\n",
       "0002663358001, Barbecue Chips, 4.95, 3.99, grocery, 1, each, Chips r Us\n",
       "0003644920475, Toilet Paper, 6.99, 6.49, non food, 2, each, Home Comfys\n",
       "0003644989541, Tissue Paper, 2.49, 1.99, non food, 2, each, Home Comfys\n",
       "0020000100000, Pork Chops, 11.25, 10.99, meat, 3, lb, Matts meats"
      ]
     },
     "execution_count": 5,
     "metadata": {},
     "output_type": "execute_result"
    }
   ],
   "source": [
    "ds.head()"
   ]
  },
  {
   "cell_type": "code",
   "execution_count": 6,
   "id": "028fd54e",
   "metadata": {},
   "outputs": [
    {
     "name": "stdout",
     "output_type": "stream",
     "text": [
      "<class 'Dataset'>\n",
      "Range Index: 8 entries\n",
      "Data columns (total 8 columns):\n",
      "Column          | Dtype      | Non-Null   | Total     \n",
      "--------------------------------------------------\n",
      "product_code    | str        | 8          | 8         \n",
      "description     | str        | 8          | 8         \n",
      "price           | float      | 8          | 8         \n",
      "cost            | float      | 8          | 8         \n",
      "department      | str        | 8          | 8         \n",
      "department_id   | int        | 8          | 8         \n",
      "type            | str        | 8          | 8         \n",
      "vendor_name     | str        | 8          | 8         \n"
     ]
    }
   ],
   "source": [
    "# go clean this up in the code to make it work\n",
    "ds.info()"
   ]
  },
  {
   "cell_type": "code",
   "execution_count": 2,
   "id": "756472ba",
   "metadata": {},
   "outputs": [
    {
     "data": {
      "text/html": [
       "\n",
       "            <div>\n",
       "                <a download=\"dataset.csv\" href=\"data:text/csv;base64,LGlkLGNhdCx2YWwNCjAsMSxBLDEwDQoxLDIsQiwyMA0KMiwzLEMsMzANCg==\" target=\"_blank\"\n",
       "            style=\"\n",
       "               display: inline-block;\n",
       "               margin-bottom: 10px;\n",
       "               padding: 6px 12px;\n",
       "               background-color: #007acc;\n",
       "               color: white;\n",
       "               text-decoration: none;\n",
       "               border-radius: 5px;\n",
       "               font-family: sans-serif;\n",
       "               font-size: 14px;\n",
       "           \"\n",
       "        >Download CSV</a>\n",
       "                <table>\n",
       "                    <thead><tr><th></th><th>id</th><th>cat</th><th>val</th></tr></thead>\n",
       "                    <tbody><tr><td><strong>0</strong></td><td>1</td><td>A</td><td>10</td></tr><tr><td><strong>1</strong></td><td>2</td><td>B</td><td>20</td></tr><tr><td><strong>2</strong></td><td>3</td><td>C</td><td>30</td></tr></tbody>\n",
       "                </table>\n",
       "            </div>\n",
       "        "
      ],
      "text/plain": [
       "<Dataset />\n",
       "id, cat, val\n",
       "1, A, 10\n",
       "2, B, 20\n",
       "3, C, 30"
      ]
     },
     "execution_count": 2,
     "metadata": {},
     "output_type": "execute_result"
    }
   ],
   "source": [
    "data = [\n",
    "    {\"id\": 1, \"cat\": \"A\", \"val\": 10},\n",
    "    {\"id\": 2, \"cat\": \"B\", \"val\": 20},\n",
    "    {\"id\": 3, \"cat\": \"C\", \"val\": 30},\n",
    "]\n",
    "ds = Dataset(data)\n",
    "ds.head()"
   ]
  },
  {
   "cell_type": "code",
   "execution_count": 3,
   "id": "ce12daed",
   "metadata": {},
   "outputs": [],
   "source": [
    "ds.set_index(\"id\", inplace=True)"
   ]
  },
  {
   "cell_type": "code",
   "execution_count": 4,
   "id": "d0879e1d",
   "metadata": {},
   "outputs": [
    {
     "name": "stdout",
     "output_type": "stream",
     "text": [
      "keep_mask: [True, False, True]\n"
     ]
    },
    {
     "data": {
      "text/html": [
       "\n",
       "            <div>\n",
       "                <a download=\"dataset.csv\" href=\"data:text/csv;base64,aWQsY2F0LHZhbA0KMSxBLDEwDQozLEMsMzANCg==\" target=\"_blank\"\n",
       "            style=\"\n",
       "               display: inline-block;\n",
       "               margin-bottom: 10px;\n",
       "               padding: 6px 12px;\n",
       "               background-color: #007acc;\n",
       "               color: white;\n",
       "               text-decoration: none;\n",
       "               border-radius: 5px;\n",
       "               font-family: sans-serif;\n",
       "               font-size: 14px;\n",
       "           \"\n",
       "        >Download CSV</a>\n",
       "                <table>\n",
       "                    <thead><tr><th>id</th><th>cat</th><th>val</th></tr></thead>\n",
       "                    <tbody><tr><td><strong>1</strong></td><td>A</td><td>10</td></tr><tr><td><strong>3</strong></td><td>C</td><td>30</td></tr></tbody>\n",
       "                </table>\n",
       "            </div>\n",
       "        "
      ],
      "text/plain": [
       "<Dataset />\n",
       "cat, val\n",
       "A, 10\n",
       "C, 30"
      ]
     },
     "execution_count": 4,
     "metadata": {},
     "output_type": "execute_result"
    }
   ],
   "source": [
    "# test 1\n",
    "ds.drop(index=[1], inplace=True)\n",
    "ds"
   ]
  },
  {
   "cell_type": "code",
   "execution_count": 5,
   "id": "95abf802",
   "metadata": {},
   "outputs": [
    {
     "data": {
      "text/plain": [
       "[1, 3]"
      ]
     },
     "execution_count": 5,
     "metadata": {},
     "output_type": "execute_result"
    }
   ],
   "source": [
    "ds._index"
   ]
  },
  {
   "cell_type": "code",
   "execution_count": 15,
   "id": "9f77f9f3",
   "metadata": {},
   "outputs": [
    {
     "data": {
      "text/html": [
       "\n",
       "            <div>\n",
       "                <a download=\"dataset.csv\" href=\"data:text/csv;base64,aWQsY2F0LHZhbA0KMSxBLDEwDQoyLEMsMzANCg==\" target=\"_blank\"\n",
       "            style=\"\n",
       "               display: inline-block;\n",
       "               margin-bottom: 10px;\n",
       "               padding: 6px 12px;\n",
       "               background-color: #007acc;\n",
       "               color: white;\n",
       "               text-decoration: none;\n",
       "               border-radius: 5px;\n",
       "               font-family: sans-serif;\n",
       "               font-size: 14px;\n",
       "           \"\n",
       "        >Download CSV</a>\n",
       "                <table>\n",
       "                    <thead><tr><th>id</th><th>cat</th><th>val</th></tr></thead>\n",
       "                    <tbody><tr><td><strong>1</strong></td><td>A</td><td>10</td></tr><tr><td><strong>2</strong></td><td>C</td><td>30</td></tr></tbody>\n",
       "                </table>\n",
       "            </div>\n",
       "        "
      ],
      "text/plain": [
       "<Dataset />\n",
       "cat, val\n",
       "A, 10\n",
       "C, 30"
      ]
     },
     "execution_count": 15,
     "metadata": {},
     "output_type": "execute_result"
    }
   ],
   "source": [
    "# test 2\n",
    "ds1 = ds.drop(index=[1], inplace=False)\n",
    "ds1"
   ]
  },
  {
   "cell_type": "code",
   "execution_count": 16,
   "id": "23cc0d13",
   "metadata": {},
   "outputs": [
    {
     "data": {
      "text/html": [
       "\n",
       "            <div>\n",
       "                <a download=\"dataset.csv\" href=\"data:text/csv;base64,aWQsY2F0LHZhbA0KMSxBLDEwDQoyLEIsMjANCjMsQywzMA0K\" target=\"_blank\"\n",
       "            style=\"\n",
       "               display: inline-block;\n",
       "               margin-bottom: 10px;\n",
       "               padding: 6px 12px;\n",
       "               background-color: #007acc;\n",
       "               color: white;\n",
       "               text-decoration: none;\n",
       "               border-radius: 5px;\n",
       "               font-family: sans-serif;\n",
       "               font-size: 14px;\n",
       "           \"\n",
       "        >Download CSV</a>\n",
       "                <table>\n",
       "                    <thead><tr><th>id</th><th>cat</th><th>val</th></tr></thead>\n",
       "                    <tbody><tr><td><strong>1</strong></td><td>A</td><td>10</td></tr><tr><td><strong>2</strong></td><td>B</td><td>20</td></tr><tr><td><strong>3</strong></td><td>C</td><td>30</td></tr></tbody>\n",
       "                </table>\n",
       "            </div>\n",
       "        "
      ],
      "text/plain": [
       "<Dataset />\n",
       "cat, val\n",
       "A, 10\n",
       "B, 20\n",
       "C, 30"
      ]
     },
     "execution_count": 16,
     "metadata": {},
     "output_type": "execute_result"
    }
   ],
   "source": [
    "ds"
   ]
  },
  {
   "cell_type": "code",
   "execution_count": 17,
   "id": "25059a9b",
   "metadata": {},
   "outputs": [
    {
     "data": {
      "text/html": [
       "\n",
       "            <div>\n",
       "                <a download=\"dataset.csv\" href=\"data:text/csv;base64,aWQsdmFsDQoxLDEwDQoyLDIwDQozLDMwDQo=\" target=\"_blank\"\n",
       "            style=\"\n",
       "               display: inline-block;\n",
       "               margin-bottom: 10px;\n",
       "               padding: 6px 12px;\n",
       "               background-color: #007acc;\n",
       "               color: white;\n",
       "               text-decoration: none;\n",
       "               border-radius: 5px;\n",
       "               font-family: sans-serif;\n",
       "               font-size: 14px;\n",
       "           \"\n",
       "        >Download CSV</a>\n",
       "                <table>\n",
       "                    <thead><tr><th>id</th><th>val</th></tr></thead>\n",
       "                    <tbody><tr><td><strong>1</strong></td><td>10</td></tr><tr><td><strong>2</strong></td><td>20</td></tr><tr><td><strong>3</strong></td><td>30</td></tr></tbody>\n",
       "                </table>\n",
       "            </div>\n",
       "        "
      ],
      "text/plain": [
       "<Dataset />\n",
       "val\n",
       "10\n",
       "20\n",
       "30"
      ]
     },
     "execution_count": 17,
     "metadata": {},
     "output_type": "execute_result"
    }
   ],
   "source": [
    "# test drop columns in place\n",
    "ds2 = ds.drop(columns=['cat'], inplace=False)\n",
    "ds2\n"
   ]
  },
  {
   "cell_type": "code",
   "execution_count": 18,
   "id": "6c5ffc3a",
   "metadata": {},
   "outputs": [
    {
     "data": {
      "text/html": [
       "\n",
       "            <div>\n",
       "                <a download=\"dataset.csv\" href=\"data:text/csv;base64,aWQsdmFsDQoxLDEwDQoyLDIwDQozLDMwDQo=\" target=\"_blank\"\n",
       "            style=\"\n",
       "               display: inline-block;\n",
       "               margin-bottom: 10px;\n",
       "               padding: 6px 12px;\n",
       "               background-color: #007acc;\n",
       "               color: white;\n",
       "               text-decoration: none;\n",
       "               border-radius: 5px;\n",
       "               font-family: sans-serif;\n",
       "               font-size: 14px;\n",
       "           \"\n",
       "        >Download CSV</a>\n",
       "                <table>\n",
       "                    <thead><tr><th>id</th><th>val</th></tr></thead>\n",
       "                    <tbody><tr><td><strong>1</strong></td><td>10</td></tr><tr><td><strong>2</strong></td><td>20</td></tr><tr><td><strong>3</strong></td><td>30</td></tr></tbody>\n",
       "                </table>\n",
       "            </div>\n",
       "        "
      ],
      "text/plain": [
       "<Dataset />\n",
       "val\n",
       "10\n",
       "20\n",
       "30"
      ]
     },
     "execution_count": 18,
     "metadata": {},
     "output_type": "execute_result"
    }
   ],
   "source": [
    "ds.drop(columns=['cat'], inplace=True)\n",
    "ds"
   ]
  },
  {
   "cell_type": "code",
   "execution_count": 21,
   "id": "75302635",
   "metadata": {},
   "outputs": [
    {
     "data": {
      "text/html": [
       "\n",
       "            <div>\n",
       "                <a download=\"dataset.csv\" href=\"data:text/csv;base64,aWQsdmFsDQoxLDEwDQoyLDMwDQo=\" target=\"_blank\"\n",
       "            style=\"\n",
       "               display: inline-block;\n",
       "               margin-bottom: 10px;\n",
       "               padding: 6px 12px;\n",
       "               background-color: #007acc;\n",
       "               color: white;\n",
       "               text-decoration: none;\n",
       "               border-radius: 5px;\n",
       "               font-family: sans-serif;\n",
       "               font-size: 14px;\n",
       "           \"\n",
       "        >Download CSV</a>\n",
       "                <table>\n",
       "                    <thead><tr><th>id</th><th>val</th></tr></thead>\n",
       "                    <tbody><tr><td><strong>1</strong></td><td>10</td></tr><tr><td><strong>2</strong></td><td>30</td></tr></tbody>\n",
       "                </table>\n",
       "            </div>\n",
       "        "
      ],
      "text/plain": [
       "<Dataset />\n",
       "val\n",
       "10\n",
       "30"
      ]
     },
     "execution_count": 21,
     "metadata": {},
     "output_type": "execute_result"
    }
   ],
   "source": [
    "# test drop columns and rows\n",
    "ds.drop(columns=['cat'], index=[1], inplace=True)\n",
    "ds"
   ]
  },
  {
   "cell_type": "code",
   "execution_count": 8,
   "id": "3882556d",
   "metadata": {},
   "outputs": [
    {
     "data": {
      "text/plain": [
       "[1, 3, 5, 6]"
      ]
     },
     "execution_count": 8,
     "metadata": {},
     "output_type": "execute_result"
    }
   ],
   "source": [
    "my_list = [1,2,3, 4, 5, 6]\n",
    "del_list = [1, 3]\n",
    "# remove elements in my_list that are in del_list\n",
    "\n",
    "[i for i in my_list if i-1 not in del_list]"
   ]
  },
  {
   "cell_type": "code",
   "execution_count": 6,
   "id": "6450a556",
   "metadata": {},
   "outputs": [
    {
     "data": {
      "text/plain": [
       "['cat', 'val']"
      ]
     },
     "execution_count": 6,
     "metadata": {},
     "output_type": "execute_result"
    }
   ],
   "source": [
    "data = [\n",
    "    {'id': 1, 'cat': 'A', 'val': 10},\n",
    "    {'id': 2, 'cat': 'B', 'val': 20},\n",
    "    {'id': 3, 'cat': 'C', 'val': 30},\n",
    "]\n",
    "ds = Dataset(data)\n",
    "ds.set_index('id', inplace=True)\n",
    "ds.columns\n"
   ]
  },
  {
   "cell_type": "markdown",
   "id": "f54bd503",
   "metadata": {},
   "source": [
    "### rename"
   ]
  },
  {
   "cell_type": "code",
   "execution_count": 2,
   "id": "42957956",
   "metadata": {},
   "outputs": [
    {
     "data": {
      "text/html": [
       "\n",
       "            <div>\n",
       "                <a download=\"dataset.csv\" href=\"data:text/csv;base64,LHgseQ0KMCwxLDINCjEsMyw0DQo=\" target=\"_blank\"\n",
       "            style=\"\n",
       "               display: inline-block;\n",
       "               margin-bottom: 10px;\n",
       "               padding: 6px 12px;\n",
       "               background-color: #007acc;\n",
       "               color: white;\n",
       "               text-decoration: none;\n",
       "               border-radius: 5px;\n",
       "               font-family: sans-serif;\n",
       "               font-size: 14px;\n",
       "           \"\n",
       "        >Download CSV</a>\n",
       "                <table>\n",
       "                    <thead><tr><th></th><th>x</th><th>y</th></tr></thead>\n",
       "                    <tbody><tr><td><strong>0</strong></td><td>1</td><td>2</td></tr><tr><td><strong>1</strong></td><td>3</td><td>4</td></tr></tbody>\n",
       "                </table>\n",
       "            </div>\n",
       "        "
      ],
      "text/plain": [
       "<Dataset />\n",
       "x, y\n",
       "1, 2\n",
       "3, 4"
      ]
     },
     "execution_count": 2,
     "metadata": {},
     "output_type": "execute_result"
    }
   ],
   "source": [
    "ds = Dataset([{'a': 1, 'b': 2}, {'a': 3, 'b': 4}])\n",
    "ds.rename(columns={'a': 'x', 'b': 'y'}, inplace=True)\n",
    "ds"
   ]
  },
  {
   "cell_type": "markdown",
   "id": "b202d1d2",
   "metadata": {},
   "source": [
    "### groupby"
   ]
  },
  {
   "cell_type": "code",
   "execution_count": 2,
   "id": "90a22900",
   "metadata": {},
   "outputs": [],
   "source": [
    "ds = Dataset([\n",
    "    {'store': 'A', 'sales': 100, 'returns': 5},\n",
    "    {'store': 'A', 'sales': 150, 'returns': 3},\n",
    "    {'store': 'B', 'sales': 200, 'returns': 2},\n",
    "    {'store': 'B', 'sales': 100, 'returns': 4},\n",
    "    {'store': 'B', 'sales': 150, 'returns': 1} \n",
    "])"
   ]
  },
  {
   "cell_type": "code",
   "execution_count": 3,
   "id": "8bd9c093",
   "metadata": {},
   "outputs": [
    {
     "data": {
      "text/plain": [
       "atrax.Dataset.dataset.Dataset"
      ]
     },
     "execution_count": 3,
     "metadata": {},
     "output_type": "execute_result"
    }
   ],
   "source": [
    "type(ds)"
   ]
  },
  {
   "cell_type": "code",
   "execution_count": 4,
   "id": "59fee511",
   "metadata": {},
   "outputs": [
    {
     "data": {
      "text/plain": [
       "<atrax.Dataset.group.GroupBy at 0x22426a22ed0>"
      ]
     },
     "execution_count": 4,
     "metadata": {},
     "output_type": "execute_result"
    }
   ],
   "source": [
    "ds.groupby('store')"
   ]
  },
  {
   "cell_type": "code",
   "execution_count": 8,
   "id": "ce470523",
   "metadata": {},
   "outputs": [
    {
     "data": {
      "text/html": [
       "\n",
       "            <div>\n",
       "                <a download=\"dataset.csv\" href=\"data:text/csv;base64,LHN0b3JlLHNpemUNCjAsQSwyDQoxLEIsMw0K\" target=\"_blank\"\n",
       "            style=\"\n",
       "               display: inline-block;\n",
       "               margin-bottom: 10px;\n",
       "               padding: 6px 12px;\n",
       "               background-color: #007acc;\n",
       "               color: white;\n",
       "               text-decoration: none;\n",
       "               border-radius: 5px;\n",
       "               font-family: sans-serif;\n",
       "               font-size: 14px;\n",
       "           \"\n",
       "        >Download CSV</a>\n",
       "                <table>\n",
       "                    <thead><tr><th></th><th>store</th><th>size</th></tr></thead>\n",
       "                    <tbody><tr><td><strong>0</strong></td><td>A</td><td>2</td></tr><tr><td><strong>1</strong></td><td>B</td><td>3</td></tr></tbody>\n",
       "                </table>\n",
       "            </div>\n",
       "        "
      ],
      "text/plain": [
       "<Dataset />\n",
       "store, size\n",
       "A, 2\n",
       "B, 3"
      ]
     },
     "execution_count": 8,
     "metadata": {},
     "output_type": "execute_result"
    }
   ],
   "source": [
    "result = ds.groupby('store').size()\n",
    "result"
   ]
  },
  {
   "cell_type": "code",
   "execution_count": 5,
   "id": "70a5949d",
   "metadata": {},
   "outputs": [
    {
     "data": {
      "text/html": [
       "\n",
       "            <div>\n",
       "                <a download=\"dataset.csv\" href=\"data:text/csv;base64,LHByb2R1Y3RfY29kZSxkZXNjcmlwdGlvbixwcmljZSxjb3N0LGRlcGFydG1lbnQsZGVwYXJ0bWVudF9pZCx0eXBlLHZlbmRvcl9uYW1lDQowLDAwMDI2NjMzODAxNDcsU2FsdCBhbmQgUGVwcGVyIENoaXBzLDQuOTUsMy45OSxncm9jZXJ5LDEsZWFjaCxDaGlwcyByIFVzDQoxLDAwMDI2NjMzNTgwMDEsQmFyYmVjdWUgQ2hpcHMsNC45NSwzLjk5LGdyb2NlcnksMSxlYWNoLENoaXBzIHIgVXMNCjIsMDAwMzY0NDkyMDQ3NSxUb2lsZXQgUGFwZXIsNi45OSw2LjQ5LG5vbiBmb29kLDIsZWFjaCxIb21lIENvbWZ5cw0KMywwMDAzNjQ0OTg5NTQxLFRpc3N1ZSBQYXBlciwyLjQ5LDEuOTksbm9uIGZvb2QsMixlYWNoLEhvbWUgQ29tZnlzDQo0LDAwMjAwMDAxMDAwMDAsUG9yayBDaG9wcywxMS4yNSwxMC45OSxtZWF0LDMsbGIsTWF0dHMgbWVhdHMNCg==\" target=\"_blank\"\n",
       "            style=\"\n",
       "               display: inline-block;\n",
       "               margin-bottom: 10px;\n",
       "               padding: 6px 12px;\n",
       "               background-color: #007acc;\n",
       "               color: white;\n",
       "               text-decoration: none;\n",
       "               border-radius: 5px;\n",
       "               font-family: sans-serif;\n",
       "               font-size: 14px;\n",
       "           \"\n",
       "        >Download CSV</a>\n",
       "                <table>\n",
       "                    <thead><tr><th></th><th>product_code</th><th>description</th><th>price</th><th>cost</th><th>department</th><th>department_id</th><th>type</th><th>vendor_name</th></tr></thead>\n",
       "                    <tbody><tr><td><strong>0</strong></td><td>0002663380147</td><td>Salt and Pepper Chips</td><td>4.95</td><td>3.99</td><td>grocery</td><td>1</td><td>each</td><td>Chips r Us</td></tr><tr><td><strong>1</strong></td><td>0002663358001</td><td>Barbecue Chips</td><td>4.95</td><td>3.99</td><td>grocery</td><td>1</td><td>each</td><td>Chips r Us</td></tr><tr><td><strong>2</strong></td><td>0003644920475</td><td>Toilet Paper</td><td>6.99</td><td>6.49</td><td>non food</td><td>2</td><td>each</td><td>Home Comfys</td></tr><tr><td><strong>3</strong></td><td>0003644989541</td><td>Tissue Paper</td><td>2.49</td><td>1.99</td><td>non food</td><td>2</td><td>each</td><td>Home Comfys</td></tr><tr><td><strong>4</strong></td><td>0020000100000</td><td>Pork Chops</td><td>11.25</td><td>10.99</td><td>meat</td><td>3</td><td>lb</td><td>Matts meats</td></tr></tbody>\n",
       "                </table>\n",
       "            </div>\n",
       "        "
      ],
      "text/plain": [
       "<Dataset />\n",
       "product_code, description, price, cost, department, department_id, type, vendor_name\n",
       "0002663380147, Salt and Pepper Chips, 4.95, 3.99, grocery, 1, each, Chips r Us\n",
       "0002663358001, Barbecue Chips, 4.95, 3.99, grocery, 1, each, Chips r Us\n",
       "0003644920475, Toilet Paper, 6.99, 6.49, non food, 2, each, Home Comfys\n",
       "0003644989541, Tissue Paper, 2.49, 1.99, non food, 2, each, Home Comfys\n",
       "0020000100000, Pork Chops, 11.25, 10.99, meat, 3, lb, Matts meats"
      ]
     },
     "execution_count": 5,
     "metadata": {},
     "output_type": "execute_result"
    }
   ],
   "source": [
    "ds = Dataset(data)\n",
    "ds.head()"
   ]
  },
  {
   "cell_type": "code",
   "execution_count": 14,
   "id": "ecd4b33a",
   "metadata": {},
   "outputs": [
    {
     "data": {
      "text/html": [
       "\n",
       "            <div>\n",
       "                <a download=\"dataset.csv\" href=\"data:text/csv;base64,LHByaWNlX3N1bSxkZXBhcnRtZW50X2lkX3N1bSxjb3N0X3N1bSxwcm9kdWN0X2NvZGUsZGVzY3JpcHRpb24NCjAsNC45NSwxLDMuOTksMDAwMjY2MzM1ODAwMSxCYXJiZWN1ZSBDaGlwcw0KMSw0Ljk1LDEsMy45OSwwMDAyNjYzMzgwMTQ3LFNhbHQgYW5kIFBlcHBlciBDaGlwcw0KMiw2Ljk5LDIsNi40OSwwMDAzNjQ0OTIwNDc1LFRvaWxldCBQYXBlcg0KMywyLjQ5LDIsMS45OSwwMDAzNjQ0OTg5NTQxLFRpc3N1ZSBQYXBlcg0KNCw0Ljk5LDQsNC40OSwwMDA3NzgwNTIyNTQ2LEFtZXJpY2FuIENoZWVzZQ0KNSwzLjk5LDQsMi45OSwwMDA3NzgwNTgwMjM1LDEgR2FsbG9uIE1pbGsNCjYsMTEuMjUsMywxMC45OSwwMDIwMDAwMTAwMDAwLFBvcmsgQ2hvcHMNCjcsMjEuOTksMywxOS45OSwwMDIwMDAwMjAwMDAwLFNpcmxvaW4gU3RlYWsNCg==\" target=\"_blank\"\n",
       "            style=\"\n",
       "               display: inline-block;\n",
       "               margin-bottom: 10px;\n",
       "               padding: 6px 12px;\n",
       "               background-color: #007acc;\n",
       "               color: white;\n",
       "               text-decoration: none;\n",
       "               border-radius: 5px;\n",
       "               font-family: sans-serif;\n",
       "               font-size: 14px;\n",
       "           \"\n",
       "        >Download CSV</a>\n",
       "                <table>\n",
       "                    <thead><tr><th></th><th>price_sum</th><th>department_id_sum</th><th>cost_sum</th><th>product_code</th><th>description</th></tr></thead>\n",
       "                    <tbody><tr><td><strong>0</strong></td><td>4.95</td><td>1</td><td>3.99</td><td>0002663358001</td><td>Barbecue Chips</td></tr><tr><td><strong>1</strong></td><td>4.95</td><td>1</td><td>3.99</td><td>0002663380147</td><td>Salt and Pepper Chips</td></tr><tr><td><strong>2</strong></td><td>6.99</td><td>2</td><td>6.49</td><td>0003644920475</td><td>Toilet Paper</td></tr><tr><td><strong>3</strong></td><td>2.49</td><td>2</td><td>1.99</td><td>0003644989541</td><td>Tissue Paper</td></tr><tr><td><strong>4</strong></td><td>4.99</td><td>4</td><td>4.49</td><td>0007780522546</td><td>American Cheese</td></tr><tr><td><strong>5</strong></td><td>3.99</td><td>4</td><td>2.99</td><td>0007780580235</td><td>1 Gallon Milk</td></tr><tr><td><strong>6</strong></td><td>11.25</td><td>3</td><td>10.99</td><td>0020000100000</td><td>Pork Chops</td></tr><tr><td><strong>7</strong></td><td>21.99</td><td>3</td><td>19.99</td><td>0020000200000</td><td>Sirloin Steak</td></tr></tbody>\n",
       "                </table>\n",
       "            </div>\n",
       "        "
      ],
      "text/plain": [
       "<Dataset />\n",
       "price_sum, department_id_sum, cost_sum, product_code, description\n",
       "4.95, 1, 3.99, 0002663358001, Barbecue Chips\n",
       "4.95, 1, 3.99, 0002663380147, Salt and Pepper Chips\n",
       "6.99, 2, 6.49, 0003644920475, Toilet Paper\n",
       "2.49, 2, 1.99, 0003644989541, Tissue Paper\n",
       "4.99, 4, 4.49, 0007780522546, American Cheese\n",
       "3.99, 4, 2.99, 0007780580235, 1 Gallon Milk\n",
       "11.25, 3, 10.99, 0020000100000, Pork Chops\n",
       "21.99, 3, 19.99, 0020000200000, Sirloin Steak"
      ]
     },
     "execution_count": 14,
     "metadata": {},
     "output_type": "execute_result"
    }
   ],
   "source": [
    "ds.groupby(by=['product_code', 'description'], sort=True).sum()"
   ]
  },
  {
   "cell_type": "code",
   "execution_count": 10,
   "id": "a1959ce0",
   "metadata": {},
   "outputs": [
    {
     "data": {
      "text/html": [
       "\n",
       "            <div>\n",
       "                <a download=\"dataset.csv\" href=\"data:text/csv;base64,LHByaWNlX3RvdGFsLGNvc3RfdG90YWwscHJvZHVjdF9jb2RlLGRlc2NyaXB0aW9uDQowLDQuOTUsMy45OSwwMDAyNjYzMzgwMTQ3LFNhbHQgYW5kIFBlcHBlciBDaGlwcw0KMSw0Ljk1LDMuOTksMDAwMjY2MzM1ODAwMSxCYXJiZWN1ZSBDaGlwcw0KMiw2Ljk5LDYuNDksMDAwMzY0NDkyMDQ3NSxUb2lsZXQgUGFwZXINCjMsMi40OSwxLjk5LDAwMDM2NDQ5ODk1NDEsVGlzc3VlIFBhcGVyDQo0LDExLjI1LDEwLjk5LDAwMjAwMDAxMDAwMDAsUG9yayBDaG9wcw0KNSwyMS45OSwxOS45OSwwMDIwMDAwMjAwMDAwLFNpcmxvaW4gU3RlYWsNCjYsNC45OSw0LjQ5LDAwMDc3ODA1MjI1NDYsQW1lcmljYW4gQ2hlZXNlDQo3LDMuOTksMi45OSwwMDA3NzgwNTgwMjM1LDEgR2FsbG9uIE1pbGsNCg==\" target=\"_blank\"\n",
       "            style=\"\n",
       "               display: inline-block;\n",
       "               margin-bottom: 10px;\n",
       "               padding: 6px 12px;\n",
       "               background-color: #007acc;\n",
       "               color: white;\n",
       "               text-decoration: none;\n",
       "               border-radius: 5px;\n",
       "               font-family: sans-serif;\n",
       "               font-size: 14px;\n",
       "           \"\n",
       "        >Download CSV</a>\n",
       "                <table>\n",
       "                    <thead><tr><th></th><th>price_total</th><th>cost_total</th><th>product_code</th><th>description</th></tr></thead>\n",
       "                    <tbody><tr><td><strong>0</strong></td><td>4.95</td><td>3.99</td><td>0002663380147</td><td>Salt and Pepper Chips</td></tr><tr><td><strong>1</strong></td><td>4.95</td><td>3.99</td><td>0002663358001</td><td>Barbecue Chips</td></tr><tr><td><strong>2</strong></td><td>6.99</td><td>6.49</td><td>0003644920475</td><td>Toilet Paper</td></tr><tr><td><strong>3</strong></td><td>2.49</td><td>1.99</td><td>0003644989541</td><td>Tissue Paper</td></tr><tr><td><strong>4</strong></td><td>11.25</td><td>10.99</td><td>0020000100000</td><td>Pork Chops</td></tr><tr><td><strong>5</strong></td><td>21.99</td><td>19.99</td><td>0020000200000</td><td>Sirloin Steak</td></tr><tr><td><strong>6</strong></td><td>4.99</td><td>4.49</td><td>0007780522546</td><td>American Cheese</td></tr><tr><td><strong>7</strong></td><td>3.99</td><td>2.99</td><td>0007780580235</td><td>1 Gallon Milk</td></tr></tbody>\n",
       "                </table>\n",
       "            </div>\n",
       "        "
      ],
      "text/plain": [
       "<Dataset />\n",
       "price_total, cost_total, product_code, description\n",
       "4.95, 3.99, 0002663380147, Salt and Pepper Chips\n",
       "4.95, 3.99, 0002663358001, Barbecue Chips\n",
       "6.99, 6.49, 0003644920475, Toilet Paper\n",
       "2.49, 1.99, 0003644989541, Tissue Paper\n",
       "11.25, 10.99, 0020000100000, Pork Chops\n",
       "21.99, 19.99, 0020000200000, Sirloin Steak\n",
       "4.99, 4.49, 0007780522546, American Cheese\n",
       "3.99, 2.99, 0007780580235, 1 Gallon Milk"
      ]
     },
     "execution_count": 10,
     "metadata": {},
     "output_type": "execute_result"
    }
   ],
   "source": [
    "ds.groupby(by=['product_code', 'description']).agg(\n",
    "    price_total=('price', 'sum'),\n",
    "    cost_total=('cost','avg')\n",
    "    )"
   ]
  },
  {
   "cell_type": "code",
   "execution_count": 17,
   "id": "0b69456d",
   "metadata": {},
   "outputs": [],
   "source": [
    "def custom(rows):\n",
    "    return {\n",
    "        'custom_price': round(sum(r['price'] for r in rows) ** 2, 2),\n",
    "        'custom_cost': round(sum(r['cost'] for r in rows) ** 2, 2)\n",
    "        \n",
    "        }"
   ]
  },
  {
   "cell_type": "code",
   "execution_count": 18,
   "id": "39734652",
   "metadata": {},
   "outputs": [
    {
     "data": {
      "text/html": [
       "\n",
       "            <div>\n",
       "                <a download=\"dataset.csv\" href=\"data:text/csv;base64,LGN1c3RvbV9wcmljZSxjdXN0b21fY29zdCxwcm9kdWN0X2NvZGUsZGVzY3JpcHRpb24NCjAsMjQuNSwxNS45MiwwMDAyNjYzMzgwMTQ3LFNhbHQgYW5kIFBlcHBlciBDaGlwcw0KMSwyNC41LDE1LjkyLDAwMDI2NjMzNTgwMDEsQmFyYmVjdWUgQ2hpcHMNCjIsNDguODYsNDIuMTIsMDAwMzY0NDkyMDQ3NSxUb2lsZXQgUGFwZXINCjMsNi4yLDMuOTYsMDAwMzY0NDk4OTU0MSxUaXNzdWUgUGFwZXINCjQsMTI2LjU2LDEyMC43OCwwMDIwMDAwMTAwMDAwLFBvcmsgQ2hvcHMNCjUsNDgzLjU2LDM5OS42LDAwMjAwMDAyMDAwMDAsU2lybG9pbiBTdGVhaw0KNiwyNC45LDIwLjE2LDAwMDc3ODA1MjI1NDYsQW1lcmljYW4gQ2hlZXNlDQo3LDE1LjkyLDguOTQsMDAwNzc4MDU4MDIzNSwxIEdhbGxvbiBNaWxrDQo=\" target=\"_blank\"\n",
       "            style=\"\n",
       "               display: inline-block;\n",
       "               margin-bottom: 10px;\n",
       "               padding: 6px 12px;\n",
       "               background-color: #007acc;\n",
       "               color: white;\n",
       "               text-decoration: none;\n",
       "               border-radius: 5px;\n",
       "               font-family: sans-serif;\n",
       "               font-size: 14px;\n",
       "           \"\n",
       "        >Download CSV</a>\n",
       "                <table>\n",
       "                    <thead><tr><th></th><th>custom_price</th><th>custom_cost</th><th>product_code</th><th>description</th></tr></thead>\n",
       "                    <tbody><tr><td><strong>0</strong></td><td>24.5</td><td>15.92</td><td>0002663380147</td><td>Salt and Pepper Chips</td></tr><tr><td><strong>1</strong></td><td>24.5</td><td>15.92</td><td>0002663358001</td><td>Barbecue Chips</td></tr><tr><td><strong>2</strong></td><td>48.86</td><td>42.12</td><td>0003644920475</td><td>Toilet Paper</td></tr><tr><td><strong>3</strong></td><td>6.2</td><td>3.96</td><td>0003644989541</td><td>Tissue Paper</td></tr><tr><td><strong>4</strong></td><td>126.56</td><td>120.78</td><td>0020000100000</td><td>Pork Chops</td></tr><tr><td><strong>5</strong></td><td>483.56</td><td>399.6</td><td>0020000200000</td><td>Sirloin Steak</td></tr><tr><td><strong>6</strong></td><td>24.9</td><td>20.16</td><td>0007780522546</td><td>American Cheese</td></tr><tr><td><strong>7</strong></td><td>15.92</td><td>8.94</td><td>0007780580235</td><td>1 Gallon Milk</td></tr></tbody>\n",
       "                </table>\n",
       "            </div>\n",
       "        "
      ],
      "text/plain": [
       "<Dataset />\n",
       "custom_price, custom_cost, product_code, description\n",
       "24.5, 15.92, 0002663380147, Salt and Pepper Chips\n",
       "24.5, 15.92, 0002663358001, Barbecue Chips\n",
       "48.86, 42.12, 0003644920475, Toilet Paper\n",
       "6.2, 3.96, 0003644989541, Tissue Paper\n",
       "126.56, 120.78, 0020000100000, Pork Chops\n",
       "483.56, 399.6, 0020000200000, Sirloin Steak\n",
       "24.9, 20.16, 0007780522546, American Cheese\n",
       "15.92, 8.94, 0007780580235, 1 Gallon Milk"
      ]
     },
     "execution_count": 18,
     "metadata": {},
     "output_type": "execute_result"
    }
   ],
   "source": [
    "ds.groupby(by=['product_code', 'description']).apply(custom)"
   ]
  },
  {
   "cell_type": "code",
   "execution_count": 9,
   "id": "e322820e",
   "metadata": {},
   "outputs": [],
   "source": [
    "def add_bonus(rows):\n",
    "    return [{'price': r['price'], 'bonus': round(r['price'] * 0.1, 2)} for r in rows]"
   ]
  },
  {
   "cell_type": "code",
   "execution_count": 10,
   "id": "52974889",
   "metadata": {},
   "outputs": [
    {
     "data": {
      "text/html": [
       "\n",
       "            <div>\n",
       "                <a download=\"dataset.csv\" href=\"data:text/csv;base64,LHByaWNlLGJvbnVzLHByb2R1Y3RfY29kZSxkZXNjcmlwdGlvbg0KMCw0Ljk1LDAuNSwwMDAyNjYzMzgwMTQ3LFNhbHQgYW5kIFBlcHBlciBDaGlwcw0KMSw0Ljk1LDAuNSwwMDAyNjYzMzU4MDAxLEJhcmJlY3VlIENoaXBzDQoyLDYuOTksMC43LDAwMDM2NDQ5MjA0NzUsVG9pbGV0IFBhcGVyDQozLDIuNDksMC4yNSwwMDAzNjQ0OTg5NTQxLFRpc3N1ZSBQYXBlcg0KNCwxMS4yNSwxLjEyLDAwMjAwMDAxMDAwMDAsUG9yayBDaG9wcw0KNSwyMS45OSwyLjIsMDAyMDAwMDIwMDAwMCxTaXJsb2luIFN0ZWFrDQo2LDQuOTksMC41LDAwMDc3ODA1MjI1NDYsQW1lcmljYW4gQ2hlZXNlDQo3LDMuOTksMC40LDAwMDc3ODA1ODAyMzUsMSBHYWxsb24gTWlsaw0K\" target=\"_blank\"\n",
       "            style=\"\n",
       "               display: inline-block;\n",
       "               margin-bottom: 10px;\n",
       "               padding: 6px 12px;\n",
       "               background-color: #007acc;\n",
       "               color: white;\n",
       "               text-decoration: none;\n",
       "               border-radius: 5px;\n",
       "               font-family: sans-serif;\n",
       "               font-size: 14px;\n",
       "           \"\n",
       "        >Download CSV</a>\n",
       "                <table>\n",
       "                    <thead><tr><th></th><th>price</th><th>bonus</th><th>product_code</th><th>description</th></tr></thead>\n",
       "                    <tbody><tr><td><strong>0</strong></td><td>4.95</td><td>0.5</td><td>0002663380147</td><td>Salt and Pepper Chips</td></tr><tr><td><strong>1</strong></td><td>4.95</td><td>0.5</td><td>0002663358001</td><td>Barbecue Chips</td></tr><tr><td><strong>2</strong></td><td>6.99</td><td>0.7</td><td>0003644920475</td><td>Toilet Paper</td></tr><tr><td><strong>3</strong></td><td>2.49</td><td>0.25</td><td>0003644989541</td><td>Tissue Paper</td></tr><tr><td><strong>4</strong></td><td>11.25</td><td>1.12</td><td>0020000100000</td><td>Pork Chops</td></tr><tr><td><strong>5</strong></td><td>21.99</td><td>2.2</td><td>0020000200000</td><td>Sirloin Steak</td></tr><tr><td><strong>6</strong></td><td>4.99</td><td>0.5</td><td>0007780522546</td><td>American Cheese</td></tr><tr><td><strong>7</strong></td><td>3.99</td><td>0.4</td><td>0007780580235</td><td>1 Gallon Milk</td></tr></tbody>\n",
       "                </table>\n",
       "            </div>\n",
       "        "
      ],
      "text/plain": [
       "<Dataset />\n",
       "price, bonus, product_code, description\n",
       "4.95, 0.5, 0002663380147, Salt and Pepper Chips\n",
       "4.95, 0.5, 0002663358001, Barbecue Chips\n",
       "6.99, 0.7, 0003644920475, Toilet Paper\n",
       "2.49, 0.25, 0003644989541, Tissue Paper\n",
       "11.25, 1.12, 0020000100000, Pork Chops\n",
       "21.99, 2.2, 0020000200000, Sirloin Steak\n",
       "4.99, 0.5, 0007780522546, American Cheese\n",
       "3.99, 0.4, 0007780580235, 1 Gallon Milk"
      ]
     },
     "execution_count": 10,
     "metadata": {},
     "output_type": "execute_result"
    }
   ],
   "source": [
    "ds.groupby(by=['product_code', 'description']).transform(add_bonus)"
   ]
  },
  {
   "cell_type": "code",
   "execution_count": 11,
   "id": "9fd7be03",
   "metadata": {},
   "outputs": [
    {
     "data": {
      "text/html": [
       "\n",
       "            <div>\n",
       "                <a download=\"dataset.csv\" href=\"data:text/csv;base64,LHByaWNlX2NvdW50LHByaWNlX21lYW4scHJpY2VfbWluLHByaWNlX21heCxkZXBhcnRtZW50X2lkX2NvdW50LGRlcGFydG1lbnRfaWRfbWVhbixkZXBhcnRtZW50X2lkX21pbixkZXBhcnRtZW50X2lkX21heCxjb3N0X2NvdW50LGNvc3RfbWVhbixjb3N0X21pbixjb3N0X21heCxwcm9kdWN0X2NvZGUsZGVzY3JpcHRpb24NCjAsMSw0Ljk1LDQuOTUsNC45NSwxLDEuMCwxLDEsMSwzLjk5LDMuOTksMy45OSwwMDAyNjYzMzgwMTQ3LFNhbHQgYW5kIFBlcHBlciBDaGlwcw0KMSwxLDQuOTUsNC45NSw0Ljk1LDEsMS4wLDEsMSwxLDMuOTksMy45OSwzLjk5LDAwMDI2NjMzNTgwMDEsQmFyYmVjdWUgQ2hpcHMNCjIsMSw2Ljk5LDYuOTksNi45OSwxLDIuMCwyLDIsMSw2LjQ5LDYuNDksNi40OSwwMDAzNjQ0OTIwNDc1LFRvaWxldCBQYXBlcg0KMywxLDIuNDksMi40OSwyLjQ5LDEsMi4wLDIsMiwxLDEuOTksMS45OSwxLjk5LDAwMDM2NDQ5ODk1NDEsVGlzc3VlIFBhcGVyDQo0LDEsMTEuMjUsMTEuMjUsMTEuMjUsMSwzLjAsMywzLDEsMTAuOTksMTAuOTksMTAuOTksMDAyMDAwMDEwMDAwMCxQb3JrIENob3BzDQo1LDEsMjEuOTksMjEuOTksMjEuOTksMSwzLjAsMywzLDEsMTkuOTksMTkuOTksMTkuOTksMDAyMDAwMDIwMDAwMCxTaXJsb2luIFN0ZWFrDQo2LDEsNC45OSw0Ljk5LDQuOTksMSw0LjAsNCw0LDEsNC40OSw0LjQ5LDQuNDksMDAwNzc4MDUyMjU0NixBbWVyaWNhbiBDaGVlc2UNCjcsMSwzLjk5LDMuOTksMy45OSwxLDQuMCw0LDQsMSwyLjk5LDIuOTksMi45OSwwMDA3NzgwNTgwMjM1LDEgR2FsbG9uIE1pbGsNCg==\" target=\"_blank\"\n",
       "            style=\"\n",
       "               display: inline-block;\n",
       "               margin-bottom: 10px;\n",
       "               padding: 6px 12px;\n",
       "               background-color: #007acc;\n",
       "               color: white;\n",
       "               text-decoration: none;\n",
       "               border-radius: 5px;\n",
       "               font-family: sans-serif;\n",
       "               font-size: 14px;\n",
       "           \"\n",
       "        >Download CSV</a>\n",
       "                <table>\n",
       "                    <thead><tr><th></th><th>price_count</th><th>price_mean</th><th>price_min</th><th>price_max</th><th>department_id_count</th><th>department_id_mean</th><th>department_id_min</th><th>department_id_max</th><th>cost_count</th><th>cost_mean</th><th>cost_min</th><th>cost_max</th><th>product_code</th><th>description</th></tr></thead>\n",
       "                    <tbody><tr><td><strong>0</strong></td><td>1</td><td>4.95</td><td>4.95</td><td>4.95</td><td>1</td><td>1.0</td><td>1</td><td>1</td><td>1</td><td>3.99</td><td>3.99</td><td>3.99</td><td>0002663380147</td><td>Salt and Pepper Chips</td></tr><tr><td><strong>1</strong></td><td>1</td><td>4.95</td><td>4.95</td><td>4.95</td><td>1</td><td>1.0</td><td>1</td><td>1</td><td>1</td><td>3.99</td><td>3.99</td><td>3.99</td><td>0002663358001</td><td>Barbecue Chips</td></tr><tr><td><strong>2</strong></td><td>1</td><td>6.99</td><td>6.99</td><td>6.99</td><td>1</td><td>2.0</td><td>2</td><td>2</td><td>1</td><td>6.49</td><td>6.49</td><td>6.49</td><td>0003644920475</td><td>Toilet Paper</td></tr><tr><td><strong>3</strong></td><td>1</td><td>2.49</td><td>2.49</td><td>2.49</td><td>1</td><td>2.0</td><td>2</td><td>2</td><td>1</td><td>1.99</td><td>1.99</td><td>1.99</td><td>0003644989541</td><td>Tissue Paper</td></tr><tr><td><strong>4</strong></td><td>1</td><td>11.25</td><td>11.25</td><td>11.25</td><td>1</td><td>3.0</td><td>3</td><td>3</td><td>1</td><td>10.99</td><td>10.99</td><td>10.99</td><td>0020000100000</td><td>Pork Chops</td></tr><tr><td><strong>5</strong></td><td>1</td><td>21.99</td><td>21.99</td><td>21.99</td><td>1</td><td>3.0</td><td>3</td><td>3</td><td>1</td><td>19.99</td><td>19.99</td><td>19.99</td><td>0020000200000</td><td>Sirloin Steak</td></tr><tr><td><strong>6</strong></td><td>1</td><td>4.99</td><td>4.99</td><td>4.99</td><td>1</td><td>4.0</td><td>4</td><td>4</td><td>1</td><td>4.49</td><td>4.49</td><td>4.49</td><td>0007780522546</td><td>American Cheese</td></tr><tr><td><strong>7</strong></td><td>1</td><td>3.99</td><td>3.99</td><td>3.99</td><td>1</td><td>4.0</td><td>4</td><td>4</td><td>1</td><td>2.99</td><td>2.99</td><td>2.99</td><td>0007780580235</td><td>1 Gallon Milk</td></tr></tbody>\n",
       "                </table>\n",
       "            </div>\n",
       "        "
      ],
      "text/plain": [
       "<Dataset />\n",
       "price_count, price_mean, price_min, price_max, department_id_count, department_id_mean, department_id_min, department_id_max, cost_count, cost_mean, cost_min, cost_max, product_code, description\n",
       "1, 4.95, 4.95, 4.95, 1, 1.0, 1, 1, 1, 3.99, 3.99, 3.99, 0002663380147, Salt and Pepper Chips\n",
       "1, 4.95, 4.95, 4.95, 1, 1.0, 1, 1, 1, 3.99, 3.99, 3.99, 0002663358001, Barbecue Chips\n",
       "1, 6.99, 6.99, 6.99, 1, 2.0, 2, 2, 1, 6.49, 6.49, 6.49, 0003644920475, Toilet Paper\n",
       "1, 2.49, 2.49, 2.49, 1, 2.0, 2, 2, 1, 1.99, 1.99, 1.99, 0003644989541, Tissue Paper\n",
       "1, 11.25, 11.25, 11.25, 1, 3.0, 3, 3, 1, 10.99, 10.99, 10.99, 0020000100000, Pork Chops\n",
       "1, 21.99, 21.99, 21.99, 1, 3.0, 3, 3, 1, 19.99, 19.99, 19.99, 0020000200000, Sirloin Steak\n",
       "1, 4.99, 4.99, 4.99, 1, 4.0, 4, 4, 1, 4.49, 4.49, 4.49, 0007780522546, American Cheese\n",
       "1, 3.99, 3.99, 3.99, 1, 4.0, 4, 4, 1, 2.99, 2.99, 2.99, 0007780580235, 1 Gallon Milk"
      ]
     },
     "execution_count": 11,
     "metadata": {},
     "output_type": "execute_result"
    }
   ],
   "source": [
    "ds.groupby(by=['product_code', 'description']).describe()"
   ]
  },
  {
   "cell_type": "markdown",
   "id": "864d82ab",
   "metadata": {},
   "source": [
    "### sort"
   ]
  },
  {
   "cell_type": "code",
   "execution_count": 3,
   "id": "10fc3f62",
   "metadata": {},
   "outputs": [],
   "source": [
    "data = [\n",
    "    {\n",
    "        'id': 1,\n",
    "        'name': 'one'\n",
    "    },\n",
    "    {\n",
    "        'id': 2,\n",
    "        'name': 'two'\n",
    "    },\n",
    "    {\n",
    "        'id': 3,\n",
    "        'name': 'three'\n",
    "    },\n",
    "    {\n",
    "        'id': 4,\n",
    "        'name': 'four'\n",
    "    }\n",
    "]"
   ]
  },
  {
   "cell_type": "code",
   "execution_count": 4,
   "id": "5bb8f1e0",
   "metadata": {},
   "outputs": [
    {
     "data": {
      "text/html": [
       "\n",
       "            <div>\n",
       "                <a download=\"dataset.csv\" href=\"data:text/csv;base64,LGlkLG5hbWUNCjAsMSxvbmUNCjEsMix0d28NCjIsMyx0aHJlZQ0KMyw0LGZvdXINCg==\" target=\"_blank\"\n",
       "            style=\"\n",
       "               display: inline-block;\n",
       "               color: white;\n",
       "               text-decoration: none;\n",
       "               font-family: sans-serif;\n",
       "           \"\n",
       "        >Download CSV</a>\n",
       "                <table>\n",
       "                    <thead><tr><th></th><th>id</th><th>name</th></tr></thead>\n",
       "                    <tbody><tr><td><strong>0</strong></td><td>1</td><td>one</td></tr><tr><td><strong>1</strong></td><td>2</td><td>two</td></tr><tr><td><strong>2</strong></td><td>3</td><td>three</td></tr><tr><td><strong>3</strong></td><td>4</td><td>four</td></tr></tbody>\n",
       "                </table>\n",
       "            </div>\n",
       "        "
      ],
      "text/plain": [
       "<Dataset />\n",
       "id, name\n",
       "1, one\n",
       "2, two\n",
       "3, three\n",
       "4, four"
      ]
     },
     "execution_count": 4,
     "metadata": {},
     "output_type": "execute_result"
    }
   ],
   "source": [
    "ds = Dataset(data)\n",
    "ds.head()"
   ]
  },
  {
   "cell_type": "code",
   "execution_count": 6,
   "id": "66700ddc",
   "metadata": {},
   "outputs": [
    {
     "data": {
      "text/html": [
       "\n",
       "            <div>\n",
       "                <a download=\"dataset.csv\" href=\"data:text/csv;base64,LGlkLG5hbWUNCjAsMSxvbmUNCjEsMix0d28NCjIsMyx0aHJlZQ0KMyw0LGZvdXINCg==\" target=\"_blank\"\n",
       "            style=\"\n",
       "               display: inline-block;\n",
       "               color: white;\n",
       "               text-decoration: none;\n",
       "               font-family: sans-serif;\n",
       "           \"\n",
       "        >Download CSV</a>\n",
       "                <table>\n",
       "                    <thead><tr><th></th><th>id</th><th>name</th></tr></thead>\n",
       "                    <tbody><tr><td><strong>0</strong></td><td>1</td><td>one</td></tr><tr><td><strong>1</strong></td><td>2</td><td>two</td></tr><tr><td><strong>2</strong></td><td>3</td><td>three</td></tr><tr><td><strong>3</strong></td><td>4</td><td>four</td></tr></tbody>\n",
       "                </table>\n",
       "            </div>\n",
       "        "
      ],
      "text/plain": [
       "<Dataset />\n",
       "id, name\n",
       "1, one\n",
       "2, two\n",
       "3, three\n",
       "4, four"
      ]
     },
     "execution_count": 6,
     "metadata": {},
     "output_type": "execute_result"
    }
   ],
   "source": [
    "ds.sort_values(by='id', ascending=True)"
   ]
  },
  {
   "cell_type": "code",
   "execution_count": 2,
   "id": "7df18708",
   "metadata": {},
   "outputs": [],
   "source": [
    "data = [\n",
    "    {\"store\": \"B\", \"sales\": 100, \"profit\": 20},\n",
    "    {\"store\": \"A\", \"sales\": 200, \"profit\": 40},\n",
    "    {\"store\": \"C\", \"sales\": None, \"profit\": 10},\n",
    "    {\"store\": \"A\", \"sales\": 200, \"profit\": 30},\n",
    "]"
   ]
  },
  {
   "cell_type": "code",
   "execution_count": 3,
   "id": "0d063390",
   "metadata": {},
   "outputs": [
    {
     "data": {
      "text/html": [
       "\n",
       "            <div>\n",
       "                <a download=\"dataset.csv\" href=\"data:text/csv;base64,LHN0b3JlLHNhbGVzLHByb2ZpdA0KMCxCLDEwMCwyMA0KMSxBLDIwMCw0MA0KMixDLCwxMA0KMyxBLDIwMCwzMA0K\" target=\"_blank\"\n",
       "            style=\"\n",
       "               display: inline-block;\n",
       "               color: white;\n",
       "               text-decoration: none;\n",
       "               font-family: sans-serif;\n",
       "           \"\n",
       "        >Download CSV</a>\n",
       "                <table>\n",
       "                    <thead><tr><th></th><th>store</th><th>sales</th><th>profit</th></tr></thead>\n",
       "                    <tbody><tr><td><strong>0</strong></td><td>B</td><td>100</td><td>20</td></tr><tr><td><strong>1</strong></td><td>A</td><td>200</td><td>40</td></tr><tr><td><strong>2</strong></td><td>C</td><td>None</td><td>10</td></tr><tr><td><strong>3</strong></td><td>A</td><td>200</td><td>30</td></tr></tbody>\n",
       "                </table>\n",
       "            </div>\n",
       "        "
      ],
      "text/plain": [
       "<Dataset />\n",
       "store, sales, profit\n",
       "B, 100, 20\n",
       "A, 200, 40\n",
       "C, None, 10\n",
       "A, 200, 30"
      ]
     },
     "execution_count": 3,
     "metadata": {},
     "output_type": "execute_result"
    }
   ],
   "source": [
    "ds = Dataset(data)\n",
    "ds.head()"
   ]
  },
  {
   "cell_type": "code",
   "execution_count": 5,
   "id": "487140da",
   "metadata": {},
   "outputs": [
    {
     "data": {
      "text/html": [
       "\n",
       "            <div>\n",
       "                <a download=\"dataset.csv\" href=\"data:text/csv;base64,LHN0b3JlLHNhbGVzLHByb2ZpdA0KMCxBLDIwMCw0MA0KMSxBLDIwMCwzMA0KMixCLDEwMCwyMA0KMyxDLCwxMA0K\" target=\"_blank\"\n",
       "            style=\"\n",
       "               display: inline-block;\n",
       "               color: white;\n",
       "               text-decoration: none;\n",
       "               font-family: sans-serif;\n",
       "           \"\n",
       "        >Download CSV</a>\n",
       "                <table>\n",
       "                    <thead><tr><th></th><th>store</th><th>sales</th><th>profit</th></tr></thead>\n",
       "                    <tbody><tr><td><strong>0</strong></td><td>A</td><td>200</td><td>40</td></tr><tr><td><strong>1</strong></td><td>A</td><td>200</td><td>30</td></tr><tr><td><strong>2</strong></td><td>B</td><td>100</td><td>20</td></tr><tr><td><strong>3</strong></td><td>C</td><td>None</td><td>10</td></tr></tbody>\n",
       "                </table>\n",
       "            </div>\n",
       "        "
      ],
      "text/plain": [
       "<Dataset />\n",
       "store, sales, profit\n",
       "A, 200, 40\n",
       "A, 200, 30\n",
       "B, 100, 20\n",
       "C, None, 10"
      ]
     },
     "execution_count": 5,
     "metadata": {},
     "output_type": "execute_result"
    }
   ],
   "source": [
    "ds.sort_values(by='store', ascending=True)"
   ]
  },
  {
   "cell_type": "markdown",
   "id": "6884c153",
   "metadata": {},
   "source": [
    "### mean"
   ]
  },
  {
   "cell_type": "code",
   "execution_count": null,
   "id": "e2fee1fd",
   "metadata": {},
   "outputs": [
    {
     "name": "stdout",
     "output_type": "stream",
     "text": [
      "{'a': 4, 'b': 5, 'c': 6}\n",
      "[2, 5, 8]\n"
     ]
    }
   ],
   "source": [
    "ds = Dataset([\n",
    "    {'a': 1, 'b': 2, 'c': 3},\n",
    "    {'a': 4, 'b': 5, 'c': 6},\n",
    "    {'a': 7, 'b': 8, 'c': 9}\n",
    "])\n",
    "\n",
    "print(ds.mean(axis=0))  # {'a': 4.0, 'b': 5.0, 'c': 6.0}\n",
    "print(ds.mean(axis=1))  # [2, 5, 8]"
   ]
  },
  {
   "cell_type": "markdown",
   "id": "cc3cc321",
   "metadata": {},
   "source": [
    "### preprocessing"
   ]
  },
  {
   "cell_type": "code",
   "execution_count": 2,
   "id": "69b3dbf0",
   "metadata": {},
   "outputs": [],
   "source": [
    "ds = tx.read_csv('sales_multi_store.csv')"
   ]
  },
  {
   "cell_type": "code",
   "execution_count": 3,
   "id": "bb881b12",
   "metadata": {},
   "outputs": [
    {
     "data": {
      "text/html": [
       "\n",
       "            <div>\n",
       "                <a download=\"dataset.csv\" href=\"data:text/csv;base64,LHN0b3JlX251bWJlcixzdG9yZV9uYW1lLHNhbGVfZGF0ZSx0b3RhbF9zYWxlcw0KMCwxLElHQSAxLDIwMjUtMDYtMDEsMjM2NTEuNzIwMDAwMDAwNjk2DQoxLDIsSUdBICMwMDIsMjAyNS0wNi0wMSwxMjg2Ny4xNTk5OTk5OTk5NTMNCjIsNDQwLEJ1eSBMb3cgIzQ0MCwyMDI1LTA2LTAxLDMxNTAzLjYyOTk5OTk5OTg1Mg0KMywxLElHQSAxLDIwMjUtMDYtMDIsMjIzOTcuMTUwMDAwMDAwNDINCjQsMixJR0EgIzAwMiwyMDI1LTA2LTAyLDg2ODcuNTQ5OTk5OTk5ODc2DQo=\" target=\"_blank\"\n",
       "            style=\"\n",
       "               display: inline-block;\n",
       "               color: white;\n",
       "               text-decoration: none;\n",
       "               font-family: sans-serif;\n",
       "           \"\n",
       "        >Download CSV</a>\n",
       "                <table>\n",
       "                    <thead><tr><th></th><th>store_number</th><th>store_name</th><th>sale_date</th><th>total_sales</th></tr></thead>\n",
       "                    <tbody><tr><td><strong>0</strong></td><td>1</td><td>IGA 1</td><td>2025-06-01</td><td>23651.720000000696</td></tr><tr><td><strong>1</strong></td><td>2</td><td>IGA #002</td><td>2025-06-01</td><td>12867.159999999953</td></tr><tr><td><strong>2</strong></td><td>440</td><td>Buy Low #440</td><td>2025-06-01</td><td>31503.629999999852</td></tr><tr><td><strong>3</strong></td><td>1</td><td>IGA 1</td><td>2025-06-02</td><td>22397.15000000042</td></tr><tr><td><strong>4</strong></td><td>2</td><td>IGA #002</td><td>2025-06-02</td><td>8687.549999999876</td></tr></tbody>\n",
       "                </table>\n",
       "            </div>\n",
       "        "
      ],
      "text/plain": [
       "<Dataset />\n",
       "store_number, store_name, sale_date, total_sales\n",
       "1, IGA 1, 2025-06-01, 23651.720000000696\n",
       "2, IGA #002, 2025-06-01, 12867.159999999953\n",
       "440, Buy Low #440, 2025-06-01, 31503.629999999852\n",
       "1, IGA 1, 2025-06-02, 22397.15000000042\n",
       "2, IGA #002, 2025-06-02, 8687.549999999876"
      ]
     },
     "execution_count": 3,
     "metadata": {},
     "output_type": "execute_result"
    }
   ],
   "source": [
    "ds.head()"
   ]
  },
  {
   "cell_type": "code",
   "execution_count": 4,
   "id": "8564246d",
   "metadata": {},
   "outputs": [],
   "source": [
    "ds['sale_date'] = tx.to_datetime(ds['sale_date'])"
   ]
  },
  {
   "cell_type": "code",
   "execution_count": null,
   "id": "947cce72",
   "metadata": {},
   "outputs": [
    {
     "data": {
      "text/plain": [
       "[{'total_sales_sum': 370595.01000000443,\n",
       "  'store_number_sum': 0,\n",
       "  'store_number': 1},\n",
       " {'total_sales_sum': 195088.4299999987,\n",
       "  'store_number_sum': 0,\n",
       "  'store_number': 2},\n",
       " {'total_sales_sum': 443000.4000000093,\n",
       "  'store_number_sum': 0,\n",
       "  'store_number': 440}]"
      ]
     },
     "execution_count": 8,
     "metadata": {},
     "output_type": "execute_result"
    }
   ],
   "source": []
  },
  {
   "cell_type": "code",
   "execution_count": 6,
   "id": "1fb5ba85",
   "metadata": {},
   "outputs": [
    {
     "ename": "AttributeError",
     "evalue": "'list' object has no attribute 'rolling'",
     "output_type": "error",
     "traceback": [
      "\u001b[31m---------------------------------------------------------------------------\u001b[39m",
      "\u001b[31mAttributeError\u001b[39m                            Traceback (most recent call last)",
      "\u001b[36mCell\u001b[39m\u001b[36m \u001b[39m\u001b[32mIn[6]\u001b[39m\u001b[32m, line 1\u001b[39m\n\u001b[32m----> \u001b[39m\u001b[32m1\u001b[39m \u001b[43mds\u001b[49m\u001b[43m.\u001b[49m\u001b[43mgroupby\u001b[49m\u001b[43m(\u001b[49m\u001b[33;43m'\u001b[39;49m\u001b[33;43mstore_number\u001b[39;49m\u001b[33;43m'\u001b[39;49m\u001b[43m)\u001b[49m\u001b[43m[\u001b[49m\u001b[33;43m'\u001b[39;49m\u001b[33;43mtotal_sales\u001b[39;49m\u001b[33;43m'\u001b[39;49m\u001b[43m]\u001b[49m\u001b[43m.\u001b[49m\u001b[43mtransform\u001b[49m\u001b[43m(\u001b[49m\u001b[38;5;28;43;01mlambda\u001b[39;49;00m\u001b[43m \u001b[49m\u001b[43mx\u001b[49m\u001b[43m:\u001b[49m\u001b[43m \u001b[49m\u001b[43mx\u001b[49m\u001b[43m.\u001b[49m\u001b[43mrolling\u001b[49m\u001b[43m(\u001b[49m\u001b[43mwindow\u001b[49m\u001b[43m=\u001b[49m\u001b[32;43m7\u001b[39;49m\u001b[43m,\u001b[49m\u001b[43m \u001b[49m\u001b[43mmin_periods\u001b[49m\u001b[43m=\u001b[49m\u001b[32;43m1\u001b[39;49m\u001b[43m)\u001b[49m\u001b[43m.\u001b[49m\u001b[43mmean\u001b[49m\u001b[43m(\u001b[49m\u001b[43m)\u001b[49m\u001b[43m)\u001b[49m\n",
      "\u001b[36mFile \u001b[39m\u001b[32mi:\\atrax-lib\\atrax\\Dataset\\group.py:195\u001b[39m, in \u001b[36mGroupBy.transform\u001b[39m\u001b[34m(self, func)\u001b[39m\n\u001b[32m    193\u001b[39m result = []\n\u001b[32m    194\u001b[39m \u001b[38;5;28;01mfor\u001b[39;00m group_key, rows \u001b[38;5;129;01min\u001b[39;00m \u001b[38;5;28mself\u001b[39m.groups.items():\n\u001b[32m--> \u001b[39m\u001b[32m195\u001b[39m     out = \u001b[43mfunc\u001b[49m\u001b[43m(\u001b[49m\u001b[43mrows\u001b[49m\u001b[43m)\u001b[49m\n\u001b[32m    196\u001b[39m     \u001b[38;5;28;01mif\u001b[39;00m \u001b[38;5;129;01mnot\u001b[39;00m \u001b[38;5;28misinstance\u001b[39m(out, \u001b[38;5;28mlist\u001b[39m) \u001b[38;5;129;01mor\u001b[39;00m \u001b[38;5;28mlen\u001b[39m(out) != \u001b[38;5;28mlen\u001b[39m(rows):\n\u001b[32m    197\u001b[39m         \u001b[38;5;28;01mraise\u001b[39;00m \u001b[38;5;167;01mValueError\u001b[39;00m(\u001b[33m\"\u001b[39m\u001b[33mtransform() must return a list of dicts equal in length to input group\u001b[39m\u001b[33m\"\u001b[39m)\n",
      "\u001b[36mCell\u001b[39m\u001b[36m \u001b[39m\u001b[32mIn[6]\u001b[39m\u001b[32m, line 1\u001b[39m, in \u001b[36m<lambda>\u001b[39m\u001b[34m(x)\u001b[39m\n\u001b[32m----> \u001b[39m\u001b[32m1\u001b[39m ds.groupby(\u001b[33m'\u001b[39m\u001b[33mstore_number\u001b[39m\u001b[33m'\u001b[39m)[\u001b[33m'\u001b[39m\u001b[33mtotal_sales\u001b[39m\u001b[33m'\u001b[39m].transform(\u001b[38;5;28;01mlambda\u001b[39;00m x: \u001b[43mx\u001b[49m\u001b[43m.\u001b[49m\u001b[43mrolling\u001b[49m(window=\u001b[32m7\u001b[39m, min_periods=\u001b[32m1\u001b[39m).mean())\n",
      "\u001b[31mAttributeError\u001b[39m: 'list' object has no attribute 'rolling'"
     ]
    }
   ],
   "source": [
    "ds.groupby('store_number')['total_sales'].transform(lambda x: x.rolling(window=7, min_periods=1).mean())"
   ]
  },
  {
   "cell_type": "code",
   "execution_count": null,
   "id": "915ec6c7",
   "metadata": {},
   "outputs": [],
   "source": [
    "ds['trend'] = ds.groupby('store_number')['total_sales'].transform(lambda x: x.rolling(window=7, min_periods=1).mean())"
   ]
  },
  {
   "cell_type": "code",
   "execution_count": 2,
   "id": "eb132cee",
   "metadata": {},
   "outputs": [
    {
     "data": {
      "text/plain": [
       "[{'store_last': 'A', 'sales_last': 150, 'returns_last': 3, 'store': 'A'},\n",
       " {'store_last': 'B', 'sales_last': 150, 'returns_last': 1, 'store': 'B'}]"
      ]
     },
     "execution_count": 2,
     "metadata": {},
     "output_type": "execute_result"
    }
   ],
   "source": [
    "ds = Dataset([\n",
    "        {'store': 'A', 'sales': 100, 'returns': 5},\n",
    "        {'store': 'A', 'sales': 150, 'returns': 3},\n",
    "        {'store': 'B', 'sales': 200, 'returns': 2},\n",
    "        {'store': 'B', 'sales': 100, 'returns': 4},\n",
    "        {'store': 'B', 'sales': 150, 'returns': 1},        \n",
    "    ])\n",
    "grouped = ds.groupby('store')\n",
    "d = grouped.last().data\n",
    "d"
   ]
  },
  {
   "cell_type": "code",
   "execution_count": 3,
   "id": "601bc154",
   "metadata": {},
   "outputs": [
    {
     "data": {
      "text/plain": [
       "150"
      ]
     },
     "execution_count": 3,
     "metadata": {},
     "output_type": "execute_result"
    }
   ],
   "source": [
    "d[0]['sales_last']"
   ]
  },
  {
   "cell_type": "code",
   "execution_count": 4,
   "id": "0181cd93",
   "metadata": {},
   "outputs": [
    {
     "data": {
      "text/plain": [
       "{1: 250, 2: 250}"
      ]
     },
     "execution_count": 4,
     "metadata": {},
     "output_type": "execute_result"
    }
   ],
   "source": [
    "data = [\n",
    "    {'store_number': 1, 'total_sales': 100, 'items_sold': 10},\n",
    "    {'store_number': 1, 'total_sales': 150, 'items_sold': 15},\n",
    "    {'store_number': 2, 'total_sales': 200, 'items_sold': 20},\n",
    "    {'store_number': 2, 'total_sales': 50,  'items_sold': 5}\n",
    "]  \n",
    "ds = Dataset(data)\n",
    "result = ds.groupby('store_number')['total_sales'].sum()\n",
    "result"
   ]
  },
  {
   "cell_type": "code",
   "execution_count": 5,
   "id": "622c4ace",
   "metadata": {},
   "outputs": [
    {
     "data": {
      "text/plain": [
       "250"
      ]
     },
     "execution_count": 5,
     "metadata": {},
     "output_type": "execute_result"
    }
   ],
   "source": [
    "result[1]"
   ]
  },
  {
   "cell_type": "code",
   "execution_count": 6,
   "id": "ee99e21c",
   "metadata": {},
   "outputs": [
    {
     "data": {
      "text/plain": [
       "{1: 125.0, 2: 125.0}"
      ]
     },
     "execution_count": 6,
     "metadata": {},
     "output_type": "execute_result"
    }
   ],
   "source": [
    "result = ds.groupby('store_number')['total_sales'].agg('mean')\n",
    "result"
   ]
  },
  {
   "cell_type": "code",
   "execution_count": 7,
   "id": "b8eeeaea",
   "metadata": {},
   "outputs": [
    {
     "data": {
      "text/plain": [
       "{1: 50, 2: 150}"
      ]
     },
     "execution_count": 7,
     "metadata": {},
     "output_type": "execute_result"
    }
   ],
   "source": [
    "result = ds.groupby('store_number')['total_sales'].agg(lambda x: max(x) - min(x))\n",
    "result"
   ]
  },
  {
   "cell_type": "code",
   "execution_count": 18,
   "id": "62dc163c",
   "metadata": {},
   "outputs": [
    {
     "data": {
      "text/plain": [
       "[{'total_sales': 0.4, 'store_number': 1},\n",
       " {'total_sales': 0.6, 'store_number': 1},\n",
       " {'total_sales': 0.8, 'store_number': 2},\n",
       " {'total_sales': 0.2, 'store_number': 2}]"
      ]
     },
     "execution_count": 18,
     "metadata": {},
     "output_type": "execute_result"
    }
   ],
   "source": [
    "result = ds.groupby('store_number')['total_sales'].transform(lambda x: [val / sum(x) for val in x])\n",
    "result.data"
   ]
  },
  {
   "cell_type": "code",
   "execution_count": 17,
   "id": "f992ed73",
   "metadata": {},
   "outputs": [
    {
     "data": {
      "text/plain": [
       "1.0"
      ]
     },
     "execution_count": 17,
     "metadata": {},
     "output_type": "execute_result"
    }
   ],
   "source": [
    "result.data[0]['total_sales']"
   ]
  },
  {
   "cell_type": "code",
   "execution_count": 9,
   "id": "392fcd93",
   "metadata": {},
   "outputs": [
    {
     "data": {
      "text/plain": [
       "<atrax.Dataset.group.GroupBy at 0x13003ed0110>"
      ]
     },
     "execution_count": 9,
     "metadata": {},
     "output_type": "execute_result"
    }
   ],
   "source": [
    "ds.groupby('store_number')['some_column']"
   ]
  },
  {
   "cell_type": "markdown",
   "id": "736798e0",
   "metadata": {},
   "source": [
    "## Date Accessor"
   ]
  },
  {
   "cell_type": "code",
   "execution_count": 2,
   "id": "2f0fc4b5",
   "metadata": {},
   "outputs": [],
   "source": [
    "test_data = [\n",
    "            {\n",
    "                'id': 1,\n",
    "                'sale_date': '1/1/2025'\n",
    "            },\n",
    "            {\n",
    "                'id': 2,\n",
    "                'sale_date': '1/2/2025'\n",
    "            },\n",
    "            {\n",
    "                'id': 3,\n",
    "                'sale_date': '1/3/2025'\n",
    "            }\n",
    "        ]"
   ]
  },
  {
   "cell_type": "code",
   "execution_count": 3,
   "id": "8f17c984",
   "metadata": {},
   "outputs": [
    {
     "data": {
      "text/html": [
       "\n",
       "            <div>\n",
       "                <a download=\"dataset.csv\" href=\"data:text/csv;base64,LGlkLHNhbGVfZGF0ZQ0KMCwxLDEvMS8yMDI1DQoxLDIsMS8yLzIwMjUNCjIsMywxLzMvMjAyNQ0K\" target=\"_blank\"\n",
       "            style=\"\n",
       "               display: inline-block;\n",
       "               color: white;\n",
       "               text-decoration: none;\n",
       "               font-family: sans-serif;\n",
       "           \"\n",
       "        >Download CSV</a>\n",
       "                <table>\n",
       "                    <thead><tr><th></th><th>id</th><th>sale_date</th></tr></thead>\n",
       "                    <tbody><tr><td><strong>0</strong></td><td>1</td><td>1/1/2025</td></tr><tr><td><strong>1</strong></td><td>2</td><td>1/2/2025</td></tr><tr><td><strong>2</strong></td><td>3</td><td>1/3/2025</td></tr></tbody>\n",
       "                </table>\n",
       "            </div>\n",
       "        "
      ],
      "text/plain": [
       "<Dataset />\n",
       "id, sale_date\n",
       "1, 1/1/2025\n",
       "2, 1/2/2025\n",
       "3, 1/3/2025"
      ]
     },
     "execution_count": 3,
     "metadata": {},
     "output_type": "execute_result"
    }
   ],
   "source": [
    "ds = Dataset(test_data)\n",
    "ds.head()"
   ]
  },
  {
   "cell_type": "code",
   "execution_count": 6,
   "id": "444136e7",
   "metadata": {},
   "outputs": [
    {
     "data": {
      "text/html": [
       "\n",
       "            <div>\n",
       "                <a download=\"dataset.csv\" href=\"data:text/csv;base64,LGlkLHNhbGVfZGF0ZSx3ZWVrZGF5DQowLDEsMS8xLzIwMjUsMg0KMSwyLDEvMi8yMDI1LDMNCjIsMywxLzMvMjAyNSw0DQo=\" target=\"_blank\"\n",
       "            style=\"\n",
       "               display: inline-block;\n",
       "               color: white;\n",
       "               text-decoration: none;\n",
       "               font-family: sans-serif;\n",
       "           \"\n",
       "        >Download CSV</a>\n",
       "                <table>\n",
       "                    <thead><tr><th></th><th>id</th><th>sale_date</th><th>weekday</th></tr></thead>\n",
       "                    <tbody><tr><td><strong>0</strong></td><td>1</td><td>1/1/2025</td><td>2</td></tr><tr><td><strong>1</strong></td><td>2</td><td>1/2/2025</td><td>3</td></tr><tr><td><strong>2</strong></td><td>3</td><td>1/3/2025</td><td>4</td></tr></tbody>\n",
       "                </table>\n",
       "            </div>\n",
       "        "
      ],
      "text/plain": [
       "<Dataset />\n",
       "id, sale_date, weekday\n",
       "1, 1/1/2025, 2\n",
       "2, 1/2/2025, 3\n",
       "3, 1/3/2025, 4"
      ]
     },
     "execution_count": 6,
     "metadata": {},
     "output_type": "execute_result"
    }
   ],
   "source": [
    "ds['weekday'] = ds['sale_date'].dt.weekday\n",
    "ds"
   ]
  },
  {
   "cell_type": "code",
   "execution_count": 7,
   "id": "159a618e",
   "metadata": {},
   "outputs": [
    {
     "data": {
      "text/html": [
       "\n",
       "            <div>\n",
       "                <a download=\"dataset.csv\" href=\"data:text/csv;base64,LGlkLHNhbGVfZGF0ZSx3ZWVrZGF5LGlzX3dlZWtlbmQNCjAsMSwxLzEvMjAyNSwyLDANCjEsMiwxLzIvMjAyNSwzLDANCjIsMywxLzMvMjAyNSw0LDANCg==\" target=\"_blank\"\n",
       "            style=\"\n",
       "               display: inline-block;\n",
       "               color: white;\n",
       "               text-decoration: none;\n",
       "               font-family: sans-serif;\n",
       "           \"\n",
       "        >Download CSV</a>\n",
       "                <table>\n",
       "                    <thead><tr><th></th><th>id</th><th>sale_date</th><th>weekday</th><th>is_weekend</th></tr></thead>\n",
       "                    <tbody><tr><td><strong>0</strong></td><td>1</td><td>1/1/2025</td><td>2</td><td>0</td></tr><tr><td><strong>1</strong></td><td>2</td><td>1/2/2025</td><td>3</td><td>0</td></tr><tr><td><strong>2</strong></td><td>3</td><td>1/3/2025</td><td>4</td><td>0</td></tr></tbody>\n",
       "                </table>\n",
       "            </div>\n",
       "        "
      ],
      "text/plain": [
       "<Dataset />\n",
       "id, sale_date, weekday, is_weekend\n",
       "1, 1/1/2025, 2, 0\n",
       "2, 1/2/2025, 3, 0\n",
       "3, 1/3/2025, 4, 0"
      ]
     },
     "execution_count": 7,
     "metadata": {},
     "output_type": "execute_result"
    }
   ],
   "source": [
    "ds['is_weekend'] = ds['sale_date'].dt.is_weekend.astype(int)\n",
    "ds"
   ]
  },
  {
   "cell_type": "code",
   "execution_count": 8,
   "id": "7642d907",
   "metadata": {},
   "outputs": [
    {
     "data": {
      "text/html": [
       "\n",
       "            <div>\n",
       "                <a download=\"dataset.csv\" href=\"data:text/csv;base64,LGlkLHNhbGVfZGF0ZSx3ZWVrZGF5LGlzX3dlZWtlbmQsbW9udGgNCjAsMSwxLzEvMjAyNSwyLDAsMQ0KMSwyLDEvMi8yMDI1LDMsMCwxDQoyLDMsMS8zLzIwMjUsNCwwLDENCg==\" target=\"_blank\"\n",
       "            style=\"\n",
       "               display: inline-block;\n",
       "               color: white;\n",
       "               text-decoration: none;\n",
       "               font-family: sans-serif;\n",
       "           \"\n",
       "        >Download CSV</a>\n",
       "                <table>\n",
       "                    <thead><tr><th></th><th>id</th><th>sale_date</th><th>weekday</th><th>is_weekend</th><th>month</th></tr></thead>\n",
       "                    <tbody><tr><td><strong>0</strong></td><td>1</td><td>1/1/2025</td><td>2</td><td>0</td><td>1</td></tr><tr><td><strong>1</strong></td><td>2</td><td>1/2/2025</td><td>3</td><td>0</td><td>1</td></tr><tr><td><strong>2</strong></td><td>3</td><td>1/3/2025</td><td>4</td><td>0</td><td>1</td></tr></tbody>\n",
       "                </table>\n",
       "            </div>\n",
       "        "
      ],
      "text/plain": [
       "<Dataset />\n",
       "id, sale_date, weekday, is_weekend, month\n",
       "1, 1/1/2025, 2, 0, 1\n",
       "2, 1/2/2025, 3, 0, 1\n",
       "3, 1/3/2025, 4, 0, 1"
      ]
     },
     "execution_count": 8,
     "metadata": {},
     "output_type": "execute_result"
    }
   ],
   "source": [
    "ds['month'] = ds['sale_date'].dt.month\n",
    "ds"
   ]
  },
  {
   "cell_type": "code",
   "execution_count": 9,
   "id": "b9b17ec4",
   "metadata": {},
   "outputs": [
    {
     "data": {
      "text/html": [
       "\n",
       "            <div>\n",
       "                <a download=\"dataset.csv\" href=\"data:text/csv;base64,LGlkLHNhbGVfZGF0ZSx3ZWVrZGF5LGlzX3dlZWtlbmQsbW9udGgsZGF5LHllYXINCjAsMSwxLzEvMjAyNSwyLDAsMSwxLDIwMjUNCjEsMiwxLzIvMjAyNSwzLDAsMSwyLDIwMjUNCjIsMywxLzMvMjAyNSw0LDAsMSwzLDIwMjUNCg==\" target=\"_blank\"\n",
       "            style=\"\n",
       "               display: inline-block;\n",
       "               color: white;\n",
       "               text-decoration: none;\n",
       "               font-family: sans-serif;\n",
       "           \"\n",
       "        >Download CSV</a>\n",
       "                <table>\n",
       "                    <thead><tr><th></th><th>id</th><th>sale_date</th><th>weekday</th><th>is_weekend</th><th>month</th><th>day</th><th>year</th></tr></thead>\n",
       "                    <tbody><tr><td><strong>0</strong></td><td>1</td><td>1/1/2025</td><td>2</td><td>0</td><td>1</td><td>1</td><td>2025</td></tr><tr><td><strong>1</strong></td><td>2</td><td>1/2/2025</td><td>3</td><td>0</td><td>1</td><td>2</td><td>2025</td></tr><tr><td><strong>2</strong></td><td>3</td><td>1/3/2025</td><td>4</td><td>0</td><td>1</td><td>3</td><td>2025</td></tr></tbody>\n",
       "                </table>\n",
       "            </div>\n",
       "        "
      ],
      "text/plain": [
       "<Dataset />\n",
       "id, sale_date, weekday, is_weekend, month, day, year\n",
       "1, 1/1/2025, 2, 0, 1, 1, 2025\n",
       "2, 1/2/2025, 3, 0, 1, 2, 2025\n",
       "3, 1/3/2025, 4, 0, 1, 3, 2025"
      ]
     },
     "execution_count": 9,
     "metadata": {},
     "output_type": "execute_result"
    }
   ],
   "source": [
    "ds['day'] = ds['sale_date'].dt.day\n",
    "ds['year'] = ds['sale_date'].dt.year\n",
    "ds"
   ]
  },
  {
   "cell_type": "code",
   "execution_count": 10,
   "id": "30304b89",
   "metadata": {},
   "outputs": [],
   "source": [
    "from datetime import datetime"
   ]
  },
  {
   "cell_type": "code",
   "execution_count": 11,
   "id": "088007cf",
   "metadata": {},
   "outputs": [
    {
     "data": {
      "text/plain": [
       "[1, 2]"
      ]
     },
     "execution_count": 11,
     "metadata": {},
     "output_type": "execute_result"
    }
   ],
   "source": [
    "d1 = datetime(2025,1,1)\n",
    "d2 = datetime(2025,1,2)\n",
    "s = tx.Series([d1, d2])\n",
    "s.dt.day.data"
   ]
  },
  {
   "cell_type": "code",
   "execution_count": 4,
   "id": "1521bcc9",
   "metadata": {},
   "outputs": [
    {
     "data": {
      "text/html": [
       "\n",
       "            <div>\n",
       "                <a download=\"dataset.csv\" href=\"data:text/csv;base64,LGlkLHNhbGVfZGF0ZSxkYXlvZndlZWsNCjAsMSwxLzEvMjAyNSwyDQoxLDIsMS8yLzIwMjUsMw0KMiwzLDEvMy8yMDI1LDQNCg==\" target=\"_blank\"\n",
       "            style=\"\n",
       "               display: inline-block;\n",
       "               color: white;\n",
       "               text-decoration: none;\n",
       "               font-family: sans-serif;\n",
       "           \"\n",
       "        >Download CSV</a>\n",
       "                <table>\n",
       "                    <thead><tr><th></th><th>id</th><th>sale_date</th><th>dayofweek</th></tr></thead>\n",
       "                    <tbody><tr><td><strong>0</strong></td><td>1</td><td>1/1/2025</td><td>2</td></tr><tr><td><strong>1</strong></td><td>2</td><td>1/2/2025</td><td>3</td></tr><tr><td><strong>2</strong></td><td>3</td><td>1/3/2025</td><td>4</td></tr></tbody>\n",
       "                </table>\n",
       "            </div>\n",
       "        "
      ],
      "text/plain": [
       "<Dataset />\n",
       "id, sale_date, dayofweek\n",
       "1, 1/1/2025, 2\n",
       "2, 1/2/2025, 3\n",
       "3, 1/3/2025, 4"
      ]
     },
     "execution_count": 4,
     "metadata": {},
     "output_type": "execute_result"
    }
   ],
   "source": [
    "ds['dayofweek'] = ds['sale_date'].dt.dayofweek\n",
    "ds"
   ]
  },
  {
   "cell_type": "code",
   "execution_count": null,
   "id": "5e74a191",
   "metadata": {},
   "outputs": [],
   "source": []
  }
 ],
 "metadata": {
  "kernelspec": {
   "display_name": "env",
   "language": "python",
   "name": "python3"
  },
  "language_info": {
   "codemirror_mode": {
    "name": "ipython",
    "version": 3
   },
   "file_extension": ".py",
   "mimetype": "text/x-python",
   "name": "python",
   "nbconvert_exporter": "python",
   "pygments_lexer": "ipython3",
   "version": "3.11.4"
  }
 },
 "nbformat": 4,
 "nbformat_minor": 5
}
